{
  "cells": [
    {
      "cell_type": "code",
      "execution_count": null,
      "metadata": {
        "colab": {
          "base_uri": "https://localhost:8080/"
        },
        "id": "0t0bgqQS4833",
        "outputId": "a2d87f4c-f817-45b9-f052-958b3f322017"
      },
      "outputs": [
        {
          "name": "stdout",
          "output_type": "stream",
          "text": [
            "Collecting mplcyberpunk\n",
            "  Downloading mplcyberpunk-0.7.6-py3-none-any.whl.metadata (3.4 kB)\n",
            "Requirement already satisfied: matplotlib in /usr/local/lib/python3.11/dist-packages (from mplcyberpunk) (3.10.0)\n",
            "Requirement already satisfied: numpy>1.24.4 in /usr/local/lib/python3.11/dist-packages (from mplcyberpunk) (2.0.2)\n",
            "Requirement already satisfied: contourpy>=1.0.1 in /usr/local/lib/python3.11/dist-packages (from matplotlib->mplcyberpunk) (1.3.2)\n",
            "Requirement already satisfied: cycler>=0.10 in /usr/local/lib/python3.11/dist-packages (from matplotlib->mplcyberpunk) (0.12.1)\n",
            "Requirement already satisfied: fonttools>=4.22.0 in /usr/local/lib/python3.11/dist-packages (from matplotlib->mplcyberpunk) (4.57.0)\n",
            "Requirement already satisfied: kiwisolver>=1.3.1 in /usr/local/lib/python3.11/dist-packages (from matplotlib->mplcyberpunk) (1.4.8)\n",
            "Requirement already satisfied: packaging>=20.0 in /usr/local/lib/python3.11/dist-packages (from matplotlib->mplcyberpunk) (24.2)\n",
            "Requirement already satisfied: pillow>=8 in /usr/local/lib/python3.11/dist-packages (from matplotlib->mplcyberpunk) (11.2.1)\n",
            "Requirement already satisfied: pyparsing>=2.3.1 in /usr/local/lib/python3.11/dist-packages (from matplotlib->mplcyberpunk) (3.2.3)\n",
            "Requirement already satisfied: python-dateutil>=2.7 in /usr/local/lib/python3.11/dist-packages (from matplotlib->mplcyberpunk) (2.9.0.post0)\n",
            "Requirement already satisfied: six>=1.5 in /usr/local/lib/python3.11/dist-packages (from python-dateutil>=2.7->matplotlib->mplcyberpunk) (1.17.0)\n",
            "Downloading mplcyberpunk-0.7.6-py3-none-any.whl (6.5 kB)\n",
            "Installing collected packages: mplcyberpunk\n",
            "Successfully installed mplcyberpunk-0.7.6\n"
          ]
        }
      ],
      "source": [
        "!pip install mplcyberpunk"
      ]
    },
    {
      "cell_type": "code",
      "execution_count": null,
      "metadata": {
        "colab": {
          "base_uri": "https://localhost:8080/"
        },
        "id": "3FmatPEccdOz",
        "outputId": "4ff38a18-0d3c-4667-ab57-87bb5f2c339d"
      },
      "outputs": [
        {
          "name": "stdout",
          "output_type": "stream",
          "text": [
            "Collecting optuna\n",
            "  Downloading optuna-4.3.0-py3-none-any.whl.metadata (17 kB)\n",
            "Collecting alembic>=1.5.0 (from optuna)\n",
            "  Downloading alembic-1.15.2-py3-none-any.whl.metadata (7.3 kB)\n",
            "Collecting colorlog (from optuna)\n",
            "  Downloading colorlog-6.9.0-py3-none-any.whl.metadata (10 kB)\n",
            "Requirement already satisfied: numpy in /usr/local/lib/python3.11/dist-packages (from optuna) (2.0.2)\n",
            "Requirement already satisfied: packaging>=20.0 in /usr/local/lib/python3.11/dist-packages (from optuna) (24.2)\n",
            "Requirement already satisfied: sqlalchemy>=1.4.2 in /usr/local/lib/python3.11/dist-packages (from optuna) (2.0.40)\n",
            "Requirement already satisfied: tqdm in /usr/local/lib/python3.11/dist-packages (from optuna) (4.67.1)\n",
            "Requirement already satisfied: PyYAML in /usr/local/lib/python3.11/dist-packages (from optuna) (6.0.2)\n",
            "Requirement already satisfied: Mako in /usr/lib/python3/dist-packages (from alembic>=1.5.0->optuna) (1.1.3)\n",
            "Requirement already satisfied: typing-extensions>=4.12 in /usr/local/lib/python3.11/dist-packages (from alembic>=1.5.0->optuna) (4.13.2)\n",
            "Requirement already satisfied: greenlet>=1 in /usr/local/lib/python3.11/dist-packages (from sqlalchemy>=1.4.2->optuna) (3.2.1)\n",
            "Downloading optuna-4.3.0-py3-none-any.whl (386 kB)\n",
            "\u001b[2K   \u001b[90m━━━━━━━━━━━━━━━━━━━━━━━━━━━━━━━━━━━━━━━━\u001b[0m \u001b[32m386.6/386.6 kB\u001b[0m \u001b[31m22.9 MB/s\u001b[0m eta \u001b[36m0:00:00\u001b[0m\n",
            "\u001b[?25hDownloading alembic-1.15.2-py3-none-any.whl (231 kB)\n",
            "\u001b[2K   \u001b[90m━━━━━━━━━━━━━━━━━━━━━━━━━━━━━━━━━━━━━━━━\u001b[0m \u001b[32m231.9/231.9 kB\u001b[0m \u001b[31m21.1 MB/s\u001b[0m eta \u001b[36m0:00:00\u001b[0m\n",
            "\u001b[?25hDownloading colorlog-6.9.0-py3-none-any.whl (11 kB)\n",
            "Installing collected packages: colorlog, alembic, optuna\n",
            "Successfully installed alembic-1.15.2 colorlog-6.9.0 optuna-4.3.0\n"
          ]
        }
      ],
      "source": [
        "!pip install optuna"
      ]
    },
    {
      "cell_type": "markdown",
      "metadata": {
        "id": "HX2rIJgq0i4K"
      },
      "source": [
        "DENSENET-121 OPTUNA HPO ACC"
      ]
    },
    {
      "cell_type": "code",
      "execution_count": null,
      "metadata": {
        "colab": {
          "base_uri": "https://localhost:8080/",
          "height": 1000
        },
        "id": "NQuE4Jd4KCC9",
        "outputId": "07633f29-5971-4a2b-a996-3575ab4a04e3"
      },
      "outputs": [
        {
          "name": "stdout",
          "output_type": "stream",
          "text": [
            "GPU bulundu: [PhysicalDevice(name='/physical_device:GPU:0', device_type='GPU')]\n",
            "Drive already mounted at /content/drive; to attempt to forcibly remount, call drive.mount(\"/content/drive\", force_remount=True).\n",
            "Found 2870 images belonging to 4 classes.\n",
            "Found 394 images belonging to 4 classes.\n"
          ]
        },
        {
          "name": "stderr",
          "output_type": "stream",
          "text": [
            "[I 2025-04-25 12:16:58,178] A new study created in memory with name: no-name-029d51f3-1ffd-47cc-acbc-32750ff13a51\n"
          ]
        },
        {
          "name": "stdout",
          "output_type": "stream",
          "text": [
            "Downloading data from https://storage.googleapis.com/tensorflow/keras-applications/densenet/densenet121_weights_tf_dim_ordering_tf_kernels_notop.h5\n",
            "\u001b[1m29084464/29084464\u001b[0m \u001b[32m━━━━━━━━━━━━━━━━━━━━\u001b[0m\u001b[37m\u001b[0m \u001b[1m0s\u001b[0m 0us/step\n"
          ]
        },
        {
          "name": "stderr",
          "output_type": "stream",
          "text": [
            "/usr/local/lib/python3.11/dist-packages/keras/src/trainers/data_adapters/py_dataset_adapter.py:121: UserWarning: Your `PyDataset` class should call `super().__init__(**kwargs)` in its constructor. `**kwargs` can include `workers`, `use_multiprocessing`, `max_queue_size`. Do not pass these arguments to `fit()`, as they will be ignored.\n",
            "  self._warn_if_super_not_called()\n",
            "[I 2025-04-25 12:40:58,613] Trial 0 finished with value: 0.7233502268791199 and parameters: {'learning_rate': 0.0006944320128191022, 'dropout_rate': 0.1687523048467361, 'units': 197}. Best is trial 0 with value: 0.7233502268791199.\n",
            "[I 2025-04-25 12:46:00,268] Trial 1 finished with value: 0.46700507402420044 and parameters: {'learning_rate': 2.006234641886274e-05, 'dropout_rate': 0.12996972841026194, 'units': 499}. Best is trial 0 with value: 0.7233502268791199.\n",
            "[I 2025-04-25 12:51:50,567] Trial 2 finished with value: 0.510152280330658 and parameters: {'learning_rate': 4.479613056944098e-05, 'dropout_rate': 0.3997523562733125, 'units': 277}. Best is trial 0 with value: 0.7233502268791199.\n",
            "[I 2025-04-25 12:56:53,107] Trial 3 finished with value: 0.6903553009033203 and parameters: {'learning_rate': 0.0009579989186447236, 'dropout_rate': 0.6157535046376386, 'units': 273}. Best is trial 0 with value: 0.7233502268791199.\n",
            "[I 2025-04-25 13:01:58,533] Trial 4 finished with value: 0.7157360315322876 and parameters: {'learning_rate': 0.009376376790827257, 'dropout_rate': 0.19160222989854506, 'units': 507}. Best is trial 0 with value: 0.7233502268791199.\n",
            "[I 2025-04-25 13:07:28,332] Trial 5 finished with value: 0.6294416189193726 and parameters: {'learning_rate': 0.0001258441780640179, 'dropout_rate': 0.15947102689938777, 'units': 202}. Best is trial 0 with value: 0.7233502268791199.\n",
            "[I 2025-04-25 13:12:58,034] Trial 6 finished with value: 0.7411167621612549 and parameters: {'learning_rate': 0.0005984340549095538, 'dropout_rate': 0.1714308190622083, 'units': 423}. Best is trial 6 with value: 0.7411167621612549.\n",
            "[I 2025-04-25 13:17:54,813] Trial 7 finished with value: 0.6522842645645142 and parameters: {'learning_rate': 0.00012412178516578895, 'dropout_rate': 0.16181953524196493, 'units': 272}. Best is trial 6 with value: 0.7411167621612549.\n",
            "[I 2025-04-25 13:22:50,256] Trial 8 finished with value: 0.6319797039031982 and parameters: {'learning_rate': 0.00018561369780733448, 'dropout_rate': 0.69917484737857, 'units': 475}. Best is trial 6 with value: 0.7411167621612549.\n",
            "[I 2025-04-25 13:27:45,636] Trial 9 finished with value: 0.6878172755241394 and parameters: {'learning_rate': 0.0004331089375853994, 'dropout_rate': 0.4491870154008777, 'units': 352}. Best is trial 6 with value: 0.7411167621612549.\n"
          ]
        },
        {
          "name": "stdout",
          "output_type": "stream",
          "text": [
            "Epoch 1/20\n",
            "\u001b[1m90/90\u001b[0m \u001b[32m━━━━━━━━━━━━━━━━━━━━\u001b[0m\u001b[37m\u001b[0m \u001b[1m0s\u001b[0m 2s/step - accuracy: 0.7564 - loss: 0.6237   "
          ]
        },
        {
          "name": "stderr",
          "output_type": "stream",
          "text": [
            "WARNING:absl:You are saving your model as an HDF5 file via `model.save()` or `keras.saving.save_model(model)`. This file format is considered legacy. We recommend using instead the native Keras format, e.g. `model.save('my_model.keras')` or `keras.saving.save_model(model, 'my_model.keras')`. \n"
          ]
        },
        {
          "name": "stdout",
          "output_type": "stream",
          "text": [
            "\b\b\b\b\b\b\b\b\b\b\b\b\b\b\b\b\b\b\b\b\b\b\b\b\b\b\b\b\b\b\b\b\b\b\b\b\b\b\b\b\b\b\b\b\b\b\b\b\b\b\b\b\b\b\b\b\b\b\b\b\b\b\b\b\b\b\b\b\b\b\b\r\u001b[1m90/90\u001b[0m \u001b[32m━━━━━━━━━━━━━━━━━━━━\u001b[0m\u001b[37m\u001b[0m \u001b[1m329s\u001b[0m 2s/step - accuracy: 0.7573 - loss: 0.6219 - val_accuracy: 0.4213 - val_loss: 18.2386\n",
            "Epoch 2/20\n",
            "\u001b[1m90/90\u001b[0m \u001b[32m━━━━━━━━━━━━━━━━━━━━\u001b[0m\u001b[37m\u001b[0m \u001b[1m0s\u001b[0m 585ms/step - accuracy: 0.9123 - loss: 0.2537"
          ]
        },
        {
          "name": "stderr",
          "output_type": "stream",
          "text": [
            "WARNING:absl:You are saving your model as an HDF5 file via `model.save()` or `keras.saving.save_model(model)`. This file format is considered legacy. We recommend using instead the native Keras format, e.g. `model.save('my_model.keras')` or `keras.saving.save_model(model, 'my_model.keras')`. \n"
          ]
        },
        {
          "name": "stdout",
          "output_type": "stream",
          "text": [
            "\b\b\b\b\b\b\b\b\b\b\b\b\b\b\b\b\b\b\b\b\b\b\b\b\b\b\b\b\b\b\b\b\b\b\b\b\b\b\b\b\b\b\b\b\b\b\b\b\b\b\b\b\b\b\b\b\b\b\b\b\b\b\b\b\b\b\b\b\b\b\b\b\b\b\r\u001b[1m90/90\u001b[0m \u001b[32m━━━━━━━━━━━━━━━━━━━━\u001b[0m\u001b[37m\u001b[0m \u001b[1m56s\u001b[0m 624ms/step - accuracy: 0.9123 - loss: 0.2536 - val_accuracy: 0.5660 - val_loss: 1.7277\n",
            "Epoch 3/20\n",
            "\u001b[1m90/90\u001b[0m \u001b[32m━━━━━━━━━━━━━━━━━━━━\u001b[0m\u001b[37m\u001b[0m \u001b[1m56s\u001b[0m 618ms/step - accuracy: 0.9215 - loss: 0.2309 - val_accuracy: 0.5508 - val_loss: 2.2461\n",
            "Epoch 4/20\n",
            "\u001b[1m90/90\u001b[0m \u001b[32m━━━━━━━━━━━━━━━━━━━━\u001b[0m\u001b[37m\u001b[0m \u001b[1m0s\u001b[0m 578ms/step - accuracy: 0.9367 - loss: 0.1884"
          ]
        },
        {
          "name": "stderr",
          "output_type": "stream",
          "text": [
            "WARNING:absl:You are saving your model as an HDF5 file via `model.save()` or `keras.saving.save_model(model)`. This file format is considered legacy. We recommend using instead the native Keras format, e.g. `model.save('my_model.keras')` or `keras.saving.save_model(model, 'my_model.keras')`. \n"
          ]
        },
        {
          "name": "stdout",
          "output_type": "stream",
          "text": [
            "\b\b\b\b\b\b\b\b\b\b\b\b\b\b\b\b\b\b\b\b\b\b\b\b\b\b\b\b\b\b\b\b\b\b\b\b\b\b\b\b\b\b\b\b\b\b\b\b\b\b\b\b\b\b\b\b\b\b\b\b\b\b\b\b\b\b\b\b\b\b\b\b\b\b\r\u001b[1m90/90\u001b[0m \u001b[32m━━━━━━━━━━━━━━━━━━━━\u001b[0m\u001b[37m\u001b[0m \u001b[1m56s\u001b[0m 622ms/step - accuracy: 0.9366 - loss: 0.1884 - val_accuracy: 0.6878 - val_loss: 2.6156\n",
            "Epoch 5/20\n",
            "\u001b[1m90/90\u001b[0m \u001b[32m━━━━━━━━━━━━━━━━━━━━\u001b[0m\u001b[37m\u001b[0m \u001b[1m0s\u001b[0m 580ms/step - accuracy: 0.9329 - loss: 0.2040"
          ]
        },
        {
          "name": "stderr",
          "output_type": "stream",
          "text": [
            "WARNING:absl:You are saving your model as an HDF5 file via `model.save()` or `keras.saving.save_model(model)`. This file format is considered legacy. We recommend using instead the native Keras format, e.g. `model.save('my_model.keras')` or `keras.saving.save_model(model, 'my_model.keras')`. \n"
          ]
        },
        {
          "name": "stdout",
          "output_type": "stream",
          "text": [
            "\b\b\b\b\b\b\b\b\b\b\b\b\b\b\b\b\b\b\b\b\b\b\b\b\b\b\b\b\b\b\b\b\b\b\b\b\b\b\b\b\b\b\b\b\b\b\b\b\b\b\b\b\b\b\b\b\b\b\b\b\b\b\b\b\b\b\b\b\b\b\b\b\b\b\r\u001b[1m90/90\u001b[0m \u001b[32m━━━━━━━━━━━━━━━━━━━━\u001b[0m\u001b[37m\u001b[0m \u001b[1m57s\u001b[0m 626ms/step - accuracy: 0.9330 - loss: 0.2037 - val_accuracy: 0.7056 - val_loss: 1.6293\n",
            "Epoch 6/20\n",
            "\u001b[1m90/90\u001b[0m \u001b[32m━━━━━━━━━━━━━━━━━━━━\u001b[0m\u001b[37m\u001b[0m \u001b[1m55s\u001b[0m 604ms/step - accuracy: 0.9437 - loss: 0.1403 - val_accuracy: 0.6574 - val_loss: 3.3753\n",
            "Epoch 7/20\n",
            "\u001b[1m90/90\u001b[0m \u001b[32m━━━━━━━━━━━━━━━━━━━━\u001b[0m\u001b[37m\u001b[0m \u001b[1m54s\u001b[0m 601ms/step - accuracy: 0.9477 - loss: 0.1595 - val_accuracy: 0.6929 - val_loss: 2.3119\n",
            "Epoch 8/20\n",
            "\u001b[1m90/90\u001b[0m \u001b[32m━━━━━━━━━━━━━━━━━━━━\u001b[0m\u001b[37m\u001b[0m \u001b[1m54s\u001b[0m 598ms/step - accuracy: 0.9631 - loss: 0.1051 - val_accuracy: 0.4112 - val_loss: 6.3969\n"
          ]
        },
        {
          "data": {
            "image/png": "[encoded data removed]",
            "text/plain": [
              "<Figure size 1200x400 with 2 Axes>"
            ]
          },
          "metadata": {},
          "output_type": "display_data"
        },
        {
          "name": "stdout",
          "output_type": "stream",
          "text": [
            "\u001b[1m1/1\u001b[0m \u001b[32m━━━━━━━━━━━━━━━━━━━━\u001b[0m\u001b[37m\u001b[0m \u001b[1m11s\u001b[0m 11s/step\n",
            "\u001b[1m1/1\u001b[0m \u001b[32m━━━━━━━━━━━━━━━━━━━━\u001b[0m\u001b[37m\u001b[0m \u001b[1m0s\u001b[0m 132ms/step\n",
            "\u001b[1m1/1\u001b[0m \u001b[32m━━━━━━━━━━━━━━━━━━━━\u001b[0m\u001b[37m\u001b[0m \u001b[1m0s\u001b[0m 124ms/step\n",
            "\u001b[1m1/1\u001b[0m \u001b[32m━━━━━━━━━━━━━━━━━━━━\u001b[0m\u001b[37m\u001b[0m \u001b[1m0s\u001b[0m 122ms/step\n",
            "\u001b[1m1/1\u001b[0m \u001b[32m━━━━━━━━━━━━━━━━━━━━\u001b[0m\u001b[37m\u001b[0m \u001b[1m0s\u001b[0m 123ms/step\n",
            "\u001b[1m1/1\u001b[0m \u001b[32m━━━━━━━━━━━━━━━━━━━━\u001b[0m\u001b[37m\u001b[0m \u001b[1m0s\u001b[0m 118ms/step\n",
            "\u001b[1m1/1\u001b[0m \u001b[32m━━━━━━━━━━━━━━━━━━━━\u001b[0m\u001b[37m\u001b[0m \u001b[1m0s\u001b[0m 119ms/step\n",
            "\u001b[1m1/1\u001b[0m \u001b[32m━━━━━━━━━━━━━━━━━━━━\u001b[0m\u001b[37m\u001b[0m \u001b[1m0s\u001b[0m 119ms/step\n",
            "\u001b[1m1/1\u001b[0m \u001b[32m━━━━━━━━━━━━━━━━━━━━\u001b[0m\u001b[37m\u001b[0m \u001b[1m0s\u001b[0m 120ms/step\n",
            "\u001b[1m1/1\u001b[0m \u001b[32m━━━━━━━━━━━━━━━━━━━━\u001b[0m\u001b[37m\u001b[0m \u001b[1m0s\u001b[0m 122ms/step\n",
            "\u001b[1m1/1\u001b[0m \u001b[32m━━━━━━━━━━━━━━━━━━━━\u001b[0m\u001b[37m\u001b[0m \u001b[1m0s\u001b[0m 122ms/step\n",
            "\u001b[1m1/1\u001b[0m \u001b[32m━━━━━━━━━━━━━━━━━━━━\u001b[0m\u001b[37m\u001b[0m \u001b[1m0s\u001b[0m 122ms/step\n",
            "\u001b[1m1/1\u001b[0m \u001b[32m━━━━━━━━━━━━━━━━━━━━\u001b[0m\u001b[37m\u001b[0m \u001b[1m11s\u001b[0m 11s/step\n"
          ]
        },
        {
          "data": {
            "image/png": "[encoded data removed]",
            "text/plain": [
              "<Figure size 800x600 with 2 Axes>"
            ]
          },
          "metadata": {},
          "output_type": "display_data"
        },
        {
          "name": "stdout",
          "output_type": "stream",
          "text": [
            "Classification Report:\n",
            "                  precision    recall  f1-score   support\n",
            "\n",
            "    glioma_tumor       0.92      0.23      0.37       100\n",
            "meningioma_tumor       0.62      0.90      0.73       115\n",
            "        no_tumor       0.86      0.84      0.85       105\n",
            " pituitary_tumor       0.64      0.85      0.73        74\n",
            "\n",
            "        accuracy                           0.71       394\n",
            "       macro avg       0.76      0.71      0.67       394\n",
            "    weighted avg       0.76      0.71      0.67       394\n",
            "\n"
          ]
        }
      ],
      "source": [
        "import os\n",
        "import numpy as np\n",
        "import matplotlib.pyplot as plt\n",
        "import seaborn as sns\n",
        "import cv2\n",
        "import tensorflow as tf\n",
        "import optuna\n",
        "from tensorflow.keras.models import Sequential\n",
        "from tensorflow.keras.layers import GlobalAveragePooling2D, Dense, Dropout, BatchNormalization\n",
        "from tensorflow.keras.applications import DenseNet121\n",
        "from tensorflow.keras.preprocessing.image import ImageDataGenerator\n",
        "from tensorflow.keras.optimizers import Adam\n",
        "from tensorflow.keras.callbacks import EarlyStopping, ModelCheckpoint\n",
        "from sklearn.metrics import classification_report, confusion_matrix\n",
        "from google.colab import drive\n",
        "import mplcyberpunk\n",
        "\n",
        "# Stil\n",
        "plt.style.use(\"cyberpunk\")\n",
        "\n",
        "# GPU kontrolü\n",
        "physical_devices = tf.config.list_physical_devices('GPU')\n",
        "if physical_devices:\n",
        "    print(f\"GPU bulundu: {physical_devices}\")\n",
        "    tf.config.experimental.set_memory_growth(physical_devices[0], True)\n",
        "else:\n",
        "    print(\"GPU bulunamadı, CPU kullanılacak.\")\n",
        "\n",
        "# Drive bağlantısı\n",
        "drive.mount('/content/drive')\n",
        "\n",
        "# Veri yolları\n",
        "train_dir = '/content/drive/MyDrive/YSA/Training'\n",
        "test_dir = '/content/drive/MyDrive/YSA/Testing'\n",
        "\n",
        "# Görüntü boyutu\n",
        "img_size = (150, 150)\n",
        "\n",
        "# Veri ön işleme\n",
        "train_datagen = ImageDataGenerator(rescale=1./255,\n",
        "                                   rotation_range=20,\n",
        "                                   width_shift_range=0.2,\n",
        "                                   height_shift_range=0.2,\n",
        "                                   horizontal_flip=True)\n",
        "\n",
        "test_datagen = ImageDataGenerator(rescale=1./255)\n",
        "\n",
        "train_generator = train_datagen.flow_from_directory(train_dir, target_size=img_size, batch_size=32, class_mode='categorical')\n",
        "test_generator = test_datagen.flow_from_directory(test_dir, target_size=img_size, batch_size=32, class_mode='categorical')\n",
        "\n",
        "# Model oluşturma fonksiyonu\n",
        "def build_model(trial):\n",
        "    learning_rate = trial.suggest_float('learning_rate', 1e-5, 1e-2, log=True)\n",
        "    dropout_rate = trial.suggest_float('dropout_rate', 0.1, 0.7)\n",
        "    units = trial.suggest_int('units', 64, 512)\n",
        "\n",
        "    base_model = DenseNet121(weights='imagenet', include_top=False, input_shape=(150, 150, 3))\n",
        "    base_model.trainable = False\n",
        "\n",
        "    model = Sequential([\n",
        "        base_model,\n",
        "        GlobalAveragePooling2D(),\n",
        "        BatchNormalization(),\n",
        "        Dense(units, activation='relu'),\n",
        "        Dropout(dropout_rate),\n",
        "        Dense(4, activation='softmax')\n",
        "    ])\n",
        "\n",
        "    model.compile(optimizer=Adam(learning_rate=learning_rate),\n",
        "                  loss='categorical_crossentropy',\n",
        "                  metrics=['accuracy'])\n",
        "\n",
        "    history = model.fit(train_generator, validation_data=test_generator, epochs=5, verbose=0)\n",
        "    return max(history.history['val_accuracy'])\n",
        "\n",
        "# Optuna çalıştırma\n",
        "study = optuna.create_study(direction='maximize')\n",
        "study.optimize(build_model, n_trials=10)\n",
        "\n",
        "# En iyi parametrelerle final model\n",
        "best_params = study.best_params\n",
        "\n",
        "base_model = DenseNet121(weights='imagenet', include_top=False, input_shape=(150, 150, 3))\n",
        "base_model.trainable = True\n",
        "\n",
        "model = Sequential([\n",
        "    base_model,\n",
        "    GlobalAveragePooling2D(),\n",
        "    BatchNormalization(),\n",
        "    Dense(best_params['units'], activation='relu'),\n",
        "    Dropout(best_params['dropout_rate']),\n",
        "    Dense(4, activation='softmax')\n",
        "])\n",
        "\n",
        "model.compile(optimizer=Adam(learning_rate=best_params['learning_rate']),\n",
        "              loss='categorical_crossentropy',\n",
        "              metrics=['accuracy'])\n",
        "\n",
        "# Callbacks\n",
        "early_stopping = EarlyStopping(monitor='val_loss', patience=3, restore_best_weights=True)\n",
        "checkpoint = ModelCheckpoint('best_densenet_model_150x150.h5', monitor='val_accuracy', save_best_only=True, mode='max')\n",
        "callbacks = [early_stopping, checkpoint]\n",
        "\n",
        "# Eğitim\n",
        "history = model.fit(train_generator, validation_data=test_generator, epochs=20, batch_size=32, callbacks=callbacks)\n",
        "\n",
        "# Görselleştirme\n",
        "plt.figure(figsize=(12, 4))\n",
        "\n",
        "plt.subplot(1, 2, 1)\n",
        "plt.plot(history.history['accuracy'], label='Eğitim Doğruluğu')\n",
        "plt.plot(history.history['val_accuracy'], label='Doğrulama Doğruluğu')\n",
        "plt.title('Doğruluk')\n",
        "plt.xlabel('Epoch')\n",
        "plt.ylabel('Accuracy')\n",
        "plt.legend()\n",
        "\n",
        "plt.subplot(1, 2, 2)\n",
        "plt.plot(history.history['loss'], label='Eğitim Kaybı')\n",
        "plt.plot(history.history['val_loss'], label='Doğrulama Kaybı')\n",
        "plt.title('Kayıp')\n",
        "plt.xlabel('Epoch')\n",
        "plt.ylabel('Loss')\n",
        "plt.legend()\n",
        "plt.tight_layout()\n",
        "plt.show()\n",
        "\n",
        "# Tahmin\n",
        "y_true = []\n",
        "y_pred = []\n",
        "\n",
        "for i in range(len(test_generator)):\n",
        "    X, y = test_generator[i]\n",
        "    predictions = model.predict(X)\n",
        "    y_true.extend(np.argmax(y, axis=1))\n",
        "    y_pred.extend(np.argmax(predictions, axis=1))\n",
        "\n",
        "# Confusion Matrix\n",
        "cm = confusion_matrix(y_true, y_pred)\n",
        "plt.figure(figsize=(8, 6))\n",
        "sns.heatmap(cm, annot=True, fmt='d', cmap='Blues',\n",
        "            xticklabels=test_generator.class_indices.keys(),\n",
        "            yticklabels=test_generator.class_indices.keys())\n",
        "plt.xlabel('Tahmin Edilen')\n",
        "plt.ylabel('Gerçek')\n",
        "plt.title('Confusion Matrix')\n",
        "plt.show()\n",
        "\n",
        "# Classification Report\n",
        "print(\"Classification Report:\")\n",
        "print(classification_report(y_true, y_pred, target_names=test_generator.class_indices.keys()))\n"
      ]
    },
    {
      "cell_type": "markdown",
      "metadata": {
        "id": "lPWyRXRRnUMe"
      },
      "source": [
        "DENSENET-121 OPTUNA HPO F1"
      ]
    },
    {
      "cell_type": "code",
      "execution_count": null,
      "metadata": {
        "colab": {
          "base_uri": "https://localhost:8080/",
          "height": 1000
        },
        "id": "3dR_3joAnXdg",
        "outputId": "e2ecf8dd-ff19-4d98-d87d-11ec0315db63"
      },
      "outputs": [
        {
          "name": "stdout",
          "output_type": "stream",
          "text": [
            "GPU bulundu: [PhysicalDevice(name='/physical_device:GPU:0', device_type='GPU')]\n",
            "Drive already mounted at /content/drive; to attempt to forcibly remount, call drive.mount(\"/content/drive\", force_remount=True).\n",
            "Found 2880 images belonging to 4 classes.\n",
            "Found 342 images belonging to 4 classes.\n",
            "Downloading data from https://storage.googleapis.com/tensorflow/keras-applications/densenet/densenet121_weights_tf_dim_ordering_tf_kernels_notop.h5\n",
            "\u001b[1m29084464/29084464\u001b[0m \u001b[32m━━━━━━━━━━━━━━━━━━━━\u001b[0m\u001b[37m\u001b[0m \u001b[1m0s\u001b[0m 0us/step\n"
          ]
        },
        {
          "name": "stderr",
          "output_type": "stream",
          "text": [
            "/usr/local/lib/python3.11/dist-packages/keras/src/trainers/data_adapters/py_dataset_adapter.py:121: UserWarning: Your `PyDataset` class should call `super().__init__(**kwargs)` in its constructor. `**kwargs` can include `workers`, `use_multiprocessing`, `max_queue_size`. Do not pass these arguments to `fit()`, as they will be ignored.\n",
            "  self._warn_if_super_not_called()\n"
          ]
        },
        {
          "name": "stdout",
          "output_type": "stream",
          "text": [
            "Epoch 1/15\n",
            "\u001b[1m90/90\u001b[0m \u001b[32m━━━━━━━━━━━━━━━━━━━━\u001b[0m\u001b[37m\u001b[0m \u001b[1m0s\u001b[0m 8s/step - accuracy: 0.7115 - loss: 0.7922"
          ]
        },
        {
          "name": "stderr",
          "output_type": "stream",
          "text": [
            "WARNING:absl:You are saving your model as an HDF5 file via `model.save()` or `keras.saving.save_model(model)`. This file format is considered legacy. We recommend using instead the native Keras format, e.g. `model.save('my_model.keras')` or `keras.saving.save_model(model, 'my_model.keras')`. \n"
          ]
        },
        {
          "name": "stdout",
          "output_type": "stream",
          "text": [
            "\b\b\b\b\b\b\b\b\b\b\b\b\b\b\b\b\b\b\b\b\b\b\b\b\b\b\b\b\b\b\b\b\b\b\b\b\b\b\b\b\b\b\b\b\b\b\b\b\b\b\b\b\b\b\b\b\b\b\b\b\b\b\b\b\b\b\b\b\b\b\b\r\u001b[1m90/90\u001b[0m \u001b[32m━━━━━━━━━━━━━━━━━━━━\u001b[0m\u001b[37m\u001b[0m \u001b[1m1009s\u001b[0m 9s/step - accuracy: 0.7123 - loss: 0.7901 - val_accuracy: 0.3567 - val_loss: 3.7573\n",
            "Epoch 2/15\n",
            "\u001b[1m90/90\u001b[0m \u001b[32m━━━━━━━━━━━━━━━━━━━━\u001b[0m\u001b[37m\u001b[0m \u001b[1m0s\u001b[0m 337ms/step - accuracy: 0.8785 - loss: 0.3541"
          ]
        },
        {
          "name": "stderr",
          "output_type": "stream",
          "text": [
            "WARNING:absl:You are saving your model as an HDF5 file via `model.save()` or `keras.saving.save_model(model)`. This file format is considered legacy. We recommend using instead the native Keras format, e.g. `model.save('my_model.keras')` or `keras.saving.save_model(model, 'my_model.keras')`. \n"
          ]
        },
        {
          "name": "stdout",
          "output_type": "stream",
          "text": [
            "\b\b\b\b\b\b\b\b\b\b\b\b\b\b\b\b\b\b\b\b\b\b\b\b\b\b\b\b\b\b\b\b\b\b\b\b\b\b\b\b\b\b\b\b\b\b\b\b\b\b\b\b\b\b\b\b\b\b\b\b\b\b\b\b\b\b\b\b\b\b\b\b\b\b\r\u001b[1m90/90\u001b[0m \u001b[32m━━━━━━━━━━━━━━━━━━━━\u001b[0m\u001b[37m\u001b[0m \u001b[1m73s\u001b[0m 369ms/step - accuracy: 0.8784 - loss: 0.3542 - val_accuracy: 0.6754 - val_loss: 2.0406\n",
            "Epoch 3/15\n",
            "\u001b[1m90/90\u001b[0m \u001b[32m━━━━━━━━━━━━━━━━━━━━\u001b[0m\u001b[37m\u001b[0m \u001b[1m41s\u001b[0m 366ms/step - accuracy: 0.9090 - loss: 0.2817 - val_accuracy: 0.6374 - val_loss: 2.6861\n",
            "Epoch 4/15\n",
            "\u001b[1m90/90\u001b[0m \u001b[32m━━━━━━━━━━━━━━━━━━━━\u001b[0m\u001b[37m\u001b[0m \u001b[1m0s\u001b[0m 341ms/step - accuracy: 0.9198 - loss: 0.2188"
          ]
        },
        {
          "name": "stderr",
          "output_type": "stream",
          "text": [
            "WARNING:absl:You are saving your model as an HDF5 file via `model.save()` or `keras.saving.save_model(model)`. This file format is considered legacy. We recommend using instead the native Keras format, e.g. `model.save('my_model.keras')` or `keras.saving.save_model(model, 'my_model.keras')`. \n"
          ]
        },
        {
          "name": "stdout",
          "output_type": "stream",
          "text": [
            "\b\b\b\b\b\b\b\b\b\b\b\b\b\b\b\b\b\b\b\b\b\b\b\b\b\b\b\b\b\b\b\b\b\b\b\b\b\b\b\b\b\b\b\b\b\b\b\b\b\b\b\b\b\b\b\b\b\b\b\b\b\b\b\b\b\b\b\b\b\b\b\b\b\b\r\u001b[1m90/90\u001b[0m \u001b[32m━━━━━━━━━━━━━━━━━━━━\u001b[0m\u001b[37m\u001b[0m \u001b[1m34s\u001b[0m 375ms/step - accuracy: 0.9198 - loss: 0.2188 - val_accuracy: 0.8099 - val_loss: 0.6289\n",
            "Epoch 5/15\n",
            "\u001b[1m90/90\u001b[0m \u001b[32m━━━━━━━━━━━━━━━━━━━━\u001b[0m\u001b[37m\u001b[0m \u001b[1m32s\u001b[0m 349ms/step - accuracy: 0.9291 - loss: 0.2147 - val_accuracy: 0.7105 - val_loss: 1.4742\n",
            "Epoch 6/15\n",
            "\u001b[1m90/90\u001b[0m \u001b[32m━━━━━━━━━━━━━━━━━━━━\u001b[0m\u001b[37m\u001b[0m \u001b[1m0s\u001b[0m 338ms/step - accuracy: 0.9260 - loss: 0.2053"
          ]
        },
        {
          "name": "stderr",
          "output_type": "stream",
          "text": [
            "WARNING:absl:You are saving your model as an HDF5 file via `model.save()` or `keras.saving.save_model(model)`. This file format is considered legacy. We recommend using instead the native Keras format, e.g. `model.save('my_model.keras')` or `keras.saving.save_model(model, 'my_model.keras')`. \n"
          ]
        },
        {
          "name": "stdout",
          "output_type": "stream",
          "text": [
            "\b\b\b\b\b\b\b\b\b\b\b\b\b\b\b\b\b\b\b\b\b\b\b\b\b\b\b\b\b\b\b\b\b\b\b\b\b\b\b\b\b\b\b\b\b\b\b\b\b\b\b\b\b\b\b\b\b\b\b\b\b\b\b\b\b\b\b\b\b\b\b\b\b\b\r\u001b[1m90/90\u001b[0m \u001b[32m━━━━━━━━━━━━━━━━━━━━\u001b[0m\u001b[37m\u001b[0m \u001b[1m34s\u001b[0m 373ms/step - accuracy: 0.9261 - loss: 0.2050 - val_accuracy: 0.8333 - val_loss: 0.7428\n",
            "Epoch 7/15\n",
            "\u001b[1m90/90\u001b[0m \u001b[32m━━━━━━━━━━━━━━━━━━━━\u001b[0m\u001b[37m\u001b[0m \u001b[1m40s\u001b[0m 358ms/step - accuracy: 0.9444 - loss: 0.1404 - val_accuracy: 0.7778 - val_loss: 1.4360\n"
          ]
        },
        {
          "data": {
            "image/png": "[encoded data removed]",
            "text/plain": [
              "<Figure size 1200x400 with 2 Axes>"
            ]
          },
          "metadata": {},
          "output_type": "display_data"
        },
        {
          "name": "stdout",
          "output_type": "stream",
          "text": [
            "\u001b[1m1/1\u001b[0m \u001b[32m━━━━━━━━━━━━━━━━━━━━\u001b[0m\u001b[37m\u001b[0m \u001b[1m11s\u001b[0m 11s/step\n",
            "\u001b[1m1/1\u001b[0m \u001b[32m━━━━━━━━━━━━━━━━━━━━\u001b[0m\u001b[37m\u001b[0m \u001b[1m0s\u001b[0m 94ms/step\n",
            "\u001b[1m1/1\u001b[0m \u001b[32m━━━━━━━━━━━━━━━━━━━━\u001b[0m\u001b[37m\u001b[0m \u001b[1m0s\u001b[0m 89ms/step\n",
            "\u001b[1m1/1\u001b[0m \u001b[32m━━━━━━━━━━━━━━━━━━━━\u001b[0m\u001b[37m\u001b[0m \u001b[1m0s\u001b[0m 92ms/step\n",
            "\u001b[1m1/1\u001b[0m \u001b[32m━━━━━━━━━━━━━━━━━━━━\u001b[0m\u001b[37m\u001b[0m \u001b[1m0s\u001b[0m 101ms/step\n",
            "\u001b[1m1/1\u001b[0m \u001b[32m━━━━━━━━━━━━━━━━━━━━\u001b[0m\u001b[37m\u001b[0m \u001b[1m0s\u001b[0m 109ms/step\n",
            "\u001b[1m1/1\u001b[0m \u001b[32m━━━━━━━━━━━━━━━━━━━━\u001b[0m\u001b[37m\u001b[0m \u001b[1m0s\u001b[0m 109ms/step\n",
            "\u001b[1m1/1\u001b[0m \u001b[32m━━━━━━━━━━━━━━━━━━━━\u001b[0m\u001b[37m\u001b[0m \u001b[1m0s\u001b[0m 106ms/step\n",
            "\u001b[1m1/1\u001b[0m \u001b[32m━━━━━━━━━━━━━━━━━━━━\u001b[0m\u001b[37m\u001b[0m \u001b[1m0s\u001b[0m 111ms/step\n",
            "\u001b[1m1/1\u001b[0m \u001b[32m━━━━━━━━━━━━━━━━━━━━\u001b[0m\u001b[37m\u001b[0m \u001b[1m0s\u001b[0m 107ms/step\n",
            "\u001b[1m1/1\u001b[0m \u001b[32m━━━━━━━━━━━━━━━━━━━━\u001b[0m\u001b[37m\u001b[0m \u001b[1m10s\u001b[0m 10s/step\n"
          ]
        },
        {
          "data": {
            "image/png": "[encoded data removed]",
            "text/plain": [
              "<Figure size 800x600 with 2 Axes>"
            ]
          },
          "metadata": {},
          "output_type": "display_data"
        },
        {
          "name": "stdout",
          "output_type": "stream",
          "text": [
            "Classification Report:\n",
            "                  precision    recall  f1-score   support\n",
            "\n",
            "    glioma_tumor       0.76      0.71      0.73        48\n",
            "meningioma_tumor       0.71      0.91      0.80       115\n",
            "        no_tumor       0.95      0.88      0.91       105\n",
            " pituitary_tumor       0.87      0.62      0.72        74\n",
            "\n",
            "        accuracy                           0.81       342\n",
            "       macro avg       0.82      0.78      0.79       342\n",
            "    weighted avg       0.83      0.81      0.81       342\n",
            "\n"
          ]
        }
      ],
      "source": [
        "import os\n",
        "import numpy as np\n",
        "import matplotlib.pyplot as plt\n",
        "import seaborn as sns\n",
        "import tensorflow as tf\n",
        "from tensorflow.keras.models import Sequential\n",
        "from tensorflow.keras.layers import GlobalAveragePooling2D, Dense, Dropout, BatchNormalization\n",
        "from tensorflow.keras.applications import DenseNet121\n",
        "from tensorflow.keras.preprocessing.image import ImageDataGenerator\n",
        "from tensorflow.keras.optimizers import Adam\n",
        "from tensorflow.keras.callbacks import EarlyStopping, ModelCheckpoint\n",
        "from sklearn.metrics import classification_report, confusion_matrix\n",
        "from google.colab import drive\n",
        "import mplcyberpunk\n",
        "\n",
        "plt.style.use(\"cyberpunk\")\n",
        "\n",
        "# GPU kontrolü\n",
        "physical_devices = tf.config.list_physical_devices('GPU')\n",
        "if physical_devices:\n",
        "    print(f\"GPU bulundu: {physical_devices}\")\n",
        "    tf.config.experimental.set_memory_growth(physical_devices[0], True)\n",
        "else:\n",
        "    print(\"GPU bulunamadı, CPU kullanılacak.\")\n",
        "\n",
        "# Google Drive bağlantısı\n",
        "drive.mount('/content/drive')\n",
        "\n",
        "# Veri yolları\n",
        "train_dir = '/content/drive/My Drive/DataSets/Training'\n",
        "test_dir = '/content/drive/My Drive/DataSets/Testing'\n",
        "\n",
        "# 📏 Görüntü boyutu\n",
        "img_size = (150, 150)\n",
        "\n",
        "# Veri ön işleme\n",
        "train_datagen = ImageDataGenerator(rescale=1./255,\n",
        "                                   rotation_range=20,\n",
        "                                   width_shift_range=0.2,\n",
        "                                   height_shift_range=0.2,\n",
        "                                   horizontal_flip=True)\n",
        "test_datagen = ImageDataGenerator(rescale=1./255)\n",
        "\n",
        "train_generator = train_datagen.flow_from_directory(train_dir, target_size=img_size, batch_size=32, class_mode='categorical')\n",
        "test_generator = test_datagen.flow_from_directory(test_dir, target_size=img_size, batch_size=32, class_mode='categorical')\n",
        "\n",
        "# 🎯 Rastgele belirlenmiş hiperparametreler\n",
        "learning_rate = 0.0007\n",
        "dropout_rate = 0.4\n",
        "units = 256\n",
        "epochs = 15\n",
        "batch_size = 32\n",
        "\n",
        "# DenseNet121 model tanımı\n",
        "base_model = DenseNet121(weights='imagenet', include_top=False, input_shape=(150, 150, 3))\n",
        "base_model.trainable = True  # Fine-tuning açık\n",
        "\n",
        "model = Sequential([\n",
        "    base_model,\n",
        "    GlobalAveragePooling2D(),\n",
        "    BatchNormalization(),\n",
        "    Dense(units, activation='relu'),\n",
        "    Dropout(dropout_rate),\n",
        "    Dense(4, activation='softmax')\n",
        "])\n",
        "\n",
        "model.compile(optimizer=Adam(learning_rate=learning_rate),\n",
        "              loss='categorical_crossentropy',\n",
        "              metrics=['accuracy'])\n",
        "\n",
        "# Callbacks\n",
        "early_stopping = EarlyStopping(monitor='val_loss', patience=3, restore_best_weights=True)\n",
        "checkpoint = ModelCheckpoint('densenet_manual_model_150x150.h5', monitor='val_accuracy', save_best_only=True, mode='max')\n",
        "callbacks = [early_stopping, checkpoint]\n",
        "\n",
        "# Model eğitimi\n",
        "history = model.fit(train_generator, validation_data=test_generator,\n",
        "                    epochs=epochs, batch_size=batch_size, callbacks=callbacks)\n",
        "\n",
        "# Eğitim grafikleri\n",
        "plt.figure(figsize=(12, 4))\n",
        "\n",
        "plt.subplot(1, 2, 1)\n",
        "plt.plot(history.history['accuracy'], label='Eğitim Doğruluğu')\n",
        "plt.plot(history.history['val_accuracy'], label='Doğrulama Doğruluğu')\n",
        "plt.title('Doğruluk')\n",
        "plt.xlabel('Epoch')\n",
        "plt.ylabel('Accuracy')\n",
        "plt.legend()\n",
        "\n",
        "plt.subplot(1, 2, 2)\n",
        "plt.plot(history.history['loss'], label='Eğitim Kaybı')\n",
        "plt.plot(history.history['val_loss'], label='Doğrulama Kaybı')\n",
        "plt.title('Kayıp')\n",
        "plt.xlabel('Epoch')\n",
        "plt.ylabel('Loss')\n",
        "plt.legend()\n",
        "plt.tight_layout()\n",
        "plt.show()\n",
        "\n",
        "# Test sonuçları\n",
        "y_true = []\n",
        "y_pred = []\n",
        "\n",
        "for i in range(len(test_generator)):\n",
        "    X, y = test_generator[i]\n",
        "    predictions = model.predict(X)\n",
        "    y_true.extend(np.argmax(y, axis=1))\n",
        "    y_pred.extend(np.argmax(predictions, axis=1))\n",
        "\n",
        "# Confusion matrix\n",
        "cm = confusion_matrix(y_true, y_pred)\n",
        "plt.figure(figsize=(8, 6))\n",
        "sns.heatmap(cm, annot=True, fmt='d', cmap='Blues',\n",
        "            xticklabels=test_generator.class_indices.keys(),\n",
        "            yticklabels=test_generator.class_indices.keys())\n",
        "plt.xlabel('Tahmin Edilen')\n",
        "plt.ylabel('Gerçek')\n",
        "plt.title('Confusion Matrix')\n",
        "plt.show()\n",
        "\n",
        "# Classification report\n",
        "print(\"Classification Report:\")\n",
        "print(classification_report(y_true, y_pred, target_names=test_generator.class_indices.keys()))\n"
      ]
    },
    {
      "cell_type": "markdown",
      "metadata": {
        "id": "6YGyWuOW-PnG"
      },
      "source": [
        "DENSENET-121 OPTUNA HPO random parametre"
      ]
    },
    {
      "cell_type": "code",
      "execution_count": null,
      "metadata": {
        "id": "g0POe4Ud-PMQ"
      },
      "outputs": [],
      "source": [
        "import os\n",
        "import numpy as np\n",
        "import matplotlib.pyplot as plt\n",
        "import seaborn as sns\n",
        "import tensorflow as tf\n",
        "from tensorflow.keras.models import Sequential\n",
        "from tensorflow.keras.layers import GlobalAveragePooling2D, Dense, Dropout, BatchNormalization\n",
        "from tensorflow.keras.applications import DenseNet121\n",
        "from tensorflow.keras.preprocessing.image import ImageDataGenerator\n",
        "from tensorflow.keras.optimizers import Adam\n",
        "from tensorflow.keras.callbacks import EarlyStopping, ModelCheckpoint\n",
        "from sklearn.metrics import classification_report, confusion_matrix\n",
        "from google.colab import drive\n",
        "import mplcyberpunk\n",
        "\n",
        "plt.style.use(\"cyberpunk\")\n",
        "\n",
        "# GPU kontrolü\n",
        "physical_devices = tf.config.list_physical_devices('GPU')\n",
        "if physical_devices:\n",
        "    print(f\"GPU bulundu: {physical_devices}\")\n",
        "    tf.config.experimental.set_memory_growth(physical_devices[0], True)\n",
        "else:\n",
        "    print(\"GPU bulunamadı, CPU kullanılacak.\")\n",
        "\n",
        "# Google Drive bağlantısı\n",
        "drive.mount('/content/drive')\n",
        "\n",
        "# Veri yolları\n",
        "train_dir = '/content/drive/MyDrive/YSA/Training'\n",
        "test_dir = '/content/drive/MyDrive/YSA/Testing'\n",
        "\n",
        "# Veri ön işleme\n",
        "train_datagen = ImageDataGenerator(rescale=1./255,\n",
        "                                   rotation_range=20,\n",
        "                                   width_shift_range=0.2,\n",
        "                                   height_shift_range=0.2,\n",
        "                                   horizontal_flip=True)\n",
        "test_datagen = ImageDataGenerator(rescale=1./255)\n",
        "\n",
        "train_generator = train_datagen.flow_from_directory(train_dir, target_size=(224, 224), batch_size=32, class_mode='categorical')\n",
        "test_generator = test_datagen.flow_from_directory(test_dir, target_size=(224, 224), batch_size=32, class_mode='categorical')\n",
        "\n",
        "# 🎯 Rastgele belirlenmiş hiperparametreler\n",
        "learning_rate = 0.0007\n",
        "dropout_rate = 0.4\n",
        "units = 256\n",
        "epochs = 15\n",
        "batch_size = 32\n",
        "\n",
        "# DenseNet121 model tanımı\n",
        "base_model = DenseNet121(weights='imagenet', include_top=False, input_shape=(224, 224, 3))\n",
        "base_model.trainable = True  # Fine-tuning açık\n",
        "\n",
        "model = Sequential([\n",
        "    base_model,\n",
        "    GlobalAveragePooling2D(),\n",
        "    BatchNormalization(),\n",
        "    Dense(units, activation='relu'),\n",
        "    Dropout(dropout_rate),\n",
        "    Dense(4, activation='softmax')\n",
        "])\n",
        "\n",
        "model.compile(optimizer=Adam(learning_rate=learning_rate),\n",
        "              loss='categorical_crossentropy',\n",
        "              metrics=['accuracy'])\n",
        "\n",
        "# Callbacks\n",
        "early_stopping = EarlyStopping(monitor='val_loss', patience=3, restore_best_weights=True)\n",
        "checkpoint = ModelCheckpoint('densenet_manual_model.h5', monitor='val_accuracy', save_best_only=True, mode='max')\n",
        "callbacks = [early_stopping, checkpoint]\n",
        "\n",
        "# Model eğitimi\n",
        "history = model.fit(train_generator, validation_data=test_generator,\n",
        "                    epochs=epochs, batch_size=batch_size, callbacks=callbacks)\n",
        "\n",
        "# Eğitim grafikleri\n",
        "plt.figure(figsize=(12, 4))\n",
        "\n",
        "plt.subplot(1, 2, 1)\n",
        "plt.plot(history.history['accuracy'], label='Eğitim Doğruluğu')\n",
        "plt.plot(history.history['val_accuracy'], label='Doğrulama Doğruluğu')\n",
        "plt.title('Doğruluk')\n",
        "plt.xlabel('Epoch')\n",
        "plt.ylabel('Accuracy')\n",
        "plt.legend()\n",
        "\n",
        "plt.subplot(1, 2, 2)\n",
        "plt.plot(history.history['loss'], label='Eğitim Kaybı')\n",
        "plt.plot(history.history['val_loss'], label='Doğrulama Kaybı')\n",
        "plt.title('Kayıp')\n",
        "plt.xlabel('Epoch')\n",
        "plt.ylabel('Loss')\n",
        "plt.legend()\n",
        "plt.tight_layout()\n",
        "plt.show()\n",
        "\n",
        "# Test sonuçları\n",
        "y_true = []\n",
        "y_pred = []\n",
        "\n",
        "for i in range(len(test_generator)):\n",
        "    X, y = test_generator[i]\n",
        "    predictions = model.predict(X)\n",
        "    y_true.extend(np.argmax(y, axis=1))\n",
        "    y_pred.extend(np.argmax(predictions, axis=1))\n",
        "\n",
        "# Confusion matrix\n",
        "cm = confusion_matrix(y_true, y_pred)\n",
        "plt.figure(figsize=(8, 6))\n",
        "sns.heatmap(cm, annot=True, fmt='d', cmap='Blues',\n",
        "            xticklabels=test_generator.class_indices.keys(),\n",
        "            yticklabels=test_generator.class_indices.keys())\n",
        "plt.xlabel('Tahmin Edilen')\n",
        "plt.ylabel('Gerçek')\n",
        "plt.title('Confusion Matrix')\n",
        "plt.show()\n",
        "\n",
        "# Classification report\n",
        "print(\"Classification Report:\")\n",
        "print(classification_report(y_true, y_pred, target_names=test_generator.class_indices.keys()))\n"
      ]
    },
    {
      "cell_type": "markdown",
      "metadata": {
        "id": "ZWoKWXlCsIXq"
      },
      "source": [
        "FIXED ACC"
      ]
    },
    {
      "cell_type": "code",
      "execution_count": null,
      "metadata": {
        "id": "YXO9gt2esJ7t"
      },
      "outputs": [],
      "source": [
        "import os\n",
        "import numpy as np\n",
        "import matplotlib.pyplot as plt\n",
        "import seaborn as sns\n",
        "import tensorflow as tf\n",
        "import optuna\n",
        "from tensorflow.keras.models import Sequential\n",
        "from tensorflow.keras.layers import GlobalAveragePooling2D, Dense, Dropout, BatchNormalization\n",
        "from tensorflow.keras.applications import DenseNet121\n",
        "from tensorflow.keras.preprocessing.image import ImageDataGenerator\n",
        "from tensorflow.keras.optimizers import Adam\n",
        "from tensorflow.keras.callbacks import EarlyStopping, ModelCheckpoint\n",
        "from sklearn.metrics import classification_report, confusion_matrix\n",
        "from sklearn.utils.class_weight import compute_class_weight\n",
        "from google.colab import drive\n",
        "import mplcyberpunk\n",
        "\n",
        "# Stil\n",
        "plt.style.use(\"cyberpunk\")\n",
        "\n",
        "# Focal Loss Fonksiyonu\n",
        "def focal_loss(gamma=2.0, alpha=0.25):\n",
        "    def loss_fn(y_true, y_pred):\n",
        "        y_pred = tf.clip_by_value(y_pred, tf.keras.backend.epsilon(), 1. - tf.keras.backend.epsilon())\n",
        "        ce = -y_true * tf.math.log(y_pred)\n",
        "        weight = alpha * tf.pow(1 - y_pred, gamma)\n",
        "        fl = weight * ce\n",
        "        return tf.reduce_mean(fl, axis=-1)\n",
        "    return loss_fn\n",
        "\n",
        "# GPU kontrolü\n",
        "physical_devices = tf.config.list_physical_devices('GPU')\n",
        "if physical_devices:\n",
        "    print(f\"GPU bulundu: {physical_devices}\")\n",
        "    tf.config.experimental.set_memory_growth(physical_devices[0], True)\n",
        "else:\n",
        "    print(\"GPU bulunamadı, CPU kullanılacak.\")\n",
        "\n",
        "# Drive bağlantısı\n",
        "drive.mount('/content/drive')\n",
        "\n",
        "# Veri yolları\n",
        "train_dir = '/content/drive/MyDrive/YSA/Training'\n",
        "test_dir = '/content/drive/MyDrive/YSA/Testing'\n",
        "img_size = (150, 150)\n",
        "\n",
        "# Veri ön işleme\n",
        "train_datagen = ImageDataGenerator(rescale=1./255,\n",
        "                                   rotation_range=20,\n",
        "                                   width_shift_range=0.2,\n",
        "                                   height_shift_range=0.2,\n",
        "                                   horizontal_flip=True)\n",
        "\n",
        "test_datagen = ImageDataGenerator(rescale=1./255)\n",
        "\n",
        "train_generator = train_datagen.flow_from_directory(train_dir, target_size=img_size, batch_size=32, class_mode='categorical', shuffle=True)\n",
        "test_generator = test_datagen.flow_from_directory(test_dir, target_size=img_size, batch_size=32, class_mode='categorical', shuffle=False)\n",
        "\n",
        "# Class Weights Hesaplama\n",
        "labels = list(train_generator.class_indices.keys())\n",
        "y_train_labels = train_generator.classes\n",
        "class_weights_array = compute_class_weight(class_weight='balanced', classes=np.unique(y_train_labels), y=y_train_labels)\n",
        "class_weight_dict = dict(enumerate(class_weights_array))\n",
        "# İsteğe bağlı olarak bir sınıfa ekstra ağırlık verilebilir (örnek: glioma)\n",
        "class_weight_dict[0] *= 1.2  # örnek: ilk sınıf\n",
        "\n",
        "# Optuna HPO Fonksiyonu\n",
        "def build_model(trial):\n",
        "    learning_rate = trial.suggest_float('learning_rate', 1e-5, 1e-2, log=True)\n",
        "    dropout_rate = trial.suggest_float('dropout_rate', 0.2, 0.6)\n",
        "    units = trial.suggest_int('units', 128, 512)\n",
        "\n",
        "    base_model = DenseNet121(weights='imagenet', include_top=False, input_shape=(150, 150, 3))\n",
        "    base_model.trainable = False\n",
        "\n",
        "    model = Sequential([\n",
        "        base_model,\n",
        "        GlobalAveragePooling2D(),\n",
        "        BatchNormalization(),\n",
        "        Dense(units, activation='relu'),\n",
        "        Dropout(dropout_rate),\n",
        "        Dense(4, activation='softmax')\n",
        "    ])\n",
        "\n",
        "    model.compile(optimizer=Adam(learning_rate=learning_rate),\n",
        "                  loss='categorical_crossentropy',  # focal_loss(gamma=2.0, alpha=0.25) alternatif\n",
        "                  metrics=['accuracy'])\n",
        "\n",
        "    model.fit(train_generator, validation_data=test_generator, epochs=5, verbose=0, class_weight=class_weight_dict)\n",
        "    return max(model.history.history['val_accuracy'])\n",
        "\n",
        "# Optuna ile optimize et\n",
        "study = optuna.create_study(direction='maximize')\n",
        "study.optimize(build_model, n_trials=10)\n",
        "\n",
        "best_params = study.best_params\n",
        "print(\"En iyi parametreler:\", best_params)\n",
        "\n",
        "# En iyi parametrelerle Final Model\n",
        "base_model = DenseNet121(weights='imagenet', include_top=False, input_shape=(150, 150, 3))\n",
        "base_model.trainable = True\n",
        "\n",
        "model = Sequential([\n",
        "    base_model,\n",
        "    GlobalAveragePooling2D(),\n",
        "    BatchNormalization(),\n",
        "    Dense(best_params['units'], activation='relu'),\n",
        "    Dropout(best_params['dropout_rate']),\n",
        "    Dense(4, activation='softmax')\n",
        "])\n",
        "\n",
        "model.compile(optimizer=Adam(learning_rate=best_params['learning_rate']),\n",
        "              loss='categorical_crossentropy',  # focal_loss(gamma=2.0, alpha=0.25)\n",
        "              metrics=['accuracy'])\n",
        "\n",
        "# Callbacks\n",
        "early_stopping = EarlyStopping(monitor='val_loss', patience=3, restore_best_weights=True)\n",
        "checkpoint = ModelCheckpoint('best_densenet_model_150x150.h5', monitor='val_accuracy', save_best_only=True, mode='max')\n",
        "callbacks = [early_stopping, checkpoint]\n",
        "\n",
        "# Eğitim\n",
        "history = model.fit(train_generator, validation_data=test_generator,\n",
        "                    epochs=20, batch_size=32,\n",
        "                    callbacks=callbacks,\n",
        "                    class_weight=class_weight_dict)\n",
        "\n",
        "# Görselleştirme\n",
        "plt.figure(figsize=(12, 4))\n",
        "plt.subplot(1, 2, 1)\n",
        "plt.plot(history.history['accuracy'], label='Eğitim Doğruluğu')\n",
        "plt.plot(history.history['val_accuracy'], label='Doğrulama Doğruluğu')\n",
        "plt.title('Doğruluk')\n",
        "plt.xlabel('Epoch')\n",
        "plt.ylabel('Accuracy')\n",
        "plt.legend()\n",
        "\n",
        "plt.subplot(1, 2, 2)\n",
        "plt.plot(history.history['loss'], label='Eğitim Kaybı')\n",
        "plt.plot(history.history['val_loss'], label='Doğrulama Kaybı')\n",
        "plt.title('Kayıp')\n",
        "plt.xlabel('Epoch')\n",
        "plt.ylabel('Loss')\n",
        "plt.legend()\n",
        "plt.tight_layout()\n",
        "plt.show()\n",
        "\n",
        "# Tahminler\n",
        "y_true = []\n",
        "y_pred = []\n",
        "for i in range(len(test_generator)):\n",
        "    X, y = test_generator[i]\n",
        "    preds = model.predict(X)\n",
        "    y_true.extend(np.argmax(y, axis=1))\n",
        "    y_pred.extend(np.argmax(preds, axis=1))\n",
        "\n",
        "# Confusion Matrix\n",
        "cm = confusion_matrix(y_true, y_pred)\n",
        "plt.figure(figsize=(8, 6))\n",
        "sns.heatmap(cm, annot=True, fmt='d', cmap='Blues', xticklabels=labels, yticklabels=labels)\n",
        "plt.xlabel('Tahmin Edilen')\n",
        "plt.ylabel('Gerçek')\n",
        "plt.title('Confusion Matrix')\n",
        "plt.show()\n",
        "\n",
        "# Classification Report\n",
        "print(\"Classification Report:\")\n",
        "print(classification_report(y_true, y_pred, target_names=labels))\n"
      ]
    },
    {
      "cell_type": "markdown",
      "metadata": {
        "id": "lCISt21vsLWD"
      },
      "source": [
        "FIXED F1"
      ]
    },
    {
      "cell_type": "code",
      "execution_count": null,
      "metadata": {
        "colab": {
          "base_uri": "https://localhost:8080/",
          "height": 373
        },
        "id": "CpmdS529sNZE",
        "outputId": "e4f7f9bd-79c1-4c25-d333-8efabd9235f0"
      },
      "outputs": [
        {
          "name": "stdout",
          "output_type": "stream",
          "text": [
            "GPU bulundu: [PhysicalDevice(name='/physical_device:GPU:0', device_type='GPU')]\n"
          ]
        },
        {
          "ename": "KeyboardInterrupt",
          "evalue": "",
          "output_type": "error",
          "traceback": [
            "\u001b[0;31m---------------------------------------------------------------------------\u001b[0m",
            "\u001b[0;31mKeyboardInterrupt\u001b[0m                         Traceback (most recent call last)",
            "\u001b[0;32m<ipython-input-5-3738959f43b1>\u001b[0m in \u001b[0;36m<cell line: 0>\u001b[0;34m()\u001b[0m\n\u001b[1;32m     27\u001b[0m \u001b[0;34m\u001b[0m\u001b[0m\n\u001b[1;32m     28\u001b[0m \u001b[0;31m# Drive bağlantısı\u001b[0m\u001b[0;34m\u001b[0m\u001b[0;34m\u001b[0m\u001b[0m\n\u001b[0;32m---> 29\u001b[0;31m \u001b[0mdrive\u001b[0m\u001b[0;34m.\u001b[0m\u001b[0mmount\u001b[0m\u001b[0;34m(\u001b[0m\u001b[0;34m'/content/drive'\u001b[0m\u001b[0;34m)\u001b[0m\u001b[0;34m\u001b[0m\u001b[0;34m\u001b[0m\u001b[0m\n\u001b[0m\u001b[1;32m     30\u001b[0m \u001b[0;34m\u001b[0m\u001b[0m\n\u001b[1;32m     31\u001b[0m \u001b[0;31m# Veri yolları\u001b[0m\u001b[0;34m\u001b[0m\u001b[0;34m\u001b[0m\u001b[0m\n",
            "\u001b[0;32m/usr/local/lib/python3.11/dist-packages/google/colab/drive.py\u001b[0m in \u001b[0;36mmount\u001b[0;34m(mountpoint, force_remount, timeout_ms, readonly)\u001b[0m\n\u001b[1;32m     98\u001b[0m \u001b[0;32mdef\u001b[0m \u001b[0mmount\u001b[0m\u001b[0;34m(\u001b[0m\u001b[0mmountpoint\u001b[0m\u001b[0;34m,\u001b[0m \u001b[0mforce_remount\u001b[0m\u001b[0;34m=\u001b[0m\u001b[0;32mFalse\u001b[0m\u001b[0;34m,\u001b[0m \u001b[0mtimeout_ms\u001b[0m\u001b[0;34m=\u001b[0m\u001b[0;36m120000\u001b[0m\u001b[0;34m,\u001b[0m \u001b[0mreadonly\u001b[0m\u001b[0;34m=\u001b[0m\u001b[0;32mFalse\u001b[0m\u001b[0;34m)\u001b[0m\u001b[0;34m:\u001b[0m\u001b[0;34m\u001b[0m\u001b[0;34m\u001b[0m\u001b[0m\n\u001b[1;32m     99\u001b[0m   \u001b[0;34m\"\"\"Mount your Google Drive at the specified mountpoint path.\"\"\"\u001b[0m\u001b[0;34m\u001b[0m\u001b[0;34m\u001b[0m\u001b[0m\n\u001b[0;32m--> 100\u001b[0;31m   return _mount(\n\u001b[0m\u001b[1;32m    101\u001b[0m       \u001b[0mmountpoint\u001b[0m\u001b[0;34m,\u001b[0m\u001b[0;34m\u001b[0m\u001b[0;34m\u001b[0m\u001b[0m\n\u001b[1;32m    102\u001b[0m       \u001b[0mforce_remount\u001b[0m\u001b[0;34m=\u001b[0m\u001b[0mforce_remount\u001b[0m\u001b[0;34m,\u001b[0m\u001b[0;34m\u001b[0m\u001b[0;34m\u001b[0m\u001b[0m\n",
            "\u001b[0;32m/usr/local/lib/python3.11/dist-packages/google/colab/drive.py\u001b[0m in \u001b[0;36m_mount\u001b[0;34m(mountpoint, force_remount, timeout_ms, ephemeral, readonly)\u001b[0m\n\u001b[1;32m    135\u001b[0m   )\n\u001b[1;32m    136\u001b[0m   \u001b[0;32mif\u001b[0m \u001b[0mephemeral\u001b[0m\u001b[0;34m:\u001b[0m\u001b[0;34m\u001b[0m\u001b[0;34m\u001b[0m\u001b[0m\n\u001b[0;32m--> 137\u001b[0;31m     _message.blocking_request(\n\u001b[0m\u001b[1;32m    138\u001b[0m         \u001b[0;34m'request_auth'\u001b[0m\u001b[0;34m,\u001b[0m\u001b[0;34m\u001b[0m\u001b[0;34m\u001b[0m\u001b[0m\n\u001b[1;32m    139\u001b[0m         \u001b[0mrequest\u001b[0m\u001b[0;34m=\u001b[0m\u001b[0;34m{\u001b[0m\u001b[0;34m'authType'\u001b[0m\u001b[0;34m:\u001b[0m \u001b[0;34m'dfs_ephemeral'\u001b[0m\u001b[0;34m}\u001b[0m\u001b[0;34m,\u001b[0m\u001b[0;34m\u001b[0m\u001b[0;34m\u001b[0m\u001b[0m\n",
            "\u001b[0;32m/usr/local/lib/python3.11/dist-packages/google/colab/_message.py\u001b[0m in \u001b[0;36mblocking_request\u001b[0;34m(request_type, request, timeout_sec, parent)\u001b[0m\n\u001b[1;32m    174\u001b[0m       \u001b[0mrequest_type\u001b[0m\u001b[0;34m,\u001b[0m \u001b[0mrequest\u001b[0m\u001b[0;34m,\u001b[0m \u001b[0mparent\u001b[0m\u001b[0;34m=\u001b[0m\u001b[0mparent\u001b[0m\u001b[0;34m,\u001b[0m \u001b[0mexpect_reply\u001b[0m\u001b[0;34m=\u001b[0m\u001b[0;32mTrue\u001b[0m\u001b[0;34m\u001b[0m\u001b[0;34m\u001b[0m\u001b[0m\n\u001b[1;32m    175\u001b[0m   )\n\u001b[0;32m--> 176\u001b[0;31m   \u001b[0;32mreturn\u001b[0m \u001b[0mread_reply_from_input\u001b[0m\u001b[0;34m(\u001b[0m\u001b[0mrequest_id\u001b[0m\u001b[0;34m,\u001b[0m \u001b[0mtimeout_sec\u001b[0m\u001b[0;34m)\u001b[0m\u001b[0;34m\u001b[0m\u001b[0;34m\u001b[0m\u001b[0m\n\u001b[0m",
            "\u001b[0;32m/usr/local/lib/python3.11/dist-packages/google/colab/_message.py\u001b[0m in \u001b[0;36mread_reply_from_input\u001b[0;34m(message_id, timeout_sec)\u001b[0m\n\u001b[1;32m     94\u001b[0m     \u001b[0mreply\u001b[0m \u001b[0;34m=\u001b[0m \u001b[0m_read_next_input_message\u001b[0m\u001b[0;34m(\u001b[0m\u001b[0;34m)\u001b[0m\u001b[0;34m\u001b[0m\u001b[0;34m\u001b[0m\u001b[0m\n\u001b[1;32m     95\u001b[0m     \u001b[0;32mif\u001b[0m \u001b[0mreply\u001b[0m \u001b[0;34m==\u001b[0m \u001b[0m_NOT_READY\u001b[0m \u001b[0;32mor\u001b[0m \u001b[0;32mnot\u001b[0m \u001b[0misinstance\u001b[0m\u001b[0;34m(\u001b[0m\u001b[0mreply\u001b[0m\u001b[0;34m,\u001b[0m \u001b[0mdict\u001b[0m\u001b[0;34m)\u001b[0m\u001b[0;34m:\u001b[0m\u001b[0;34m\u001b[0m\u001b[0;34m\u001b[0m\u001b[0m\n\u001b[0;32m---> 96\u001b[0;31m       \u001b[0mtime\u001b[0m\u001b[0;34m.\u001b[0m\u001b[0msleep\u001b[0m\u001b[0;34m(\u001b[0m\u001b[0;36m0.025\u001b[0m\u001b[0;34m)\u001b[0m\u001b[0;34m\u001b[0m\u001b[0;34m\u001b[0m\u001b[0m\n\u001b[0m\u001b[1;32m     97\u001b[0m       \u001b[0;32mcontinue\u001b[0m\u001b[0;34m\u001b[0m\u001b[0;34m\u001b[0m\u001b[0m\n\u001b[1;32m     98\u001b[0m     if (\n",
            "\u001b[0;31mKeyboardInterrupt\u001b[0m: "
          ]
        }
      ],
      "source": [
        "import os\n",
        "import numpy as np\n",
        "import matplotlib.pyplot as plt\n",
        "import seaborn as sns\n",
        "import tensorflow as tf\n",
        "import optuna\n",
        "from sklearn.metrics import classification_report, confusion_matrix, f1_score\n",
        "from sklearn.utils.class_weight import compute_class_weight\n",
        "from tensorflow.keras.models import Sequential\n",
        "from tensorflow.keras.layers import GlobalAveragePooling2D, Dense, Dropout, BatchNormalization\n",
        "from tensorflow.keras.applications import DenseNet121\n",
        "from tensorflow.keras.preprocessing.image import ImageDataGenerator\n",
        "from tensorflow.keras.optimizers import Adam\n",
        "from tensorflow.keras.callbacks import EarlyStopping, ModelCheckpoint\n",
        "from google.colab import drive\n",
        "import mplcyberpunk\n",
        "\n",
        "plt.style.use(\"cyberpunk\")\n",
        "\n",
        "# GPU kontrolü\n",
        "physical_devices = tf.config.list_physical_devices('GPU')\n",
        "if physical_devices:\n",
        "    print(f\"GPU bulundu: {physical_devices}\")\n",
        "    tf.config.experimental.set_memory_growth(physical_devices[0], True)\n",
        "else:\n",
        "    print(\"GPU bulunamadı, CPU kullanılacak.\")\n",
        "\n",
        "# Drive bağlantısı\n",
        "drive.mount('/content/drive')\n",
        "\n",
        "# Veri yolları\n",
        "train_dir = '/content/drive/MyDrive/YSA/Training'\n",
        "test_dir = '/content/drive/MyDrive/YSA/Testing'\n",
        "img_size = (150, 150)\n",
        "\n",
        "# Veri ön işleme\n",
        "train_datagen = ImageDataGenerator(rescale=1./255,\n",
        "                                   rotation_range=20,\n",
        "                                   width_shift_range=0.2,\n",
        "                                   height_shift_range=0.2,\n",
        "                                   horizontal_flip=True)\n",
        "\n",
        "test_datagen = ImageDataGenerator(rescale=1./255)\n",
        "\n",
        "train_generator = train_datagen.flow_from_directory(train_dir, target_size=img_size, batch_size=32, class_mode='categorical', shuffle=True)\n",
        "test_generator = test_datagen.flow_from_directory(test_dir, target_size=img_size, batch_size=32, class_mode='categorical', shuffle=False)\n",
        "\n",
        "# Class Weights Hesaplama\n",
        "labels = list(train_generator.class_indices.keys())\n",
        "y_train_labels = train_generator.classes\n",
        "class_weights_array = compute_class_weight(class_weight='balanced', classes=np.unique(y_train_labels), y=y_train_labels)\n",
        "class_weight_dict = dict(enumerate(class_weights_array))\n",
        "class_weight_dict[0] *= 1.2  # örneğin 'glioma_tumor' ekstra ağırlık\n",
        "\n",
        "# Optuna HPO Fonksiyonu (F1-score bazlı)\n",
        "def build_model(trial):\n",
        "    learning_rate = trial.suggest_float('learning_rate', 1e-5, 1e-2, log=True)\n",
        "    dropout_rate = trial.suggest_float('dropout_rate', 0.2, 0.6)\n",
        "    units = trial.suggest_int('units', 128, 512)\n",
        "\n",
        "    base_model = DenseNet121(weights='imagenet', include_top=False, input_shape=(150, 150, 3))\n",
        "    base_model.trainable = False\n",
        "\n",
        "    model = Sequential([\n",
        "        base_model,\n",
        "        GlobalAveragePooling2D(),\n",
        "        BatchNormalization(),\n",
        "        Dense(units, activation='relu'),\n",
        "        Dropout(dropout_rate),\n",
        "        Dense(4, activation='softmax')\n",
        "    ])\n",
        "\n",
        "    model.compile(optimizer=Adam(learning_rate=learning_rate),\n",
        "                  loss='categorical_crossentropy',\n",
        "                  metrics=['accuracy'])\n",
        "\n",
        "    model.fit(train_generator, validation_data=test_generator, epochs=3, verbose=0, class_weight=class_weight_dict)\n",
        "\n",
        "    # F1-score hesapla\n",
        "    y_true, y_pred = [], []\n",
        "    for i in range(len(test_generator)):\n",
        "        X, y = test_generator[i]\n",
        "        preds = model.predict(X, verbose=0)\n",
        "        y_true.extend(np.argmax(y, axis=1))\n",
        "        y_pred.extend(np.argmax(preds, axis=1))\n",
        "\n",
        "    return f1_score(y_true, y_pred, average='macro')\n",
        "\n",
        "# Optuna optimize et\n",
        "study = optuna.create_study(direction='maximize')\n",
        "study.optimize(build_model, n_trials=10)\n",
        "\n",
        "best_params = study.best_params\n",
        "print(\"En iyi hiperparametreler:\", best_params)\n",
        "\n",
        "# Final model (en iyi parametrelerle)\n",
        "base_model = DenseNet121(weights='imagenet', include_top=False, input_shape=(150, 150, 3))\n",
        "base_model.trainable = True\n",
        "\n",
        "model = Sequential([\n",
        "    base_model,\n",
        "    GlobalAveragePooling2D(),\n",
        "    BatchNormalization(),\n",
        "    Dense(best_params['units'], activation='relu'),\n",
        "    Dropout(best_params['dropout_rate']),\n",
        "    Dense(4, activation='softmax')\n",
        "])\n",
        "\n",
        "model.compile(optimizer=Adam(learning_rate=best_params['learning_rate']),\n",
        "              loss='categorical_crossentropy',\n",
        "              metrics=['accuracy'])\n",
        "\n",
        "# Callbacks\n",
        "early_stopping = EarlyStopping(monitor='val_loss', patience=3, restore_best_weights=True)\n",
        "checkpoint = ModelCheckpoint('best_densenet_model_f1_150x150.h5', monitor='val_accuracy', save_best_only=True, mode='max')\n",
        "callbacks = [early_stopping, checkpoint]\n",
        "\n",
        "# Eğitim\n",
        "history = model.fit(train_generator, validation_data=test_generator,\n",
        "                    epochs=20, batch_size=32,\n",
        "                    callbacks=callbacks,\n",
        "                    class_weight=class_weight_dict)\n",
        "\n",
        "# Eğitim grafikleri\n",
        "plt.figure(figsize=(12, 4))\n",
        "plt.subplot(1, 2, 1)\n",
        "plt.plot(history.history['accuracy'], label='Eğitim Doğruluğu')\n",
        "plt.plot(history.history['val_accuracy'], label='Doğrulama Doğruluğu')\n",
        "plt.title('Doğruluk')\n",
        "plt.xlabel('Epoch')\n",
        "plt.ylabel('Accuracy')\n",
        "plt.legend()\n",
        "\n",
        "plt.subplot(1, 2, 2)\n",
        "plt.plot(history.history['loss'], label='Eğitim Kaybı')\n",
        "plt.plot(history.history['val_loss'], label='Doğrulama Kaybı')\n",
        "plt.title('Kayıp')\n",
        "plt.xlabel('Epoch')\n",
        "plt.ylabel('Loss')\n",
        "plt.legend()\n",
        "plt.tight_layout()\n",
        "plt.show()\n",
        "\n",
        "# Tahminler\n",
        "y_true = []\n",
        "y_pred = []\n",
        "for i in range(len(test_generator)):\n",
        "    X, y = test_generator[i]\n",
        "    preds = model.predict(X)\n",
        "    y_true.extend(np.argmax(y, axis=1))\n",
        "    y_pred.extend(np.argmax(preds, axis=1))\n",
        "\n",
        "# Confusion Matrix\n",
        "cm = confusion_matrix(y_true, y_pred)\n",
        "plt.figure(figsize=(8, 6))\n",
        "sns.heatmap(cm, annot=True, fmt='d', cmap='Blues', xticklabels=labels, yticklabels=labels)\n",
        "plt.xlabel('Tahmin Edilen')\n",
        "plt.ylabel('Gerçek')\n",
        "plt.title('Confusion Matrix')\n",
        "plt.show()\n",
        "\n",
        "# Classification Report\n",
        "print(\"Classification Report:\")\n",
        "print(classification_report(y_true, y_pred, target_names=labels))\n"
      ]
    },
    {
      "cell_type": "markdown",
      "metadata": {
        "id": "XfoE8qLyuz1-"
      },
      "source": [
        "FIXED RANDOM PARAM"
      ]
    },
    {
      "cell_type": "code",
      "execution_count": null,
      "metadata": {
        "id": "iRGYWeAOu7US"
      },
      "outputs": [],
      "source": [
        "import os\n",
        "import numpy as np\n",
        "import matplotlib.pyplot as plt\n",
        "import seaborn as sns\n",
        "import tensorflow as tf\n",
        "from sklearn.metrics import classification_report, confusion_matrix, f1_score\n",
        "from sklearn.utils.class_weight import compute_class_weight\n",
        "from tensorflow.keras.models import Sequential\n",
        "from tensorflow.keras.layers import GlobalAveragePooling2D, Dense, Dropout, BatchNormalization\n",
        "from tensorflow.keras.applications import DenseNet121\n",
        "from tensorflow.keras.preprocessing.image import ImageDataGenerator\n",
        "from tensorflow.keras.optimizers import Adam\n",
        "from tensorflow.keras.callbacks import EarlyStopping, ModelCheckpoint\n",
        "from google.colab import drive\n",
        "import mplcyberpunk\n",
        "\n",
        "plt.style.use(\"cyberpunk\")\n",
        "\n",
        "# GPU kontrolü\n",
        "physical_devices = tf.config.list_physical_devices('GPU')\n",
        "if physical_devices:\n",
        "    print(f\"GPU bulundu: {physical_devices}\")\n",
        "    tf.config.experimental.set_memory_growth(physical_devices[0], True)\n",
        "else:\n",
        "    print(\"GPU bulunamadı, CPU kullanılacak.\")\n",
        "\n",
        "# Drive bağlantısı\n",
        "drive.mount('/content/drive')\n",
        "\n",
        "# Veri yolları\n",
        "train_dir = '/content/drive/MyDrive/YSA/Training'\n",
        "test_dir = '/content/drive/MyDrive/YSA/Testing'\n",
        "img_size = (150, 150)\n",
        "\n",
        "# Veri ön işleme\n",
        "train_datagen = ImageDataGenerator(rescale=1./255,\n",
        "                                   rotation_range=20,\n",
        "                                   width_shift_range=0.2,\n",
        "                                   height_shift_range=0.2,\n",
        "                                   horizontal_flip=True)\n",
        "\n",
        "test_datagen = ImageDataGenerator(rescale=1./255)\n",
        "\n",
        "train_generator = train_datagen.flow_from_directory(train_dir, target_size=img_size, batch_size=32, class_mode='categorical', shuffle=True)\n",
        "test_generator = test_datagen.flow_from_directory(test_dir, target_size=img_size, batch_size=32, class_mode='categorical', shuffle=False)\n",
        "\n",
        "# Sınıf ağırlıkları\n",
        "labels = list(train_generator.class_indices.keys())\n",
        "y_train_labels = train_generator.classes\n",
        "class_weights_array = compute_class_weight(class_weight='balanced', classes=np.unique(y_train_labels), y=y_train_labels)\n",
        "class_weight_dict = dict(enumerate(class_weights_array))\n",
        "class_weight_dict[0] *= 1.2  # opsiyonel sınıf öne çıkarma\n",
        "\n",
        "# 🎯 Rastgele belirlenmiş hiperparametreler\n",
        "learning_rate = 0.0003\n",
        "dropout_rate = 0.45\n",
        "units = 256\n",
        "batch_size = 32\n",
        "epochs = 20\n",
        "\n",
        "# Model tanımı\n",
        "base_model = DenseNet121(weights='imagenet', include_top=False, input_shape=(150, 150, 3))\n",
        "base_model.trainable = True\n",
        "\n",
        "model = Sequential([\n",
        "    base_model,\n",
        "    GlobalAveragePooling2D(),\n",
        "    BatchNormalization(),\n",
        "    Dense(units, activation='relu'),\n",
        "    Dropout(dropout_rate),\n",
        "    Dense(4, activation='softmax')\n",
        "])\n",
        "\n",
        "model.compile(optimizer=Adam(learning_rate=learning_rate),\n",
        "              loss='categorical_crossentropy',\n",
        "              metrics=['accuracy'])\n",
        "\n",
        "# Callbacks\n",
        "early_stopping = EarlyStopping(monitor='val_loss', patience=3, restore_best_weights=True)\n",
        "checkpoint = ModelCheckpoint('densenet_random_150x150.h5', monitor='val_accuracy', save_best_only=True, mode='max')\n",
        "callbacks = [early_stopping, checkpoint]\n",
        "\n",
        "# Eğitim\n",
        "history = model.fit(train_generator, validation_data=test_generator,\n",
        "                    epochs=epochs, batch_size=batch_size,\n",
        "                    callbacks=callbacks,\n",
        "                    class_weight=class_weight_dict)\n",
        "\n",
        "# Eğitim grafikleri\n",
        "plt.figure(figsize=(12, 4))\n",
        "plt.subplot(1, 2, 1)\n",
        "plt.plot(history.history['accuracy'], label='Eğitim Doğruluğu')\n",
        "plt.plot(history.history['val_accuracy'], label='Doğrulama Doğruluğu')\n",
        "plt.title('Doğruluk')\n",
        "plt.xlabel('Epoch')\n",
        "plt.ylabel('Accuracy')\n",
        "plt.legend()\n",
        "\n",
        "plt.subplot(1, 2, 2)\n",
        "plt.plot(history.history['loss'], label='Eğitim Kaybı')\n",
        "plt.plot(history.history['val_loss'], label='Doğrulama Kaybı')\n",
        "plt.title('Kayıp')\n",
        "plt.xlabel('Epoch')\n",
        "plt.ylabel('Loss')\n",
        "plt.legend()\n",
        "plt.tight_layout()\n",
        "plt.show()\n",
        "\n",
        "# Tahminler\n",
        "y_true = []\n",
        "y_pred = []\n",
        "for i in range(len(test_generator)):\n",
        "    X, y = test_generator[i]\n",
        "    preds = model.predict(X)\n",
        "    y_true.extend(np.argmax(y, axis=1))\n",
        "    y_pred.extend(np.argmax(preds, axis=1))\n",
        "\n",
        "# Confusion Matrix\n",
        "cm = confusion_matrix(y_true, y_pred)\n",
        "plt.figure(figsize=(8, 6))\n",
        "sns.heatmap(cm, annot=True, fmt='d', cmap='Blues', xticklabels=labels, yticklabels=labels)\n",
        "plt.xlabel('Tahmin Edilen')\n",
        "plt.ylabel('Gerçek')\n",
        "plt.title('Confusion Matrix')\n",
        "plt.show()\n",
        "\n",
        "# Classification Report\n",
        "print(\"Classification Report:\")\n",
        "print(classification_report(y_true, y_pred, target_names=labels))\n"
      ]
    },
    {
      "cell_type": "code",
      "execution_count": null,
      "metadata": {
        "colab": {
          "base_uri": "https://localhost:8080/"
        },
        "id": "2UYR3VfQtAKB",
        "outputId": "65d99ca9-3bed-44e2-b876-a3f497d36361"
      },
      "outputs": [
        {
          "name": "stdout",
          "output_type": "stream",
          "text": [
            "GPU bulundu: [PhysicalDevice(name='/physical_device:GPU:0', device_type='GPU')]\n",
            "Drive already mounted at /content/drive; to attempt to forcibly remount, call drive.mount(\"/content/drive\", force_remount=True).\n",
            "Klasör mevcut!\n"
          ]
        },
        {
          "name": "stderr",
          "output_type": "stream",
          "text": [
            "100%|██████████| 836/836 [00:25<00:00, 32.76it/s] \n",
            "100%|██████████| 395/395 [00:09<00:00, 40.90it/s] \n",
            "100%|██████████| 822/822 [00:23<00:00, 34.45it/s] \n",
            "100%|██████████| 827/827 [00:19<00:00, 41.89it/s] \n",
            "100%|██████████| 48/48 [00:35<00:00,  1.35it/s]\n",
            "100%|██████████| 105/105 [00:03<00:00, 27.42it/s]\n",
            "100%|██████████| 115/115 [00:04<00:00, 27.62it/s]\n",
            "100%|██████████| 74/74 [00:58<00:00,  1.28it/s]\n",
            "[I 2025-04-28 19:05:28,268] A new study created in memory with name: no-name-ae010935-6b23-467c-85c3-42c9bef2a705\n"
          ]
        },
        {
          "name": "stdout",
          "output_type": "stream",
          "text": [
            "Downloading data from https://storage.googleapis.com/tensorflow/keras-applications/densenet/densenet121_weights_tf_dim_ordering_tf_kernels_notop.h5\n",
            "\u001b[1m29084464/29084464\u001b[0m \u001b[32m━━━━━━━━━━━━━━━━━━━━\u001b[0m\u001b[37m\u001b[0m \u001b[1m3s\u001b[0m 0us/step\n"
          ]
        },
        {
          "name": "stderr",
          "output_type": "stream",
          "text": [
            "WARNING:absl:You are saving your model as an HDF5 file via `model.save()` or `keras.saving.save_model(model)`. This file format is considered legacy. We recommend using instead the native Keras format, e.g. `model.save('my_model.keras')` or `keras.saving.save_model(model, 'my_model.keras')`. \n",
            "WARNING:absl:You are saving your model as an HDF5 file via `model.save()` or `keras.saving.save_model(model)`. This file format is considered legacy. We recommend using instead the native Keras format, e.g. `model.save('my_model.keras')` or `keras.saving.save_model(model, 'my_model.keras')`. \n",
            "WARNING:absl:You are saving your model as an HDF5 file via `model.save()` or `keras.saving.save_model(model)`. This file format is considered legacy. We recommend using instead the native Keras format, e.g. `model.save('my_model.keras')` or `keras.saving.save_model(model, 'my_model.keras')`. \n",
            "WARNING:absl:You are saving your model as an HDF5 file via `model.save()` or `keras.saving.save_model(model)`. This file format is considered legacy. We recommend using instead the native Keras format, e.g. `model.save('my_model.keras')` or `keras.saving.save_model(model, 'my_model.keras')`. \n",
            "WARNING:absl:You are saving your model as an HDF5 file via `model.save()` or `keras.saving.save_model(model)`. This file format is considered legacy. We recommend using instead the native Keras format, e.g. `model.save('my_model.keras')` or `keras.saving.save_model(model, 'my_model.keras')`. \n",
            "WARNING:absl:You are saving your model as an HDF5 file via `model.save()` or `keras.saving.save_model(model)`. This file format is considered legacy. We recommend using instead the native Keras format, e.g. `model.save('my_model.keras')` or `keras.saving.save_model(model, 'my_model.keras')`. \n",
            "WARNING:absl:You are saving your model as an HDF5 file via `model.save()` or `keras.saving.save_model(model)`. This file format is considered legacy. We recommend using instead the native Keras format, e.g. `model.save('my_model.keras')` or `keras.saving.save_model(model, 'my_model.keras')`. \n",
            "WARNING:absl:You are saving your model as an HDF5 file via `model.save()` or `keras.saving.save_model(model)`. This file format is considered legacy. We recommend using instead the native Keras format, e.g. `model.save('my_model.keras')` or `keras.saving.save_model(model, 'my_model.keras')`. \n",
            "WARNING:absl:You are saving your model as an HDF5 file via `model.save()` or `keras.saving.save_model(model)`. This file format is considered legacy. We recommend using instead the native Keras format, e.g. `model.save('my_model.keras')` or `keras.saving.save_model(model, 'my_model.keras')`. \n",
            "WARNING:absl:You are saving your model as an HDF5 file via `model.save()` or `keras.saving.save_model(model)`. This file format is considered legacy. We recommend using instead the native Keras format, e.g. `model.save('my_model.keras')` or `keras.saving.save_model(model, 'my_model.keras')`. \n",
            "WARNING:absl:You are saving your model as an HDF5 file via `model.save()` or `keras.saving.save_model(model)`. This file format is considered legacy. We recommend using instead the native Keras format, e.g. `model.save('my_model.keras')` or `keras.saving.save_model(model, 'my_model.keras')`. \n",
            "WARNING:absl:You are saving your model as an HDF5 file via `model.save()` or `keras.saving.save_model(model)`. This file format is considered legacy. We recommend using instead the native Keras format, e.g. `model.save('my_model.keras')` or `keras.saving.save_model(model, 'my_model.keras')`. \n",
            "WARNING:absl:You are saving your model as an HDF5 file via `model.save()` or `keras.saving.save_model(model)`. This file format is considered legacy. We recommend using instead the native Keras format, e.g. `model.save('my_model.keras')` or `keras.saving.save_model(model, 'my_model.keras')`. \n",
            "WARNING:absl:You are saving your model as an HDF5 file via `model.save()` or `keras.saving.save_model(model)`. This file format is considered legacy. We recommend using instead the native Keras format, e.g. `model.save('my_model.keras')` or `keras.saving.save_model(model, 'my_model.keras')`. \n",
            "[I 2025-04-28 19:14:41,844] Trial 0 finished with value: 0.7631579041481018 and parameters: {'learning_rate': 6.476755200837495e-05, 'dropout_rate': 0.3020767117633137, 'batch_size': 16}. Best is trial 0 with value: 0.7631579041481018.\n",
            "WARNING:absl:You are saving your model as an HDF5 file via `model.save()` or `keras.saving.save_model(model)`. This file format is considered legacy. We recommend using instead the native Keras format, e.g. `model.save('my_model.keras')` or `keras.saving.save_model(model, 'my_model.keras')`. \n",
            "WARNING:absl:You are saving your model as an HDF5 file via `model.save()` or `keras.saving.save_model(model)`. This file format is considered legacy. We recommend using instead the native Keras format, e.g. `model.save('my_model.keras')` or `keras.saving.save_model(model, 'my_model.keras')`. \n",
            "WARNING:absl:You are saving your model as an HDF5 file via `model.save()` or `keras.saving.save_model(model)`. This file format is considered legacy. We recommend using instead the native Keras format, e.g. `model.save('my_model.keras')` or `keras.saving.save_model(model, 'my_model.keras')`. \n",
            "WARNING:absl:You are saving your model as an HDF5 file via `model.save()` or `keras.saving.save_model(model)`. This file format is considered legacy. We recommend using instead the native Keras format, e.g. `model.save('my_model.keras')` or `keras.saving.save_model(model, 'my_model.keras')`. \n",
            "WARNING:absl:You are saving your model as an HDF5 file via `model.save()` or `keras.saving.save_model(model)`. This file format is considered legacy. We recommend using instead the native Keras format, e.g. `model.save('my_model.keras')` or `keras.saving.save_model(model, 'my_model.keras')`. \n",
            "WARNING:absl:You are saving your model as an HDF5 file via `model.save()` or `keras.saving.save_model(model)`. This file format is considered legacy. We recommend using instead the native Keras format, e.g. `model.save('my_model.keras')` or `keras.saving.save_model(model, 'my_model.keras')`. \n",
            "WARNING:absl:You are saving your model as an HDF5 file via `model.save()` or `keras.saving.save_model(model)`. This file format is considered legacy. We recommend using instead the native Keras format, e.g. `model.save('my_model.keras')` or `keras.saving.save_model(model, 'my_model.keras')`. \n",
            "WARNING:absl:You are saving your model as an HDF5 file via `model.save()` or `keras.saving.save_model(model)`. This file format is considered legacy. We recommend using instead the native Keras format, e.g. `model.save('my_model.keras')` or `keras.saving.save_model(model, 'my_model.keras')`. \n",
            "WARNING:absl:You are saving your model as an HDF5 file via `model.save()` or `keras.saving.save_model(model)`. This file format is considered legacy. We recommend using instead the native Keras format, e.g. `model.save('my_model.keras')` or `keras.saving.save_model(model, 'my_model.keras')`. \n",
            "WARNING:absl:You are saving your model as an HDF5 file via `model.save()` or `keras.saving.save_model(model)`. This file format is considered legacy. We recommend using instead the native Keras format, e.g. `model.save('my_model.keras')` or `keras.saving.save_model(model, 'my_model.keras')`. \n",
            "WARNING:absl:You are saving your model as an HDF5 file via `model.save()` or `keras.saving.save_model(model)`. This file format is considered legacy. We recommend using instead the native Keras format, e.g. `model.save('my_model.keras')` or `keras.saving.save_model(model, 'my_model.keras')`. \n",
            "WARNING:absl:You are saving your model as an HDF5 file via `model.save()` or `keras.saving.save_model(model)`. This file format is considered legacy. We recommend using instead the native Keras format, e.g. `model.save('my_model.keras')` or `keras.saving.save_model(model, 'my_model.keras')`. \n",
            "WARNING:absl:You are saving your model as an HDF5 file via `model.save()` or `keras.saving.save_model(model)`. This file format is considered legacy. We recommend using instead the native Keras format, e.g. `model.save('my_model.keras')` or `keras.saving.save_model(model, 'my_model.keras')`. \n",
            "WARNING:absl:You are saving your model as an HDF5 file via `model.save()` or `keras.saving.save_model(model)`. This file format is considered legacy. We recommend using instead the native Keras format, e.g. `model.save('my_model.keras')` or `keras.saving.save_model(model, 'my_model.keras')`. \n",
            "WARNING:absl:You are saving your model as an HDF5 file via `model.save()` or `keras.saving.save_model(model)`. This file format is considered legacy. We recommend using instead the native Keras format, e.g. `model.save('my_model.keras')` or `keras.saving.save_model(model, 'my_model.keras')`. \n",
            "[I 2025-04-28 19:23:48,392] Trial 1 finished with value: 0.5847952961921692 and parameters: {'learning_rate': 1.4269395869327428e-05, 'dropout_rate': 0.40616790417530213, 'batch_size': 64}. Best is trial 0 with value: 0.7631579041481018.\n",
            "WARNING:absl:You are saving your model as an HDF5 file via `model.save()` or `keras.saving.save_model(model)`. This file format is considered legacy. We recommend using instead the native Keras format, e.g. `model.save('my_model.keras')` or `keras.saving.save_model(model, 'my_model.keras')`. \n",
            "WARNING:absl:You are saving your model as an HDF5 file via `model.save()` or `keras.saving.save_model(model)`. This file format is considered legacy. We recommend using instead the native Keras format, e.g. `model.save('my_model.keras')` or `keras.saving.save_model(model, 'my_model.keras')`. \n",
            "WARNING:absl:You are saving your model as an HDF5 file via `model.save()` or `keras.saving.save_model(model)`. This file format is considered legacy. We recommend using instead the native Keras format, e.g. `model.save('my_model.keras')` or `keras.saving.save_model(model, 'my_model.keras')`. \n",
            "WARNING:absl:You are saving your model as an HDF5 file via `model.save()` or `keras.saving.save_model(model)`. This file format is considered legacy. We recommend using instead the native Keras format, e.g. `model.save('my_model.keras')` or `keras.saving.save_model(model, 'my_model.keras')`. \n",
            "WARNING:absl:You are saving your model as an HDF5 file via `model.save()` or `keras.saving.save_model(model)`. This file format is considered legacy. We recommend using instead the native Keras format, e.g. `model.save('my_model.keras')` or `keras.saving.save_model(model, 'my_model.keras')`. \n",
            "WARNING:absl:You are saving your model as an HDF5 file via `model.save()` or `keras.saving.save_model(model)`. This file format is considered legacy. We recommend using instead the native Keras format, e.g. `model.save('my_model.keras')` or `keras.saving.save_model(model, 'my_model.keras')`. \n",
            "WARNING:absl:You are saving your model as an HDF5 file via `model.save()` or `keras.saving.save_model(model)`. This file format is considered legacy. We recommend using instead the native Keras format, e.g. `model.save('my_model.keras')` or `keras.saving.save_model(model, 'my_model.keras')`. \n",
            "WARNING:absl:You are saving your model as an HDF5 file via `model.save()` or `keras.saving.save_model(model)`. This file format is considered legacy. We recommend using instead the native Keras format, e.g. `model.save('my_model.keras')` or `keras.saving.save_model(model, 'my_model.keras')`. \n",
            "[I 2025-04-28 19:32:06,743] Trial 2 finished with value: 0.8801169395446777 and parameters: {'learning_rate': 0.0007692871926850742, 'dropout_rate': 0.4484772930841239, 'batch_size': 16}. Best is trial 2 with value: 0.8801169395446777.\n",
            "WARNING:absl:You are saving your model as an HDF5 file via `model.save()` or `keras.saving.save_model(model)`. This file format is considered legacy. We recommend using instead the native Keras format, e.g. `model.save('my_model.keras')` or `keras.saving.save_model(model, 'my_model.keras')`. \n",
            "WARNING:absl:You are saving your model as an HDF5 file via `model.save()` or `keras.saving.save_model(model)`. This file format is considered legacy. We recommend using instead the native Keras format, e.g. `model.save('my_model.keras')` or `keras.saving.save_model(model, 'my_model.keras')`. \n",
            "WARNING:absl:You are saving your model as an HDF5 file via `model.save()` or `keras.saving.save_model(model)`. This file format is considered legacy. We recommend using instead the native Keras format, e.g. `model.save('my_model.keras')` or `keras.saving.save_model(model, 'my_model.keras')`. \n",
            "WARNING:absl:You are saving your model as an HDF5 file via `model.save()` or `keras.saving.save_model(model)`. This file format is considered legacy. We recommend using instead the native Keras format, e.g. `model.save('my_model.keras')` or `keras.saving.save_model(model, 'my_model.keras')`. \n",
            "WARNING:absl:You are saving your model as an HDF5 file via `model.save()` or `keras.saving.save_model(model)`. This file format is considered legacy. We recommend using instead the native Keras format, e.g. `model.save('my_model.keras')` or `keras.saving.save_model(model, 'my_model.keras')`. \n",
            "WARNING:absl:You are saving your model as an HDF5 file via `model.save()` or `keras.saving.save_model(model)`. This file format is considered legacy. We recommend using instead the native Keras format, e.g. `model.save('my_model.keras')` or `keras.saving.save_model(model, 'my_model.keras')`. \n",
            "WARNING:absl:You are saving your model as an HDF5 file via `model.save()` or `keras.saving.save_model(model)`. This file format is considered legacy. We recommend using instead the native Keras format, e.g. `model.save('my_model.keras')` or `keras.saving.save_model(model, 'my_model.keras')`. \n",
            "WARNING:absl:You are saving your model as an HDF5 file via `model.save()` or `keras.saving.save_model(model)`. This file format is considered legacy. We recommend using instead the native Keras format, e.g. `model.save('my_model.keras')` or `keras.saving.save_model(model, 'my_model.keras')`. \n",
            "WARNING:absl:You are saving your model as an HDF5 file via `model.save()` or `keras.saving.save_model(model)`. This file format is considered legacy. We recommend using instead the native Keras format, e.g. `model.save('my_model.keras')` or `keras.saving.save_model(model, 'my_model.keras')`. \n",
            "WARNING:absl:You are saving your model as an HDF5 file via `model.save()` or `keras.saving.save_model(model)`. This file format is considered legacy. We recommend using instead the native Keras format, e.g. `model.save('my_model.keras')` or `keras.saving.save_model(model, 'my_model.keras')`. \n",
            "WARNING:absl:You are saving your model as an HDF5 file via `model.save()` or `keras.saving.save_model(model)`. This file format is considered legacy. We recommend using instead the native Keras format, e.g. `model.save('my_model.keras')` or `keras.saving.save_model(model, 'my_model.keras')`. \n",
            "WARNING:absl:You are saving your model as an HDF5 file via `model.save()` or `keras.saving.save_model(model)`. This file format is considered legacy. We recommend using instead the native Keras format, e.g. `model.save('my_model.keras')` or `keras.saving.save_model(model, 'my_model.keras')`. \n",
            "WARNING:absl:You are saving your model as an HDF5 file via `model.save()` or `keras.saving.save_model(model)`. This file format is considered legacy. We recommend using instead the native Keras format, e.g. `model.save('my_model.keras')` or `keras.saving.save_model(model, 'my_model.keras')`. \n",
            "WARNING:absl:You are saving your model as an HDF5 file via `model.save()` or `keras.saving.save_model(model)`. This file format is considered legacy. We recommend using instead the native Keras format, e.g. `model.save('my_model.keras')` or `keras.saving.save_model(model, 'my_model.keras')`. \n",
            "WARNING:absl:You are saving your model as an HDF5 file via `model.save()` or `keras.saving.save_model(model)`. This file format is considered legacy. We recommend using instead the native Keras format, e.g. `model.save('my_model.keras')` or `keras.saving.save_model(model, 'my_model.keras')`. \n",
            "WARNING:absl:You are saving your model as an HDF5 file via `model.save()` or `keras.saving.save_model(model)`. This file format is considered legacy. We recommend using instead the native Keras format, e.g. `model.save('my_model.keras')` or `keras.saving.save_model(model, 'my_model.keras')`. \n",
            "[I 2025-04-28 19:41:47,653] Trial 3 finished with value: 0.7953216433525085 and parameters: {'learning_rate': 9.467376517905119e-05, 'dropout_rate': 0.4195063774066149, 'batch_size': 64}. Best is trial 2 with value: 0.8801169395446777.\n",
            "WARNING:absl:You are saving your model as an HDF5 file via `model.save()` or `keras.saving.save_model(model)`. This file format is considered legacy. We recommend using instead the native Keras format, e.g. `model.save('my_model.keras')` or `keras.saving.save_model(model, 'my_model.keras')`. \n",
            "WARNING:absl:You are saving your model as an HDF5 file via `model.save()` or `keras.saving.save_model(model)`. This file format is considered legacy. We recommend using instead the native Keras format, e.g. `model.save('my_model.keras')` or `keras.saving.save_model(model, 'my_model.keras')`. \n",
            "WARNING:absl:You are saving your model as an HDF5 file via `model.save()` or `keras.saving.save_model(model)`. This file format is considered legacy. We recommend using instead the native Keras format, e.g. `model.save('my_model.keras')` or `keras.saving.save_model(model, 'my_model.keras')`. \n",
            "WARNING:absl:You are saving your model as an HDF5 file via `model.save()` or `keras.saving.save_model(model)`. This file format is considered legacy. We recommend using instead the native Keras format, e.g. `model.save('my_model.keras')` or `keras.saving.save_model(model, 'my_model.keras')`. \n",
            "WARNING:absl:You are saving your model as an HDF5 file via `model.save()` or `keras.saving.save_model(model)`. This file format is considered legacy. We recommend using instead the native Keras format, e.g. `model.save('my_model.keras')` or `keras.saving.save_model(model, 'my_model.keras')`. \n",
            "WARNING:absl:You are saving your model as an HDF5 file via `model.save()` or `keras.saving.save_model(model)`. This file format is considered legacy. We recommend using instead the native Keras format, e.g. `model.save('my_model.keras')` or `keras.saving.save_model(model, 'my_model.keras')`. \n",
            "WARNING:absl:You are saving your model as an HDF5 file via `model.save()` or `keras.saving.save_model(model)`. This file format is considered legacy. We recommend using instead the native Keras format, e.g. `model.save('my_model.keras')` or `keras.saving.save_model(model, 'my_model.keras')`. \n",
            "WARNING:absl:You are saving your model as an HDF5 file via `model.save()` or `keras.saving.save_model(model)`. This file format is considered legacy. We recommend using instead the native Keras format, e.g. `model.save('my_model.keras')` or `keras.saving.save_model(model, 'my_model.keras')`. \n",
            "WARNING:absl:You are saving your model as an HDF5 file via `model.save()` or `keras.saving.save_model(model)`. This file format is considered legacy. We recommend using instead the native Keras format, e.g. `model.save('my_model.keras')` or `keras.saving.save_model(model, 'my_model.keras')`. \n",
            "WARNING:absl:You are saving your model as an HDF5 file via `model.save()` or `keras.saving.save_model(model)`. This file format is considered legacy. We recommend using instead the native Keras format, e.g. `model.save('my_model.keras')` or `keras.saving.save_model(model, 'my_model.keras')`. \n",
            "[I 2025-04-28 19:51:11,194] Trial 4 finished with value: 0.859649121761322 and parameters: {'learning_rate': 0.0004983663339158291, 'dropout_rate': 0.43948405748245806, 'batch_size': 64}. Best is trial 2 with value: 0.8801169395446777.\n",
            "WARNING:absl:You are saving your model as an HDF5 file via `model.save()` or `keras.saving.save_model(model)`. This file format is considered legacy. We recommend using instead the native Keras format, e.g. `model.save('my_model.keras')` or `keras.saving.save_model(model, 'my_model.keras')`. \n",
            "WARNING:absl:You are saving your model as an HDF5 file via `model.save()` or `keras.saving.save_model(model)`. This file format is considered legacy. We recommend using instead the native Keras format, e.g. `model.save('my_model.keras')` or `keras.saving.save_model(model, 'my_model.keras')`. \n",
            "WARNING:absl:You are saving your model as an HDF5 file via `model.save()` or `keras.saving.save_model(model)`. This file format is considered legacy. We recommend using instead the native Keras format, e.g. `model.save('my_model.keras')` or `keras.saving.save_model(model, 'my_model.keras')`. \n",
            "WARNING:absl:You are saving your model as an HDF5 file via `model.save()` or `keras.saving.save_model(model)`. This file format is considered legacy. We recommend using instead the native Keras format, e.g. `model.save('my_model.keras')` or `keras.saving.save_model(model, 'my_model.keras')`. \n",
            "WARNING:absl:You are saving your model as an HDF5 file via `model.save()` or `keras.saving.save_model(model)`. This file format is considered legacy. We recommend using instead the native Keras format, e.g. `model.save('my_model.keras')` or `keras.saving.save_model(model, 'my_model.keras')`. \n",
            "WARNING:absl:You are saving your model as an HDF5 file via `model.save()` or `keras.saving.save_model(model)`. This file format is considered legacy. We recommend using instead the native Keras format, e.g. `model.save('my_model.keras')` or `keras.saving.save_model(model, 'my_model.keras')`. \n",
            "WARNING:absl:You are saving your model as an HDF5 file via `model.save()` or `keras.saving.save_model(model)`. This file format is considered legacy. We recommend using instead the native Keras format, e.g. `model.save('my_model.keras')` or `keras.saving.save_model(model, 'my_model.keras')`. \n",
            "WARNING:absl:You are saving your model as an HDF5 file via `model.save()` or `keras.saving.save_model(model)`. This file format is considered legacy. We recommend using instead the native Keras format, e.g. `model.save('my_model.keras')` or `keras.saving.save_model(model, 'my_model.keras')`. \n",
            "WARNING:absl:You are saving your model as an HDF5 file via `model.save()` or `keras.saving.save_model(model)`. This file format is considered legacy. We recommend using instead the native Keras format, e.g. `model.save('my_model.keras')` or `keras.saving.save_model(model, 'my_model.keras')`. \n",
            "WARNING:absl:You are saving your model as an HDF5 file via `model.save()` or `keras.saving.save_model(model)`. This file format is considered legacy. We recommend using instead the native Keras format, e.g. `model.save('my_model.keras')` or `keras.saving.save_model(model, 'my_model.keras')`. \n",
            "WARNING:absl:You are saving your model as an HDF5 file via `model.save()` or `keras.saving.save_model(model)`. This file format is considered legacy. We recommend using instead the native Keras format, e.g. `model.save('my_model.keras')` or `keras.saving.save_model(model, 'my_model.keras')`. \n",
            "WARNING:absl:You are saving your model as an HDF5 file via `model.save()` or `keras.saving.save_model(model)`. This file format is considered legacy. We recommend using instead the native Keras format, e.g. `model.save('my_model.keras')` or `keras.saving.save_model(model, 'my_model.keras')`. \n",
            "WARNING:absl:You are saving your model as an HDF5 file via `model.save()` or `keras.saving.save_model(model)`. This file format is considered legacy. We recommend using instead the native Keras format, e.g. `model.save('my_model.keras')` or `keras.saving.save_model(model, 'my_model.keras')`. \n",
            "[I 2025-04-28 20:00:51,572] Trial 5 finished with value: 0.5350877046585083 and parameters: {'learning_rate': 1.2962358433898036e-05, 'dropout_rate': 0.43124528716371024, 'batch_size': 16}. Best is trial 2 with value: 0.8801169395446777.\n",
            "WARNING:absl:You are saving your model as an HDF5 file via `model.save()` or `keras.saving.save_model(model)`. This file format is considered legacy. We recommend using instead the native Keras format, e.g. `model.save('my_model.keras')` or `keras.saving.save_model(model, 'my_model.keras')`. \n",
            "WARNING:absl:You are saving your model as an HDF5 file via `model.save()` or `keras.saving.save_model(model)`. This file format is considered legacy. We recommend using instead the native Keras format, e.g. `model.save('my_model.keras')` or `keras.saving.save_model(model, 'my_model.keras')`. \n",
            "WARNING:absl:You are saving your model as an HDF5 file via `model.save()` or `keras.saving.save_model(model)`. This file format is considered legacy. We recommend using instead the native Keras format, e.g. `model.save('my_model.keras')` or `keras.saving.save_model(model, 'my_model.keras')`. \n",
            "WARNING:absl:You are saving your model as an HDF5 file via `model.save()` or `keras.saving.save_model(model)`. This file format is considered legacy. We recommend using instead the native Keras format, e.g. `model.save('my_model.keras')` or `keras.saving.save_model(model, 'my_model.keras')`. \n",
            "WARNING:absl:You are saving your model as an HDF5 file via `model.save()` or `keras.saving.save_model(model)`. This file format is considered legacy. We recommend using instead the native Keras format, e.g. `model.save('my_model.keras')` or `keras.saving.save_model(model, 'my_model.keras')`. \n",
            "WARNING:absl:You are saving your model as an HDF5 file via `model.save()` or `keras.saving.save_model(model)`. This file format is considered legacy. We recommend using instead the native Keras format, e.g. `model.save('my_model.keras')` or `keras.saving.save_model(model, 'my_model.keras')`. \n",
            "WARNING:absl:You are saving your model as an HDF5 file via `model.save()` or `keras.saving.save_model(model)`. This file format is considered legacy. We recommend using instead the native Keras format, e.g. `model.save('my_model.keras')` or `keras.saving.save_model(model, 'my_model.keras')`. \n",
            "WARNING:absl:You are saving your model as an HDF5 file via `model.save()` or `keras.saving.save_model(model)`. This file format is considered legacy. We recommend using instead the native Keras format, e.g. `model.save('my_model.keras')` or `keras.saving.save_model(model, 'my_model.keras')`. \n",
            "WARNING:absl:You are saving your model as an HDF5 file via `model.save()` or `keras.saving.save_model(model)`. This file format is considered legacy. We recommend using instead the native Keras format, e.g. `model.save('my_model.keras')` or `keras.saving.save_model(model, 'my_model.keras')`. \n",
            "WARNING:absl:You are saving your model as an HDF5 file via `model.save()` or `keras.saving.save_model(model)`. This file format is considered legacy. We recommend using instead the native Keras format, e.g. `model.save('my_model.keras')` or `keras.saving.save_model(model, 'my_model.keras')`. \n",
            "WARNING:absl:You are saving your model as an HDF5 file via `model.save()` or `keras.saving.save_model(model)`. This file format is considered legacy. We recommend using instead the native Keras format, e.g. `model.save('my_model.keras')` or `keras.saving.save_model(model, 'my_model.keras')`. \n",
            "[I 2025-04-28 20:09:52,898] Trial 6 finished with value: 0.8830409646034241 and parameters: {'learning_rate': 0.0009320347175084364, 'dropout_rate': 0.31594952769160384, 'batch_size': 32}. Best is trial 6 with value: 0.8830409646034241.\n",
            "WARNING:absl:You are saving your model as an HDF5 file via `model.save()` or `keras.saving.save_model(model)`. This file format is considered legacy. We recommend using instead the native Keras format, e.g. `model.save('my_model.keras')` or `keras.saving.save_model(model, 'my_model.keras')`. \n",
            "WARNING:absl:You are saving your model as an HDF5 file via `model.save()` or `keras.saving.save_model(model)`. This file format is considered legacy. We recommend using instead the native Keras format, e.g. `model.save('my_model.keras')` or `keras.saving.save_model(model, 'my_model.keras')`. \n",
            "WARNING:absl:You are saving your model as an HDF5 file via `model.save()` or `keras.saving.save_model(model)`. This file format is considered legacy. We recommend using instead the native Keras format, e.g. `model.save('my_model.keras')` or `keras.saving.save_model(model, 'my_model.keras')`. \n",
            "WARNING:absl:You are saving your model as an HDF5 file via `model.save()` or `keras.saving.save_model(model)`. This file format is considered legacy. We recommend using instead the native Keras format, e.g. `model.save('my_model.keras')` or `keras.saving.save_model(model, 'my_model.keras')`. \n",
            "WARNING:absl:You are saving your model as an HDF5 file via `model.save()` or `keras.saving.save_model(model)`. This file format is considered legacy. We recommend using instead the native Keras format, e.g. `model.save('my_model.keras')` or `keras.saving.save_model(model, 'my_model.keras')`. \n",
            "WARNING:absl:You are saving your model as an HDF5 file via `model.save()` or `keras.saving.save_model(model)`. This file format is considered legacy. We recommend using instead the native Keras format, e.g. `model.save('my_model.keras')` or `keras.saving.save_model(model, 'my_model.keras')`. \n",
            "WARNING:absl:You are saving your model as an HDF5 file via `model.save()` or `keras.saving.save_model(model)`. This file format is considered legacy. We recommend using instead the native Keras format, e.g. `model.save('my_model.keras')` or `keras.saving.save_model(model, 'my_model.keras')`. \n"
          ]
        }
      ],
      "source": [
        "import os\n",
        "import numpy as np\n",
        "import pandas as pd\n",
        "import seaborn as sns\n",
        "import matplotlib.pyplot as plt\n",
        "import mplcyberpunk\n",
        "plt.style.use(\"cyberpunk\")\n",
        "import cv2\n",
        "import tensorflow as tf\n",
        "from sklearn.utils import shuffle\n",
        "from tensorflow.keras.models import Sequential\n",
        "from tensorflow.keras.layers import GlobalAveragePooling2D, Dropout, Dense, BatchNormalization\n",
        "from tensorflow.keras.callbacks import EarlyStopping, ReduceLROnPlateau, ModelCheckpoint\n",
        "from sklearn.metrics import classification_report, confusion_matrix\n",
        "from tqdm import tqdm\n",
        "from tensorflow.keras.applications import DenseNet121\n",
        "from tensorflow.keras.preprocessing.image import ImageDataGenerator\n",
        "import optuna\n",
        "from sklearn.utils.class_weight import compute_class_weight\n",
        "from warnings import filterwarnings\n",
        "filterwarnings('ignore')\n",
        "from google.colab import drive\n",
        "\n",
        "# Custom Focal Loss Implementation\n",
        "def focal_loss(gamma=2.0, alpha=0.25):\n",
        "    def focal_loss_fixed(y_true, y_pred):\n",
        "        y_pred = tf.clip_by_value(y_pred, tf.keras.backend.epsilon(), 1. - tf.keras.backend.epsilon())\n",
        "        cross_entropy = -y_true * tf.math.log(y_pred)\n",
        "        weight = alpha * y_true * tf.pow(1 - y_pred, gamma)\n",
        "        loss = weight * cross_entropy\n",
        "        return tf.reduce_mean(loss, axis=-1)\n",
        "    return focal_loss_fixed\n",
        "\n",
        "# GPU Control\n",
        "physical_devices = tf.config.list_physical_devices('GPU')\n",
        "if physical_devices:\n",
        "    print(f\"GPU bulundu: {physical_devices}\")\n",
        "    tf.config.experimental.set_memory_growth(physical_devices[0], True)\n",
        "else:\n",
        "    print(\"GPU bulunamadı, CPU kullanılacak.\")\n",
        "\n",
        "# Google Drive Mount\n",
        "drive.mount('/content/drive')\n",
        "\n",
        "# Check Dataset Directory\n",
        "directory_path = '/content/drive/My Drive/DataSets'\n",
        "if os.path.exists(directory_path):\n",
        "    print(\"Klasör mevcut!\")\n",
        "else:\n",
        "    print(\"Klasör mevcut değil.\")\n",
        "    exit()\n",
        "\n",
        "# Data Loading\n",
        "X_train = []\n",
        "y_train = []\n",
        "labels = ['glioma_tumor', 'no_tumor', 'meningioma_tumor', 'pituitary_tumor']\n",
        "image_size = 150\n",
        "\n",
        "for i in labels:\n",
        "    folderPath = os.path.join('/content/drive/My Drive/DataSets/Training', i)\n",
        "    for j in tqdm(os.listdir(folderPath)):\n",
        "        img = cv2.imread(os.path.join(folderPath, j))\n",
        "        img = cv2.resize(img, (image_size, image_size))\n",
        "        X_train.append(img)\n",
        "        y_train.append(i)\n",
        "\n",
        "X_test = []\n",
        "y_test = []\n",
        "for i in labels:\n",
        "    folderPath = os.path.join('/content/drive/My Drive/DataSets/Testing', i)\n",
        "    for j in tqdm(os.listdir(folderPath)):\n",
        "        img = cv2.imread(os.path.join(folderPath, j))\n",
        "        img = cv2.resize(img, (image_size, image_size))\n",
        "        X_test.append(img)\n",
        "        y_test.append(i)\n",
        "\n",
        "# Convert to NumPy Arrays\n",
        "X_train = np.array(X_train)\n",
        "y_train = np.array(y_train)\n",
        "X_test = np.array(X_test)\n",
        "y_test = np.array(y_test)\n",
        "\n",
        "# Shuffle Training Data\n",
        "X_train, y_train = shuffle(X_train, y_train, random_state=101)\n",
        "\n",
        "# Oversampling for Glioma\n",
        "y_train_new = [labels.index(i) for i in y_train]\n",
        "y_test_new = [labels.index(i) for i in y_test]\n",
        "\n",
        "glioma_indices = [i for i, label in enumerate(y_train_new) if label == labels.index('glioma_tumor')]\n",
        "oversampled_X = X_train[glioma_indices]\n",
        "oversampled_y = y_train[glioma_indices]\n",
        "X_train = np.concatenate([X_train, oversampled_X[:len(glioma_indices)//2]])\n",
        "y_train = np.concatenate([y_train, oversampled_y[:len(glioma_indices)//2]])\n",
        "\n",
        "# Convert Labels to Categorical\n",
        "y_train_new = [labels.index(i) for i in y_train]\n",
        "y_train = tf.keras.utils.to_categorical(y_train_new)\n",
        "y_test = tf.keras.utils.to_categorical(y_test_new)\n",
        "\n",
        "# Class Weights\n",
        "class_weights = compute_class_weight('balanced', classes=np.unique(y_train_new), y=y_train_new)\n",
        "class_weight_dict = dict(enumerate(class_weights))\n",
        "class_weight_dict[labels.index('glioma_tumor')] *= 1.5\n",
        "\n",
        "# Data Augmentation\n",
        "glioma_datagen = ImageDataGenerator(\n",
        "    rotation_range=30,\n",
        "    width_shift_range=0.3,\n",
        "    height_shift_range=0.3,\n",
        "    shear_range=0.3,\n",
        "    zoom_range=0.3,\n",
        "    horizontal_flip=True,\n",
        "    fill_mode='nearest',\n",
        "    rescale=1./255\n",
        ")\n",
        "\n",
        "datagen = ImageDataGenerator(\n",
        "    rotation_range=20,\n",
        "    width_shift_range=0.2,\n",
        "    height_shift_range=0.2,\n",
        "    shear_range=0.2,\n",
        "    zoom_range=0.2,\n",
        "    horizontal_flip=True,\n",
        "    fill_mode='nearest',\n",
        "    rescale=1./255\n",
        ")\n",
        "\n",
        "test_datagen = ImageDataGenerator(rescale=1./255)\n",
        "\n",
        "train_generator = datagen.flow(X_train, y_train, batch_size=32)\n",
        "test_generator = test_datagen.flow(X_test, y_test, batch_size=32, shuffle=False)\n",
        "\n",
        "# Optuna Hyperparameter Optimization\n",
        "def objective(trial):\n",
        "    learning_rate = trial.suggest_float(\"learning_rate\", 1e-5, 1e-3, log=True)\n",
        "    dropout_rate = trial.suggest_float(\"dropout_rate\", 0.3, 0.5)\n",
        "    batch_size = trial.suggest_categorical(\"batch_size\", [16, 32, 64])\n",
        "\n",
        "    base_model = DenseNet121(weights='imagenet', include_top=False, input_shape=(image_size, image_size, 3))\n",
        "    base_model.trainable = True\n",
        "    for layer in base_model.layers[:-20]:\n",
        "        layer.trainable = False\n",
        "\n",
        "    model = Sequential([\n",
        "        base_model,\n",
        "        GlobalAveragePooling2D(),\n",
        "        BatchNormalization(),\n",
        "        Dense(256, activation='relu', kernel_regularizer=tf.keras.regularizers.l2(0.01)),\n",
        "        Dropout(dropout_rate),\n",
        "        Dense(128, activation='relu', kernel_regularizer=tf.keras.regularizers.l2(0.01)),\n",
        "        Dropout(dropout_rate),\n",
        "        Dense(len(labels), activation='softmax')\n",
        "    ])\n",
        "\n",
        "    model.compile(\n",
        "        optimizer=tf.keras.optimizers.Adam(learning_rate=learning_rate),\n",
        "        loss=focal_loss(gamma=2.0, alpha=0.25),\n",
        "        metrics=['accuracy']\n",
        "    )\n",
        "\n",
        "    early_stopping = EarlyStopping(monitor='val_loss', patience=5, restore_best_weights=True)\n",
        "    reduce_lr = ReduceLROnPlateau(monitor='val_loss', factor=0.2, patience=3, min_lr=1e-6)\n",
        "    checkpoint = ModelCheckpoint('best_densenet_model_temp.h5', monitor='val_accuracy', save_best_only=True, mode='max')\n",
        "\n",
        "    history = model.fit(\n",
        "        train_generator,\n",
        "        validation_data=test_generator,\n",
        "        epochs=20,\n",
        "        batch_size=batch_size,\n",
        "        callbacks=[early_stopping, reduce_lr, checkpoint],\n",
        "        class_weight=class_weight_dict,\n",
        "        verbose=0\n",
        "    )\n",
        "\n",
        "    val_accuracy = max(history.history['val_accuracy'])\n",
        "    return val_accuracy\n",
        "\n",
        "study = optuna.create_study(direction=\"maximize\")\n",
        "study.optimize(objective, n_trials=10)\n",
        "\n",
        "best_params = study.best_params\n",
        "print(\"En iyi hiperparametreler:\", best_params)\n",
        "\n",
        "# Final Model Training\n",
        "learning_rate = best_params['learning_rate']\n",
        "dropout_rate = best_params['dropout_rate']\n",
        "batch_size = best_params['batch_size']\n",
        "\n",
        "base_model = DenseNet121(weights='imagenet', include_top=False, input_shape=(image_size, image_size, 3))\n",
        "base_model.trainable = True\n",
        "for layer in base_model.layers[:-20]:\n",
        "    layer.trainable = False\n",
        "\n",
        "model = Sequential([\n",
        "    base_model,\n",
        "    GlobalAveragePooling2D(),\n",
        "    BatchNormalization(),\n",
        "    Dense(256, activation='relu', kernel_regularizer=tf.keras.regularizers.l2(0.01)),\n",
        "    Dropout(dropout_rate),\n",
        "    Dense(128, activation='relu', kernel_regularizer=tf.keras.regularizers.l2(0.01)),\n",
        "    Dropout(dropout_rate),\n",
        "    Dense(len(labels), activation='softmax')\n",
        "])\n",
        "\n",
        "model.compile(\n",
        "    optimizer=tf.keras.optimizers.Adam(learning_rate=learning_rate),\n",
        "    loss=focal_loss(gamma=2.0, alpha=0.25),\n",
        "    metrics=['accuracy']\n",
        ")\n",
        "\n",
        "early_stopping = EarlyStopping(monitor='val_loss', patience=5, restore_best_weights=True)\n",
        "reduce_lr = ReduceLROnPlateau(monitor='val_loss', factor=0.2, patience=3, min_lr=1e-6)\n",
        "checkpoint = ModelCheckpoint('best_densenet_model_final.h5', monitor='val_accuracy', save_best_only=True, mode='max')\n",
        "\n",
        "history = model.fit(\n",
        "    train_generator,\n",
        "    validation_data=test_generator,\n",
        "    epochs=30,\n",
        "    batch_size=batch_size,\n",
        "    callbacks=[early_stopping, reduce_lr, checkpoint],\n",
        "    class_weight=class_weight_dict\n",
        ")\n",
        "\n",
        "# Visualization\n",
        "plt.figure(figsize=(12, 4))\n",
        "plt.subplot(1, 2, 1)\n",
        "plt.plot(history.history['accuracy'], label='Training Accuracy')\n",
        "plt.plot(history.history['val_accuracy'], label='Validation Accuracy')\n",
        "plt.title('Training and Validation Accuracy')\n",
        "plt.xlabel('Epoch')\n",
        "plt.ylabel('Accuracy')\n",
        "plt.legend()\n",
        "plt.subplot(1, 2, 2)\n",
        "plt.plot(history.history['loss'], label='Training Loss')\n",
        "plt.plot(history.history['val_loss'], label='Validation Loss')\n",
        "plt.title('Training and Validation Loss')\n",
        "plt.xlabel('Epoch')\n",
        "plt.ylabel('Loss')\n",
        "plt.legend()\n",
        "plt.tight_layout()\n",
        "plt.savefig('densenet_training_plots.png')\n",
        "\n",
        "# Evaluation\n",
        "y_pred = model.predict(test_generator)\n",
        "y_pred_classes = np.argmax(y_pred, axis=1)\n",
        "y_true_classes = np.argmax(y_test, axis=1)\n",
        "\n",
        "print(\"Sınıflandırma Raporu:\")\n",
        "print(classification_report(y_true_classes, y_pred_classes, target_names=labels))\n",
        "\n",
        "cm = confusion_matrix(y_true_classes, y_pred_classes)\n",
        "plt.figure(figsize=(8, 6))\n",
        "sns.heatmap(cm, annot=True, fmt='d', cmap='Blues', xticklabels=labels, yticklabels=labels)\n",
        "plt.title('Confusion Matrix')\n",
        "plt.xlabel('Predicted')\n",
        "plt.ylabel('True')\n",
        "plt.savefig('densenet_confusion_matrix.png')\n",
        "\n",
        "model.save('densenet_final_model.h5')"
      ]
    },
    {
      "cell_type": "markdown",
      "metadata": {
        "id": "k_uDE3z3WVG9"
      },
      "source": [
        "FINAL F1"
      ]
    },
    {
      "cell_type": "code",
      "execution_count": null,
      "metadata": {
        "colab": {
          "base_uri": "https://localhost:8080/",
          "height": 1000
        },
        "id": "gWFUK0SHvmla",
        "outputId": "e3f52c17-be72-4a6c-e184-faaf23e77109"
      },
      "outputs": [
        {
          "name": "stdout",
          "output_type": "stream",
          "text": [
            "GPU bulundu: [PhysicalDevice(name='/physical_device:GPU:0', device_type='GPU')]\n",
            "Drive already mounted at /content/drive; to attempt to forcibly remount, call drive.mount(\"/content/drive\", force_remount=True).\n",
            "Found 2870 images belonging to 4 classes.\n",
            "Found 394 images belonging to 4 classes.\n"
          ]
        },
        {
          "name": "stderr",
          "output_type": "stream",
          "text": [
            "[I 2025-05-08 16:29:30,619] A new study created in memory with name: no-name-439ee048-cc8e-46af-9445-d9cfc479bfd0\n",
            "/usr/local/lib/python3.11/dist-packages/keras/src/trainers/data_adapters/py_dataset_adapter.py:121: UserWarning: Your `PyDataset` class should call `super().__init__(**kwargs)` in its constructor. `**kwargs` can include `workers`, `use_multiprocessing`, `max_queue_size`. Do not pass these arguments to `fit()`, as they will be ignored.\n",
            "  self._warn_if_super_not_called()\n",
            "[I 2025-05-08 16:35:12,804] Trial 0 finished with value: 0.6427682897119072 and parameters: {'learning_rate': 0.0012719888217022585, 'dropout_rate': 0.44672058496110467, 'units': 435}. Best is trial 0 with value: 0.6427682897119072.\n",
            "[I 2025-05-08 16:38:35,540] Trial 1 finished with value: 0.6127884957872718 and parameters: {'learning_rate': 0.0001248328948595159, 'dropout_rate': 0.23192287092756947, 'units': 351}. Best is trial 0 with value: 0.6427682897119072.\n",
            "[I 2025-05-08 16:41:58,692] Trial 2 finished with value: 0.41896235334608806 and parameters: {'learning_rate': 1.5525073388010832e-05, 'dropout_rate': 0.2620702550264834, 'units': 385}. Best is trial 0 with value: 0.6427682897119072.\n",
            "[I 2025-05-08 16:45:21,916] Trial 3 finished with value: 0.6733207510646535 and parameters: {'learning_rate': 0.002352202266350223, 'dropout_rate': 0.285535819667795, 'units': 285}. Best is trial 3 with value: 0.6733207510646535.\n",
            "[I 2025-05-08 16:48:44,502] Trial 4 finished with value: 0.6853879939116831 and parameters: {'learning_rate': 0.001970221234782391, 'dropout_rate': 0.586155026374745, 'units': 223}. Best is trial 4 with value: 0.6853879939116831.\n",
            "[I 2025-05-08 16:52:07,439] Trial 5 finished with value: 0.36069233484179253 and parameters: {'learning_rate': 2.311010582005046e-05, 'dropout_rate': 0.5694549627012371, 'units': 228}. Best is trial 4 with value: 0.6853879939116831.\n",
            "[I 2025-05-08 16:55:30,065] Trial 6 finished with value: 0.6780779147332657 and parameters: {'learning_rate': 0.005238307591973495, 'dropout_rate': 0.25344678636816326, 'units': 189}. Best is trial 4 with value: 0.6853879939116831.\n",
            "[I 2025-05-08 16:58:54,514] Trial 7 finished with value: 0.6469945899628935 and parameters: {'learning_rate': 0.00015237863057068098, 'dropout_rate': 0.3502542227929602, 'units': 368}. Best is trial 4 with value: 0.6853879939116831.\n",
            "[I 2025-05-08 17:02:16,948] Trial 8 finished with value: 0.642772516530123 and parameters: {'learning_rate': 0.0015447253283729142, 'dropout_rate': 0.5893964492623677, 'units': 433}. Best is trial 4 with value: 0.6853879939116831.\n",
            "[I 2025-05-08 17:05:40,845] Trial 9 finished with value: 0.6760065936087604 and parameters: {'learning_rate': 0.00219469608900172, 'dropout_rate': 0.2587010081006056, 'units': 338}. Best is trial 4 with value: 0.6853879939116831.\n"
          ]
        },
        {
          "name": "stdout",
          "output_type": "stream",
          "text": [
            "En iyi hiperparametreler: {'learning_rate': 0.001970221234782391, 'dropout_rate': 0.586155026374745, 'units': 223}\n",
            "Epoch 1/20\n",
            "\u001b[1m90/90\u001b[0m \u001b[32m━━━━━━━━━━━━━━━━━━━━\u001b[0m\u001b[37m\u001b[0m \u001b[1m0s\u001b[0m 541ms/step - accuracy: 0.6490 - loss: 0.0453"
          ]
        },
        {
          "name": "stderr",
          "output_type": "stream",
          "text": [
            "WARNING:absl:You are saving your model as an HDF5 file via `model.save()` or `keras.saving.save_model(model)`. This file format is considered legacy. We recommend using instead the native Keras format, e.g. `model.save('my_model.keras')` or `keras.saving.save_model(model, 'my_model.keras')`. \n"
          ]
        },
        {
          "name": "stdout",
          "output_type": "stream",
          "text": [
            "\b\b\b\b\b\b\b\b\b\b\b\b\b\b\b\b\b\b\b\b\b\b\b\b\b\b\b\b\b\b\b\b\b\b\b\b\b\b\b\b\b\b\b\b\b\b\b\b\b\b\b\b\b\b\b\b\b\b\b\b\b\b\b\b\b\b\b\b\b\b\b\b\b\b\r\u001b[1m90/90\u001b[0m \u001b[32m━━━━━━━━━━━━━━━━━━━━\u001b[0m\u001b[37m\u001b[0m \u001b[1m95s\u001b[0m 752ms/step - accuracy: 0.6500 - loss: 0.0451 - val_accuracy: 0.3832 - val_loss: 0.1696\n",
            "Epoch 2/20\n",
            "\u001b[1m90/90\u001b[0m \u001b[32m━━━━━━━━━━━━━━━━━━━━\u001b[0m\u001b[37m\u001b[0m \u001b[1m0s\u001b[0m 414ms/step - accuracy: 0.8434 - loss: 0.0147"
          ]
        },
        {
          "name": "stderr",
          "output_type": "stream",
          "text": [
            "WARNING:absl:You are saving your model as an HDF5 file via `model.save()` or `keras.saving.save_model(model)`. This file format is considered legacy. We recommend using instead the native Keras format, e.g. `model.save('my_model.keras')` or `keras.saving.save_model(model, 'my_model.keras')`. \n"
          ]
        },
        {
          "name": "stdout",
          "output_type": "stream",
          "text": [
            "\b\b\b\b\b\b\b\b\b\b\b\b\b\b\b\b\b\b\b\b\b\b\b\b\b\b\b\b\b\b\b\b\b\b\b\b\b\b\b\b\b\b\b\b\b\b\b\b\b\b\b\b\b\b\b\b\b\b\b\b\b\b\b\b\b\b\b\b\b\b\b\b\b\b\r\u001b[1m90/90\u001b[0m \u001b[32m━━━━━━━━━━━━━━━━━━━━\u001b[0m\u001b[37m\u001b[0m \u001b[1m40s\u001b[0m 441ms/step - accuracy: 0.8434 - loss: 0.0147 - val_accuracy: 0.6371 - val_loss: 0.0564\n",
            "Epoch 3/20\n",
            "\u001b[1m90/90\u001b[0m \u001b[32m━━━━━━━━━━━━━━━━━━━━\u001b[0m\u001b[37m\u001b[0m \u001b[1m0s\u001b[0m 414ms/step - accuracy: 0.8753 - loss: 0.0086"
          ]
        },
        {
          "name": "stderr",
          "output_type": "stream",
          "text": [
            "WARNING:absl:You are saving your model as an HDF5 file via `model.save()` or `keras.saving.save_model(model)`. This file format is considered legacy. We recommend using instead the native Keras format, e.g. `model.save('my_model.keras')` or `keras.saving.save_model(model, 'my_model.keras')`. \n"
          ]
        },
        {
          "name": "stdout",
          "output_type": "stream",
          "text": [
            "\b\b\b\b\b\b\b\b\b\b\b\b\b\b\b\b\b\b\b\b\b\b\b\b\b\b\b\b\b\b\b\b\b\b\b\b\b\b\b\b\b\b\b\b\b\b\b\b\b\b\b\b\b\b\b\b\b\b\b\b\b\b\b\b\b\b\b\b\b\b\b\b\b\b\r\u001b[1m90/90\u001b[0m \u001b[32m━━━━━━━━━━━━━━━━━━━━\u001b[0m\u001b[37m\u001b[0m \u001b[1m39s\u001b[0m 437ms/step - accuracy: 0.8753 - loss: 0.0086 - val_accuracy: 0.6574 - val_loss: 0.0656\n",
            "Epoch 4/20\n",
            "\u001b[1m90/90\u001b[0m \u001b[32m━━━━━━━━━━━━━━━━━━━━\u001b[0m\u001b[37m\u001b[0m \u001b[1m0s\u001b[0m 416ms/step - accuracy: 0.8875 - loss: 0.0090"
          ]
        },
        {
          "name": "stderr",
          "output_type": "stream",
          "text": [
            "WARNING:absl:You are saving your model as an HDF5 file via `model.save()` or `keras.saving.save_model(model)`. This file format is considered legacy. We recommend using instead the native Keras format, e.g. `model.save('my_model.keras')` or `keras.saving.save_model(model, 'my_model.keras')`. \n"
          ]
        },
        {
          "name": "stdout",
          "output_type": "stream",
          "text": [
            "\b\b\b\b\b\b\b\b\b\b\b\b\b\b\b\b\b\b\b\b\b\b\b\b\b\b\b\b\b\b\b\b\b\b\b\b\b\b\b\b\b\b\b\b\b\b\b\b\b\b\b\b\b\b\b\b\b\b\b\b\b\b\b\b\b\b\b\b\b\b\b\b\b\b\r\u001b[1m90/90\u001b[0m \u001b[32m━━━━━━━━━━━━━━━━━━━━\u001b[0m\u001b[37m\u001b[0m \u001b[1m40s\u001b[0m 439ms/step - accuracy: 0.8877 - loss: 0.0090 - val_accuracy: 0.7107 - val_loss: 0.0725\n",
            "Epoch 5/20\n",
            "\u001b[1m90/90\u001b[0m \u001b[32m━━━━━━━━━━━━━━━━━━━━\u001b[0m\u001b[37m\u001b[0m \u001b[1m0s\u001b[0m 414ms/step - accuracy: 0.9021 - loss: 0.0061"
          ]
        },
        {
          "name": "stderr",
          "output_type": "stream",
          "text": [
            "WARNING:absl:You are saving your model as an HDF5 file via `model.save()` or `keras.saving.save_model(model)`. This file format is considered legacy. We recommend using instead the native Keras format, e.g. `model.save('my_model.keras')` or `keras.saving.save_model(model, 'my_model.keras')`. \n"
          ]
        },
        {
          "name": "stdout",
          "output_type": "stream",
          "text": [
            "\b\b\b\b\b\b\b\b\b\b\b\b\b\b\b\b\b\b\b\b\b\b\b\b\b\b\b\b\b\b\b\b\b\b\b\b\b\b\b\b\b\b\b\b\b\b\b\b\b\b\b\b\b\b\b\b\b\b\b\b\b\b\b\b\b\b\b\b\b\b\b\b\b\b\r\u001b[1m90/90\u001b[0m \u001b[32m━━━━━━━━━━━━━━━━━━━━\u001b[0m\u001b[37m\u001b[0m \u001b[1m39s\u001b[0m 437ms/step - accuracy: 0.9021 - loss: 0.0061 - val_accuracy: 0.7513 - val_loss: 0.0638\n",
            "Epoch 6/20\n",
            "\u001b[1m90/90\u001b[0m \u001b[32m━━━━━━━━━━━━━━━━━━━━\u001b[0m\u001b[37m\u001b[0m \u001b[1m40s\u001b[0m 439ms/step - accuracy: 0.9181 - loss: 0.0056 - val_accuracy: 0.7386 - val_loss: 0.0683\n",
            "Epoch 7/20\n",
            "\u001b[1m90/90\u001b[0m \u001b[32m━━━━━━━━━━━━━━━━━━━━\u001b[0m\u001b[37m\u001b[0m \u001b[1m39s\u001b[0m 433ms/step - accuracy: 0.9293 - loss: 0.0048 - val_accuracy: 0.7310 - val_loss: 0.0964\n"
          ]
        },
        {
          "data": {
            "image/png": "[encoded data removed]",
            "text/plain": [
              "<Figure size 1200x400 with 2 Axes>"
            ]
          },
          "metadata": {},
          "output_type": "display_data"
        },
        {
          "name": "stdout",
          "output_type": "stream",
          "text": [
            "\u001b[1m1/1\u001b[0m \u001b[32m━━━━━━━━━━━━━━━━━━━━\u001b[0m\u001b[37m\u001b[0m \u001b[1m10s\u001b[0m 10s/step\n",
            "\u001b[1m1/1\u001b[0m \u001b[32m━━━━━━━━━━━━━━━━━━━━\u001b[0m\u001b[37m\u001b[0m \u001b[1m0s\u001b[0m 74ms/step\n",
            "\u001b[1m1/1\u001b[0m \u001b[32m━━━━━━━━━━━━━━━━━━━━\u001b[0m\u001b[37m\u001b[0m \u001b[1m0s\u001b[0m 73ms/step\n",
            "\u001b[1m1/1\u001b[0m \u001b[32m━━━━━━━━━━━━━━━━━━━━\u001b[0m\u001b[37m\u001b[0m \u001b[1m0s\u001b[0m 73ms/step\n",
            "\u001b[1m1/1\u001b[0m \u001b[32m━━━━━━━━━━━━━━━━━━━━\u001b[0m\u001b[37m\u001b[0m \u001b[1m0s\u001b[0m 73ms/step\n",
            "\u001b[1m1/1\u001b[0m \u001b[32m━━━━━━━━━━━━━━━━━━━━\u001b[0m\u001b[37m\u001b[0m \u001b[1m0s\u001b[0m 73ms/step\n",
            "\u001b[1m1/1\u001b[0m \u001b[32m━━━━━━━━━━━━━━━━━━━━\u001b[0m\u001b[37m\u001b[0m \u001b[1m0s\u001b[0m 73ms/step\n",
            "\u001b[1m1/1\u001b[0m \u001b[32m━━━━━━━━━━━━━━━━━━━━\u001b[0m\u001b[37m\u001b[0m \u001b[1m0s\u001b[0m 73ms/step\n",
            "\u001b[1m1/1\u001b[0m \u001b[32m━━━━━━━━━━━━━━━━━━━━\u001b[0m\u001b[37m\u001b[0m \u001b[1m0s\u001b[0m 73ms/step\n",
            "\u001b[1m1/1\u001b[0m \u001b[32m━━━━━━━━━━━━━━━━━━━━\u001b[0m\u001b[37m\u001b[0m \u001b[1m0s\u001b[0m 73ms/step\n",
            "\u001b[1m1/1\u001b[0m \u001b[32m━━━━━━━━━━━━━━━━━━━━\u001b[0m\u001b[37m\u001b[0m \u001b[1m0s\u001b[0m 72ms/step\n",
            "\u001b[1m1/1\u001b[0m \u001b[32m━━━━━━━━━━━━━━━━━━━━\u001b[0m\u001b[37m\u001b[0m \u001b[1m0s\u001b[0m 73ms/step\n",
            "\u001b[1m1/1\u001b[0m \u001b[32m━━━━━━━━━━━━━━━━━━━━\u001b[0m\u001b[37m\u001b[0m \u001b[1m10s\u001b[0m 10s/step\n"
          ]
        },
        {
          "data": {
            "image/png": "[encoded data removed]",
            "text/plain": [
              "<Figure size 800x600 with 2 Axes>"
            ]
          },
          "metadata": {},
          "output_type": "display_data"
        },
        {
          "name": "stdout",
          "output_type": "stream",
          "text": [
            "Classification Report:\n",
            "                  precision    recall  f1-score   support\n",
            "\n",
            "    glioma_tumor       0.64      0.25      0.36       100\n",
            "meningioma_tumor       0.51      0.92      0.65       115\n",
            "        no_tumor       0.80      0.64      0.71       105\n",
            " pituitary_tumor       0.85      0.72      0.78        74\n",
            "\n",
            "        accuracy                           0.64       394\n",
            "       macro avg       0.70      0.63      0.63       394\n",
            "    weighted avg       0.68      0.64      0.62       394\n",
            "\n"
          ]
        },
        {
          "name": "stderr",
          "output_type": "stream",
          "text": [
            "WARNING:absl:You are saving your model as an HDF5 file via `model.save()` or `keras.saving.save_model(model)`. This file format is considered legacy. We recommend using instead the native Keras format, e.g. `model.save('my_model.keras')` or `keras.saving.save_model(model, 'my_model.keras')`. \n"
          ]
        }
      ],
      "source": [
        "import os\n",
        "import numpy as np\n",
        "import matplotlib.pyplot as plt\n",
        "import seaborn as sns\n",
        "import tensorflow as tf\n",
        "import optuna\n",
        "from sklearn.metrics import classification_report, confusion_matrix, f1_score\n",
        "from sklearn.utils.class_weight import compute_class_weight\n",
        "from tensorflow.keras.models import Sequential\n",
        "from tensorflow.keras.layers import GlobalAveragePooling2D, Dense, Dropout, BatchNormalization\n",
        "from tensorflow.keras.applications import DenseNet121\n",
        "from tensorflow.keras.preprocessing.image import ImageDataGenerator\n",
        "from tensorflow.keras.optimizers import Adam\n",
        "from tensorflow.keras.callbacks import EarlyStopping, ModelCheckpoint\n",
        "import mplcyberpunk\n",
        "from google.colab import drive\n",
        "\n",
        "plt.style.use(\"cyberpunk\")\n",
        "\n",
        "# ✅ Focal Loss tanımı\n",
        "def focal_loss(gamma=2.0, alpha=0.25):\n",
        "    def loss_fn(y_true, y_pred):\n",
        "        y_pred = tf.clip_by_value(y_pred, tf.keras.backend.epsilon(), 1. - tf.keras.backend.epsilon())\n",
        "        ce = -y_true * tf.math.log(y_pred)\n",
        "        weight = alpha * tf.pow(1 - y_pred, gamma)\n",
        "        fl = weight * ce\n",
        "        return tf.reduce_mean(fl, axis=-1)\n",
        "    return loss_fn\n",
        "\n",
        "# GPU kontrolü\n",
        "physical_devices = tf.config.list_physical_devices('GPU')\n",
        "if physical_devices:\n",
        "    print(f\"GPU bulundu: {physical_devices}\")\n",
        "    tf.config.experimental.set_memory_growth(physical_devices[0], True)\n",
        "else:\n",
        "    print(\"GPU bulunamadı, CPU kullanılacak.\")\n",
        "\n",
        "drive.mount('/content/drive')\n",
        "\n",
        "# Veri yolları\n",
        "train_dir = '/content/drive/MyDrive/YSA/Training'\n",
        "test_dir = '/content/drive/MyDrive/YSA/Testing'\n",
        "img_size = (224, 224)\n",
        "\n",
        "# Veri ön işleme\n",
        "train_datagen = ImageDataGenerator(rescale=1./255,\n",
        "                                   rotation_range=20,\n",
        "                                   width_shift_range=0.2,\n",
        "                                   height_shift_range=0.2,\n",
        "                                   horizontal_flip=True)\n",
        "\n",
        "test_datagen = ImageDataGenerator(rescale=1./255)\n",
        "\n",
        "train_generator = train_datagen.flow_from_directory(train_dir, target_size=img_size, batch_size=32, class_mode='categorical', shuffle=True)\n",
        "test_generator = test_datagen.flow_from_directory(test_dir, target_size=img_size, batch_size=32, class_mode='categorical', shuffle=False)\n",
        "\n",
        "# Class Weights Hesaplama\n",
        "labels = list(train_generator.class_indices.keys())\n",
        "y_train_labels = train_generator.classes\n",
        "class_weights_array = compute_class_weight(class_weight='balanced', classes=np.unique(y_train_labels), y=y_train_labels)\n",
        "class_weight_dict = dict(enumerate(class_weights_array))\n",
        "\n",
        "# Optuna Fonksiyonu (F1-score)\n",
        "def build_model(trial):\n",
        "    learning_rate = trial.suggest_float('learning_rate', 1e-5, 1e-2, log=True)\n",
        "    dropout_rate = trial.suggest_float('dropout_rate', 0.2, 0.6)\n",
        "    units = trial.suggest_int('units', 128, 512)\n",
        "\n",
        "    base_model = DenseNet121(weights='imagenet', include_top=False, input_shape=(224, 224, 3))\n",
        "    base_model.trainable = True\n",
        "    for layer in base_model.layers[:-20]:\n",
        "        layer.trainable = False\n",
        "\n",
        "    model = Sequential([\n",
        "        base_model,\n",
        "        GlobalAveragePooling2D(),\n",
        "        BatchNormalization(),\n",
        "        Dense(units, activation='relu'),\n",
        "        Dropout(dropout_rate),\n",
        "        Dense(len(labels), activation='softmax')\n",
        "    ])\n",
        "\n",
        "    model.compile(optimizer=Adam(learning_rate=learning_rate),\n",
        "                  loss=focal_loss(gamma=2.0, alpha=0.25),\n",
        "                  metrics=['accuracy'])\n",
        "\n",
        "    model.fit(train_generator, validation_data=test_generator, epochs=3, verbose=0, class_weight=class_weight_dict)\n",
        "\n",
        "    y_true, y_pred = [], []\n",
        "    for i in range(len(test_generator)):\n",
        "        X, y = test_generator[i]\n",
        "        preds = model.predict(X, verbose=0)\n",
        "        y_true.extend(np.argmax(y, axis=1))\n",
        "        y_pred.extend(np.argmax(preds, axis=1))\n",
        "\n",
        "    return f1_score(y_true, y_pred, average='macro')\n",
        "\n",
        "# Optuna optimize\n",
        "study = optuna.create_study(direction='maximize')\n",
        "study.optimize(build_model, n_trials=10)\n",
        "best_params = study.best_params\n",
        "print(\"En iyi hiperparametreler:\", best_params)\n",
        "\n",
        "# Final Model\n",
        "base_model = DenseNet121(weights='imagenet', include_top=False, input_shape=(224, 224, 3))\n",
        "base_model.trainable = True\n",
        "for layer in base_model.layers[:-20]:\n",
        "    layer.trainable = False\n",
        "\n",
        "model = Sequential([\n",
        "    base_model,\n",
        "    GlobalAveragePooling2D(),\n",
        "    BatchNormalization(),\n",
        "    Dense(best_params['units'], activation='relu'),\n",
        "    Dropout(best_params['dropout_rate']),\n",
        "    Dense(len(labels), activation='softmax')\n",
        "])\n",
        "\n",
        "model.compile(optimizer=Adam(learning_rate=best_params['learning_rate']),\n",
        "              loss=focal_loss(gamma=2.0, alpha=0.25),\n",
        "              metrics=['accuracy'])\n",
        "\n",
        "# Callbacks\n",
        "early_stopping = EarlyStopping(monitor='val_loss', patience=5, restore_best_weights=True)\n",
        "checkpoint = ModelCheckpoint('best_densenet_model_focal_224x224.h5', monitor='val_accuracy', save_best_only=True, mode='max')\n",
        "callbacks = [early_stopping, checkpoint]\n",
        "\n",
        "# Eğitim\n",
        "history = model.fit(train_generator, validation_data=test_generator,\n",
        "                    epochs=20, batch_size=32,\n",
        "                    callbacks=callbacks,\n",
        "                    class_weight=class_weight_dict)\n",
        "\n",
        "# Eğitim Grafikleri\n",
        "plt.figure(figsize=(12, 4))\n",
        "plt.subplot(1, 2, 1)\n",
        "plt.plot(history.history['accuracy'], label='Eğitim Doğruluğu')\n",
        "plt.plot(history.history['val_accuracy'], label='Doğrulama Doğruluğu')\n",
        "plt.title('Doğruluk')\n",
        "plt.xlabel('Epoch')\n",
        "plt.ylabel('Accuracy')\n",
        "plt.legend()\n",
        "\n",
        "plt.subplot(1, 2, 2)\n",
        "plt.plot(history.history['loss'], label='Eğitim Kaybı')\n",
        "plt.plot(history.history['val_loss'], label='Doğrulama Kaybı')\n",
        "plt.title('Kayıp')\n",
        "plt.xlabel('Epoch')\n",
        "plt.ylabel('Loss')\n",
        "plt.legend()\n",
        "plt.tight_layout()\n",
        "plt.show()\n",
        "\n",
        "# Tahmin ve Değerlendirme\n",
        "y_true = []\n",
        "y_pred = []\n",
        "for i in range(len(test_generator)):\n",
        "    X, y = test_generator[i]\n",
        "    preds = model.predict(X)\n",
        "    y_true.extend(np.argmax(y, axis=1))\n",
        "    y_pred.extend(np.argmax(preds, axis=1))\n",
        "\n",
        "# Confusion Matrix\n",
        "cm = confusion_matrix(y_true, y_pred)\n",
        "plt.figure(figsize=(8, 6))\n",
        "sns.heatmap(cm, annot=True, fmt='d', cmap='Blues', xticklabels=labels, yticklabels=labels)\n",
        "plt.xlabel('Tahmin Edilen')\n",
        "plt.ylabel('Gerçek')\n",
        "plt.title('Confusion Matrix')\n",
        "plt.show()\n",
        "\n",
        "# Classification Report\n",
        "print(\"Classification Report:\")\n",
        "print(classification_report(y_true, y_pred, target_names=labels))\n",
        "\n",
        "# ✅ Modeli kaydet\n",
        "model.save('final_densenet_model.h5')  # .h5 formatında tüm modeli kaydeder\n"
      ]
    },
    {
      "cell_type": "markdown",
      "metadata": {
        "id": "291rklpKbQBn"
      },
      "source": [
        "FINAL ACC"
      ]
    },
    {
      "cell_type": "code",
      "execution_count": null,
      "metadata": {
        "id": "z-wxyR50bSEj",
        "vscode": {
          "languageId": "plaintext"
        }
      },
      "outputs": [],
      "source": [
        "import os\n",
        "import numpy as np\n",
        "import matplotlib.pyplot as plt\n",
        "import seaborn as sns\n",
        "import tensorflow as tf\n",
        "import optuna\n",
        "from sklearn.metrics import classification_report, confusion_matrix\n",
        "from sklearn.utils.class_weight import compute_class_weight\n",
        "from tensorflow.keras.models import Sequential\n",
        "from tensorflow.keras.layers import GlobalAveragePooling2D, Dense, Dropout, BatchNormalization\n",
        "from tensorflow.keras.applications import DenseNet121\n",
        "from tensorflow.keras.preprocessing.image import ImageDataGenerator\n",
        "from tensorflow.keras.optimizers import Adam\n",
        "from tensorflow.keras.callbacks import EarlyStopping, ModelCheckpoint\n",
        "import mplcyberpunk\n",
        "\n",
        "plt.style.use(\"cyberpunk\")\n",
        "\n",
        "def focal_loss(gamma=2.0, alpha=0.25):\n",
        "    def loss_fn(y_true, y_pred):\n",
        "        y_pred = tf.clip_by_value(y_pred, tf.keras.backend.epsilon(), 1. - tf.keras.backend.epsilon())\n",
        "        ce = -y_true * tf.math.log(y_pred)\n",
        "        weight = alpha * tf.pow(1 - y_pred, gamma)\n",
        "        fl = weight * ce\n",
        "        return tf.reduce_mean(fl, axis=-1)\n",
        "    return loss_fn\n",
        "\n",
        "physical_devices = tf.config.list_physical_devices('GPU')\n",
        "if physical_devices:\n",
        "    print(f\"GPU bulundu: {physical_devices}\")\n",
        "    tf.config.experimental.set_memory_growth(physical_devices[0], True)\n",
        "else:\n",
        "    print(\"GPU bulunamadı, CPU kullanılacak.\")\n",
        "\n",
        "train_dir = 'DataSets/Training'\n",
        "test_dir = 'DataSets/Testing'\n",
        "img_size = (224, 224)\n",
        "\n",
        "train_datagen = ImageDataGenerator(rescale=1./255,\n",
        "                                   rotation_range=20,\n",
        "                                   width_shift_range=0.2,\n",
        "                                   height_shift_range=0.2,\n",
        "                                   horizontal_flip=True)\n",
        "test_datagen = ImageDataGenerator(rescale=1./255)\n",
        "\n",
        "train_generator = train_datagen.flow_from_directory(train_dir, target_size=img_size, batch_size=32, class_mode='categorical', shuffle=True)\n",
        "test_generator = test_datagen.flow_from_directory(test_dir, target_size=img_size, batch_size=32, class_mode='categorical', shuffle=False)\n",
        "\n",
        "labels = list(train_generator.class_indices.keys())\n",
        "y_train_labels = train_generator.classes\n",
        "class_weights_array = compute_class_weight(class_weight='balanced', classes=np.unique(y_train_labels), y=y_train_labels)\n",
        "class_weight_dict = dict(enumerate(class_weights_array))\n",
        "\n",
        "def build_model(trial):\n",
        "    learning_rate = trial.suggest_float('learning_rate', 1e-5, 1e-2, log=True)\n",
        "    dropout_rate = trial.suggest_float('dropout_rate', 0.2, 0.6)\n",
        "    units = trial.suggest_int('units', 128, 512)\n",
        "\n",
        "    base_model = DenseNet121(weights='imagenet', include_top=False, input_shape=(224, 224, 3))\n",
        "    base_model.trainable = True\n",
        "    for layer in base_model.layers[:-20]:\n",
        "        layer.trainable = False\n",
        "\n",
        "    model = Sequential([\n",
        "        base_model,\n",
        "        GlobalAveragePooling2D(),\n",
        "        BatchNormalization(),\n",
        "        Dense(units, activation='relu'),\n",
        "        Dropout(dropout_rate),\n",
        "        Dense(len(labels), activation='softmax')\n",
        "    ])\n",
        "\n",
        "    model.compile(optimizer=Adam(learning_rate=learning_rate),\n",
        "                  loss=focal_loss(gamma=2.0, alpha=0.25),\n",
        "                  metrics=['accuracy'])\n",
        "\n",
        "    history = model.fit(train_generator, validation_data=test_generator, epochs=3, verbose=0, class_weight=class_weight_dict)\n",
        "\n",
        "    return max(history.history['val_accuracy'])  \n",
        "\n",
        "study = optuna.create_study(direction='maximize')\n",
        "study.optimize(build_model, n_trials=10)\n",
        "best_params = study.best_params\n",
        "print(\"En iyi hiperparametreler:\", best_params)\n",
        "\n",
        "base_model = DenseNet121(weights='imagenet', include_top=False, input_shape=(224, 224, 3))\n",
        "base_model.trainable = True\n",
        "for layer in base_model.layers[:-20]:\n",
        "    layer.trainable = False\n",
        "\n",
        "model = Sequential([\n",
        "    base_model,\n",
        "    GlobalAveragePooling2D(),\n",
        "    BatchNormalization(),\n",
        "    Dense(best_params['units'], activation='relu'),\n",
        "    Dropout(best_params['dropout_rate']),\n",
        "    Dense(len(labels), activation='softmax')\n",
        "])\n",
        "\n",
        "model.compile(optimizer=Adam(learning_rate=best_params['learning_rate']),\n",
        "              loss=focal_loss(gamma=2.0, alpha=0.25),\n",
        "              metrics=['accuracy'])\n",
        "\n",
        "early_stopping = EarlyStopping(monitor='val_loss', patience=5, restore_best_weights=True)\n",
        "checkpoint = ModelCheckpoint('best_densenet_model_acc_224x224.h5', monitor='val_accuracy', save_best_only=True, mode='max')\n",
        "callbacks = [early_stopping, checkpoint]\n",
        "\n",
        "history = model.fit(train_generator, validation_data=test_generator,\n",
        "                    epochs=20, batch_size=32,\n",
        "                    callbacks=callbacks,\n",
        "                    class_weight=class_weight_dict)\n",
        "\n",
        "plt.figure(figsize=(12, 4))\n",
        "plt.subplot(1, 2, 1)\n",
        "plt.plot(history.history['accuracy'], label='Eğitim Doğruluğu')\n",
        "plt.plot(history.history['val_accuracy'], label='Doğrulama Doğruluğu')\n",
        "plt.title('Doğruluk')\n",
        "plt.xlabel('Epoch')\n",
        "plt.ylabel('Accuracy')\n",
        "plt.legend()\n",
        "\n",
        "plt.subplot(1, 2, 2)\n",
        "plt.plot(history.history['loss'], label='Eğitim Kaybı')\n",
        "plt.plot(history.history['val_loss'], label='Doğrulama Kaybı')\n",
        "plt.title('Kayıp')\n",
        "plt.xlabel('Epoch')\n",
        "plt.ylabel('Loss')\n",
        "plt.legend()\n",
        "plt.tight_layout()\n",
        "plt.show()\n",
        "\n",
        "y_true = []\n",
        "y_pred = []\n",
        "for i in range(len(test_generator)):\n",
        "    X, y = test_generator[i]\n",
        "    preds = model.predict(X)\n",
        "    y_true.extend(np.argmax(y, axis=1))\n",
        "    y_pred.extend(np.argmax(preds, axis=1))\n",
        "\n",
        "cm = confusion_matrix(y_true, y_pred)\n",
        "plt.figure(figsize=(8, 6))\n",
        "sns.heatmap(cm, annot=True, fmt='d', cmap='Blues', xticklabels=labels, yticklabels=labels)\n",
        "plt.xlabel('Tahmin Edilen')\n",
        "plt.ylabel('Gerçek')\n",
        "plt.title('Confusion Matrix')\n",
        "plt.show()\n",
        "\n",
        "print(\"Classification Report:\")\n",
        "print(classification_report(y_true, y_pred, target_names=labels))\n",
        "\n",
        "model.save('final_densenet_model_acc.h5')\n"
      ]
    },
    {
      "cell_type": "markdown",
      "metadata": {
        "id": "IyCqkYPGdSwe"
      },
      "source": [
        "FINAL RANDOM"
      ]
    },
    {
      "cell_type": "code",
      "execution_count": null,
      "metadata": {
        "id": "A-mq-UsSdT6F"
      },
      "outputs": [],
      "source": [
        "import os\n",
        "import numpy as np\n",
        "import matplotlib.pyplot as plt\n",
        "import seaborn as sns\n",
        "import tensorflow as tf\n",
        "from sklearn.metrics import classification_report, confusion_matrix, f1_score\n",
        "from sklearn.utils.class_weight import compute_class_weight\n",
        "from tensorflow.keras.models import Sequential\n",
        "from tensorflow.keras.layers import GlobalAveragePooling2D, Dense, Dropout, BatchNormalization\n",
        "from tensorflow.keras.applications import DenseNet121\n",
        "from tensorflow.keras.preprocessing.image import ImageDataGenerator\n",
        "from tensorflow.keras.optimizers import Adam\n",
        "from tensorflow.keras.callbacks import EarlyStopping, ModelCheckpoint\n",
        "import mplcyberpunk\n",
        "\n",
        "plt.style.use(\"cyberpunk\")\n",
        "\n",
        "def focal_loss(gamma=2.0, alpha=0.25):\n",
        "    def loss_fn(y_true, y_pred):\n",
        "        y_pred = tf.clip_by_value(y_pred, tf.keras.backend.epsilon(), 1. - tf.keras.backend.epsilon())\n",
        "        ce = -y_true * tf.math.log(y_pred)\n",
        "        weight = alpha * tf.pow(1 - y_pred, gamma)\n",
        "        fl = weight * ce\n",
        "        return tf.reduce_mean(fl, axis=-1)\n",
        "    return loss_fn\n",
        "\n",
        "physical_devices = tf.config.list_physical_devices('GPU')\n",
        "if physical_devices:\n",
        "    print(\"GPU bulundu:\", physical_devices)\n",
        "    tf.config.experimental.set_memory_growth(physical_devices[0], True)\n",
        "else:\n",
        "    print(\"GPU bulunamadı, CPU kullanılacak.\")\n",
        "\n",
        "train_dir = 'DataSets/Training'\n",
        "test_dir = 'DataSets/Testing'\n",
        "img_size = (224, 224)\n",
        "\n",
        "train_datagen = ImageDataGenerator(rescale=1./255,\n",
        "                                   rotation_range=20,\n",
        "                                   width_shift_range=0.2,\n",
        "                                   height_shift_range=0.2,\n",
        "                                   horizontal_flip=True)\n",
        "test_datagen = ImageDataGenerator(rescale=1./255)\n",
        "\n",
        "train_generator = train_datagen.flow_from_directory(\n",
        "    train_dir, target_size=img_size, batch_size=32, class_mode='categorical', shuffle=True)\n",
        "\n",
        "test_generator = test_datagen.flow_from_directory(\n",
        "    test_dir, target_size=img_size, batch_size=32, class_mode='categorical', shuffle=False)\n",
        "\n",
        "labels = list(train_generator.class_indices.keys())\n",
        "y_train_labels = train_generator.classes\n",
        "class_weights_array = compute_class_weight(class_weight='balanced', classes=np.unique(y_train_labels), y=y_train_labels)\n",
        "class_weight_dict = dict(enumerate(class_weights_array))\n",
        "\n",
        "learning_rate = 0.0007\n",
        "dropout_rate = 0.4\n",
        "units = 256\n",
        "batch_size = 32\n",
        "epochs = 10\n",
        "\n",
        "base_model = DenseNet121(weights='imagenet', include_top=False, input_shape=(224, 224, 3))\n",
        "base_model.trainable = True\n",
        "for layer in base_model.layers[:-20]:\n",
        "    layer.trainable = False\n",
        "\n",
        "model = Sequential([\n",
        "    base_model,\n",
        "    GlobalAveragePooling2D(),\n",
        "    BatchNormalization(),\n",
        "    Dense(units, activation='relu'),\n",
        "    Dropout(dropout_rate),\n",
        "    Dense(len(labels), activation='softmax')\n",
        "])\n",
        "\n",
        "model.compile(optimizer=Adam(learning_rate=learning_rate),\n",
        "              loss=focal_loss(gamma=2.0, alpha=0.25),\n",
        "              metrics=['accuracy'])\n",
        "\n",
        "early_stopping = EarlyStopping(monitor='val_loss', patience=5, restore_best_weights=True)\n",
        "checkpoint = ModelCheckpoint('random_densenet_f1.h5', monitor='val_accuracy', save_best_only=True, mode='max')\n",
        "callbacks = [early_stopping, checkpoint]\n",
        "\n",
        "history = model.fit(train_generator,\n",
        "                    validation_data=test_generator,\n",
        "                    epochs=epochs,\n",
        "                    batch_size=batch_size,\n",
        "                    callbacks=callbacks,\n",
        "                    class_weight=class_weight_dict)\n",
        "\n",
        "plt.figure(figsize=(12, 4))\n",
        "plt.subplot(1, 2, 1)\n",
        "plt.plot(history.history['accuracy'], label='Eğitim Doğruluğu')\n",
        "plt.plot(history.history['val_accuracy'], label='Doğrulama Doğruluğu')\n",
        "plt.title('Doğruluk')\n",
        "plt.xlabel('Epoch')\n",
        "plt.ylabel('Accuracy')\n",
        "plt.legend()\n",
        "\n",
        "plt.subplot(1, 2, 2)\n",
        "plt.plot(history.history['loss'], label='Eğitim Kaybı')\n",
        "plt.plot(history.history['val_loss'], label='Doğrulama Kaybı')\n",
        "plt.title('Kayıp')\n",
        "plt.xlabel('Epoch')\n",
        "plt.ylabel('Loss')\n",
        "plt.legend()\n",
        "plt.tight_layout()\n",
        "plt.show()\n",
        "\n",
        "y_true = []\n",
        "y_pred = []\n",
        "\n",
        "for i in range(len(test_generator)):\n",
        "    X, y = test_generator[i]\n",
        "    preds = model.predict(X)\n",
        "    y_true.extend(np.argmax(y, axis=1))\n",
        "    y_pred.extend(np.argmax(preds, axis=1))\n",
        "\n",
        "f1 = f1_score(y_true, y_pred, average='macro')\n",
        "print(f\"F1-score (macro): {f1:.4f}\")\n",
        "\n",
        "cm = confusion_matrix(y_true, y_pred)\n",
        "plt.figure(figsize=(8, 6))\n",
        "sns.heatmap(cm, annot=True, fmt='d', cmap='Blues', xticklabels=labels, yticklabels=labels)\n",
        "plt.xlabel('Tahmin Edilen')\n",
        "plt.ylabel('Gerçek')\n",
        "plt.title('Confusion Matrix')\n",
        "plt.show()\n",
        "\n",
        "print(\"Classification Report:\")\n",
        "print(classification_report(y_true, y_pred, target_names=labels))\n",
        "\n",
        "model.save('final_densenet_f1_random.h5')\n",
        "files.download('finalFixed_densenet_model.h5')"
      ]
    },
    {
      "cell_type": "markdown",
      "metadata": {
        "id": "3g7YY22Dy9p_"
      },
      "source": [
        "final f1"
      ]
    },
    {
      "cell_type": "code",
      "execution_count": 6,
      "metadata": {
        "colab": {
          "base_uri": "https://localhost:8080/",
          "height": 1000
        },
        "id": "qF79sluXy9Y1",
        "outputId": "cd6e251c-087c-4a17-e671-04fa0d08f038"
      },
      "outputs": [
        {
          "name": "stdout",
          "output_type": "stream",
          "text": [
            "Drive already mounted at /content/drive; to attempt to forcibly remount, call drive.mount(\"/content/drive\", force_remount=True).\n",
            "Klasör mevcut!\n"
          ]
        },
        {
          "name": "stderr",
          "output_type": "stream",
          "text": [
            "100%|██████████| 826/826 [00:05<00:00, 142.81it/s]\n",
            "100%|██████████| 395/395 [00:01<00:00, 197.67it/s]\n",
            "100%|██████████| 822/822 [00:05<00:00, 139.72it/s]\n",
            "100%|██████████| 827/827 [00:06<00:00, 128.29it/s]\n",
            "100%|██████████| 100/100 [00:00<00:00, 202.55it/s]\n",
            "100%|██████████| 105/105 [00:00<00:00, 232.73it/s]\n",
            "100%|██████████| 115/115 [00:00<00:00, 218.73it/s]\n",
            "100%|██████████| 74/74 [00:00<00:00, 161.13it/s]\n",
            "[I 2025-05-09 18:14:02,033] A new study created in memory with name: no-name-b453abd4-7747-45b7-af1a-fc2f06b45b58\n"
          ]
        },
        {
          "name": "stdout",
          "output_type": "stream",
          "text": [
            "\u001b[1m13/13\u001b[0m \u001b[32m━━━━━━━━━━━━━━━━━━━━\u001b[0m\u001b[37m\u001b[0m \u001b[1m20s\u001b[0m 851ms/step\n"
          ]
        },
        {
          "name": "stderr",
          "output_type": "stream",
          "text": [
            "[I 2025-05-09 18:30:15,680] Trial 0 finished with value: 0.6853891552268891 and parameters: {'learning_rate': 0.000871642035557259, 'dropout_rate': 0.44232606911598177, 'batch_size': 16, 'alpha': 0.3831453157535113, 'gamma': 2.843196897659915}. Best is trial 0 with value: 0.6853891552268891.\n"
          ]
        },
        {
          "name": "stdout",
          "output_type": "stream",
          "text": [
            "\u001b[1m13/13\u001b[0m \u001b[32m━━━━━━━━━━━━━━━━━━━━\u001b[0m\u001b[37m\u001b[0m \u001b[1m20s\u001b[0m 839ms/step\n"
          ]
        },
        {
          "name": "stderr",
          "output_type": "stream",
          "text": [
            "[I 2025-05-09 18:46:17,722] Trial 1 finished with value: 0.40120905431443993 and parameters: {'learning_rate': 2.985895985270896e-06, 'dropout_rate': 0.4038817805019894, 'batch_size': 16, 'alpha': 0.12673912343452687, 'gamma': 2.5858101378895877}. Best is trial 0 with value: 0.6853891552268891.\n"
          ]
        },
        {
          "name": "stdout",
          "output_type": "stream",
          "text": [
            "\u001b[1m13/13\u001b[0m \u001b[32m━━━━━━━━━━━━━━━━━━━━\u001b[0m\u001b[37m\u001b[0m \u001b[1m20s\u001b[0m 843ms/step\n"
          ]
        },
        {
          "name": "stderr",
          "output_type": "stream",
          "text": [
            "[I 2025-05-09 18:55:00,667] Trial 2 finished with value: 0.2783877000529691 and parameters: {'learning_rate': 1.9515241937247356e-06, 'dropout_rate': 0.520808935265059, 'batch_size': 32, 'alpha': 0.35779199167333764, 'gamma': 2.7167341694637015}. Best is trial 0 with value: 0.6853891552268891.\n"
          ]
        },
        {
          "name": "stdout",
          "output_type": "stream",
          "text": [
            "\u001b[1m13/13\u001b[0m \u001b[32m━━━━━━━━━━━━━━━━━━━━\u001b[0m\u001b[37m\u001b[0m \u001b[1m20s\u001b[0m 850ms/step\n"
          ]
        },
        {
          "name": "stderr",
          "output_type": "stream",
          "text": [
            "[I 2025-05-09 19:11:05,484] Trial 3 finished with value: 0.7524534857601535 and parameters: {'learning_rate': 4.7327306128842466e-05, 'dropout_rate': 0.3253973652130215, 'batch_size': 16, 'alpha': 0.39424057922077704, 'gamma': 1.8874888067012427}. Best is trial 3 with value: 0.7524534857601535.\n"
          ]
        },
        {
          "name": "stdout",
          "output_type": "stream",
          "text": [
            "\u001b[1m13/13\u001b[0m \u001b[32m━━━━━━━━━━━━━━━━━━━━\u001b[0m\u001b[37m\u001b[0m \u001b[1m21s\u001b[0m 870ms/step\n"
          ]
        },
        {
          "name": "stderr",
          "output_type": "stream",
          "text": [
            "[I 2025-05-09 19:27:19,093] Trial 4 finished with value: 0.45773147333860986 and parameters: {'learning_rate': 3.3399165147183512e-06, 'dropout_rate': 0.30608103677142445, 'batch_size': 16, 'alpha': 0.48926216348608265, 'gamma': 2.427983026800132}. Best is trial 3 with value: 0.7524534857601535.\n"
          ]
        },
        {
          "name": "stdout",
          "output_type": "stream",
          "text": [
            "\u001b[1m13/13\u001b[0m \u001b[32m━━━━━━━━━━━━━━━━━━━━\u001b[0m\u001b[37m\u001b[0m \u001b[1m20s\u001b[0m 842ms/step\n"
          ]
        },
        {
          "name": "stderr",
          "output_type": "stream",
          "text": [
            "[I 2025-05-09 19:36:03,039] Trial 5 finished with value: 0.3431944208990625 and parameters: {'learning_rate': 1.0408229399992555e-06, 'dropout_rate': 0.41405683728151016, 'batch_size': 32, 'alpha': 0.3807310512531249, 'gamma': 2.672470824226364}. Best is trial 3 with value: 0.7524534857601535.\n"
          ]
        },
        {
          "name": "stdout",
          "output_type": "stream",
          "text": [
            "\u001b[1m13/13\u001b[0m \u001b[32m━━━━━━━━━━━━━━━━━━━━\u001b[0m\u001b[37m\u001b[0m \u001b[1m20s\u001b[0m 848ms/step\n"
          ]
        },
        {
          "name": "stderr",
          "output_type": "stream",
          "text": [
            "[I 2025-05-09 19:52:10,230] Trial 6 finished with value: 0.36640678007872457 and parameters: {'learning_rate': 2.8697820453667987e-06, 'dropout_rate': 0.5786180897629045, 'batch_size': 16, 'alpha': 0.14504105213688046, 'gamma': 2.8857055806111136}. Best is trial 3 with value: 0.7524534857601535.\n"
          ]
        },
        {
          "name": "stdout",
          "output_type": "stream",
          "text": [
            "\u001b[1m13/13\u001b[0m \u001b[32m━━━━━━━━━━━━━━━━━━━━\u001b[0m\u001b[37m\u001b[0m \u001b[1m20s\u001b[0m 854ms/step\n"
          ]
        },
        {
          "name": "stderr",
          "output_type": "stream",
          "text": [
            "[I 2025-05-09 20:08:13,666] Trial 7 finished with value: 0.7407581927754289 and parameters: {'learning_rate': 0.00011902936472936329, 'dropout_rate': 0.41288248102185365, 'batch_size': 16, 'alpha': 0.4757677125656339, 'gamma': 1.799944960437596}. Best is trial 3 with value: 0.7524534857601535.\n"
          ]
        },
        {
          "name": "stdout",
          "output_type": "stream",
          "text": [
            "\u001b[1m13/13\u001b[0m \u001b[32m━━━━━━━━━━━━━━━━━━━━\u001b[0m\u001b[37m\u001b[0m \u001b[1m27s\u001b[0m 914ms/step\n"
          ]
        },
        {
          "name": "stderr",
          "output_type": "stream",
          "text": [
            "[I 2025-05-09 20:24:27,343] Trial 8 finished with value: 0.4226901955729565 and parameters: {'learning_rate': 5.080048929050906e-06, 'dropout_rate': 0.4669886357472401, 'batch_size': 16, 'alpha': 0.4690948154614095, 'gamma': 1.2532766761122884}. Best is trial 3 with value: 0.7524534857601535.\n"
          ]
        },
        {
          "name": "stdout",
          "output_type": "stream",
          "text": [
            "\u001b[1m13/13\u001b[0m \u001b[32m━━━━━━━━━━━━━━━━━━━━\u001b[0m\u001b[37m\u001b[0m \u001b[1m20s\u001b[0m 846ms/step\n"
          ]
        },
        {
          "name": "stderr",
          "output_type": "stream",
          "text": [
            "[I 2025-05-09 20:40:37,131] Trial 9 finished with value: 0.2401317825202974 and parameters: {'learning_rate': 1.1047428192755343e-06, 'dropout_rate': 0.40653495616685703, 'batch_size': 16, 'alpha': 0.14164067415477077, 'gamma': 2.6890719197932533}. Best is trial 3 with value: 0.7524534857601535.\n"
          ]
        },
        {
          "name": "stdout",
          "output_type": "stream",
          "text": [
            "En iyi hiperparametreler: {'learning_rate': 4.7327306128842466e-05, 'dropout_rate': 0.3253973652130215, 'batch_size': 16, 'alpha': 0.39424057922077704, 'gamma': 1.8874888067012427}\n",
            "Epoch 1/20\n",
            "\u001b[1m260/260\u001b[0m \u001b[32m━━━━━━━━━━━━━━━━━━━━\u001b[0m\u001b[37m\u001b[0m \u001b[1m0s\u001b[0m 312ms/step - accuracy: 0.4462 - loss: 5.5089"
          ]
        },
        {
          "name": "stderr",
          "output_type": "stream",
          "text": [
            "WARNING:absl:You are saving your model as an HDF5 file via `model.save()` or `keras.saving.save_model(model)`. This file format is considered legacy. We recommend using instead the native Keras format, e.g. `model.save('my_model.keras')` or `keras.saving.save_model(model, 'my_model.keras')`. \n"
          ]
        },
        {
          "name": "stdout",
          "output_type": "stream",
          "text": [
            "\b\b\b\b\b\b\b\b\b\b\b\b\b\b\b\b\b\b\b\b\b\b\b\b\b\b\b\b\b\b\b\b\b\b\b\b\b\b\b\b\b\b\b\b\b\b\b\b\b\b\b\b\b\b\b\b\b\b\b\b\b\b\b\b\b\b\b\b\b\b\b\b\b\b\b\b\r\u001b[1m260/260\u001b[0m \u001b[32m━━━━━━━━━━━━━━━━━━━━\u001b[0m\u001b[37m\u001b[0m \u001b[1m131s\u001b[0m 383ms/step - accuracy: 0.4467 - loss: 5.5073 - val_accuracy: 0.4797 - val_loss: 4.2984 - learning_rate: 4.7327e-05\n",
            "Epoch 2/20\n",
            "\u001b[1m260/260\u001b[0m \u001b[32m━━━━━━━━━━━━━━━━━━━━\u001b[0m\u001b[37m\u001b[0m \u001b[1m0s\u001b[0m 218ms/step - accuracy: 0.7597 - loss: 3.9529"
          ]
        },
        {
          "name": "stderr",
          "output_type": "stream",
          "text": [
            "WARNING:absl:You are saving your model as an HDF5 file via `model.save()` or `keras.saving.save_model(model)`. This file format is considered legacy. We recommend using instead the native Keras format, e.g. `model.save('my_model.keras')` or `keras.saving.save_model(model, 'my_model.keras')`. \n"
          ]
        },
        {
          "name": "stdout",
          "output_type": "stream",
          "text": [
            "\b\b\b\b\b\b\b\b\b\b\b\b\b\b\b\b\b\b\b\b\b\b\b\b\b\b\b\b\b\b\b\b\b\b\b\b\b\b\b\b\b\b\b\b\b\b\b\b\b\b\b\b\b\b\b\b\b\b\b\b\b\b\b\b\b\b\b\b\b\b\b\b\b\b\b\b\r\u001b[1m260/260\u001b[0m \u001b[32m━━━━━━━━━━━━━━━━━━━━\u001b[0m\u001b[37m\u001b[0m \u001b[1m58s\u001b[0m 223ms/step - accuracy: 0.7598 - loss: 3.9518 - val_accuracy: 0.5482 - val_loss: 3.0796 - learning_rate: 4.7327e-05\n",
            "Epoch 3/20\n",
            "\u001b[1m260/260\u001b[0m \u001b[32m━━━━━━━━━━━━━━━━━━━━\u001b[0m\u001b[37m\u001b[0m \u001b[1m0s\u001b[0m 221ms/step - accuracy: 0.8252 - loss: 2.8074"
          ]
        },
        {
          "name": "stderr",
          "output_type": "stream",
          "text": [
            "WARNING:absl:You are saving your model as an HDF5 file via `model.save()` or `keras.saving.save_model(model)`. This file format is considered legacy. We recommend using instead the native Keras format, e.g. `model.save('my_model.keras')` or `keras.saving.save_model(model, 'my_model.keras')`. \n"
          ]
        },
        {
          "name": "stdout",
          "output_type": "stream",
          "text": [
            "\b\b\b\b\b\b\b\b\b\b\b\b\b\b\b\b\b\b\b\b\b\b\b\b\b\b\b\b\b\b\b\b\b\b\b\b\b\b\b\b\b\b\b\b\b\b\b\b\b\b\b\b\b\b\b\b\b\b\b\b\b\b\b\b\b\b\b\b\b\b\b\b\b\b\b\b\r\u001b[1m260/260\u001b[0m \u001b[32m━━━━━━━━━━━━━━━━━━━━\u001b[0m\u001b[37m\u001b[0m \u001b[1m59s\u001b[0m 226ms/step - accuracy: 0.8253 - loss: 2.8065 - val_accuracy: 0.5787 - val_loss: 2.1729 - learning_rate: 4.7327e-05\n",
            "Epoch 4/20\n",
            "\u001b[1m260/260\u001b[0m \u001b[32m━━━━━━━━━━━━━━━━━━━━\u001b[0m\u001b[37m\u001b[0m \u001b[1m0s\u001b[0m 221ms/step - accuracy: 0.8549 - loss: 1.9651"
          ]
        },
        {
          "name": "stderr",
          "output_type": "stream",
          "text": [
            "WARNING:absl:You are saving your model as an HDF5 file via `model.save()` or `keras.saving.save_model(model)`. This file format is considered legacy. We recommend using instead the native Keras format, e.g. `model.save('my_model.keras')` or `keras.saving.save_model(model, 'my_model.keras')`. \n"
          ]
        },
        {
          "name": "stdout",
          "output_type": "stream",
          "text": [
            "\b\b\b\b\b\b\b\b\b\b\b\b\b\b\b\b\b\b\b\b\b\b\b\b\b\b\b\b\b\b\b\b\b\b\b\b\b\b\b\b\b\b\b\b\b\b\b\b\b\b\b\b\b\b\b\b\b\b\b\b\b\b\b\b\b\b\b\b\b\b\b\b\b\b\b\b\r\u001b[1m260/260\u001b[0m \u001b[32m━━━━━━━━━━━━━━━━━━━━\u001b[0m\u001b[37m\u001b[0m \u001b[1m58s\u001b[0m 226ms/step - accuracy: 0.8549 - loss: 1.9645 - val_accuracy: 0.6041 - val_loss: 1.5152 - learning_rate: 4.7327e-05\n",
            "Epoch 5/20\n",
            "\u001b[1m260/260\u001b[0m \u001b[32m━━━━━━━━━━━━━━━━━━━━\u001b[0m\u001b[37m\u001b[0m \u001b[1m0s\u001b[0m 221ms/step - accuracy: 0.8875 - loss: 1.3551"
          ]
        },
        {
          "name": "stderr",
          "output_type": "stream",
          "text": [
            "WARNING:absl:You are saving your model as an HDF5 file via `model.save()` or `keras.saving.save_model(model)`. This file format is considered legacy. We recommend using instead the native Keras format, e.g. `model.save('my_model.keras')` or `keras.saving.save_model(model, 'my_model.keras')`. \n"
          ]
        },
        {
          "name": "stdout",
          "output_type": "stream",
          "text": [
            "\b\b\b\b\b\b\b\b\b\b\b\b\b\b\b\b\b\b\b\b\b\b\b\b\b\b\b\b\b\b\b\b\b\b\b\b\b\b\b\b\b\b\b\b\b\b\b\b\b\b\b\b\b\b\b\b\b\b\b\b\b\b\b\b\b\b\b\b\b\b\b\b\b\b\b\b\r\u001b[1m260/260\u001b[0m \u001b[32m━━━━━━━━━━━━━━━━━━━━\u001b[0m\u001b[37m\u001b[0m \u001b[1m58s\u001b[0m 225ms/step - accuracy: 0.8875 - loss: 1.3547 - val_accuracy: 0.6371 - val_loss: 1.0465 - learning_rate: 4.7327e-05\n",
            "Epoch 6/20\n",
            "\u001b[1m260/260\u001b[0m \u001b[32m━━━━━━━━━━━━━━━━━━━━\u001b[0m\u001b[37m\u001b[0m \u001b[1m0s\u001b[0m 222ms/step - accuracy: 0.9083 - loss: 0.9220"
          ]
        },
        {
          "name": "stderr",
          "output_type": "stream",
          "text": [
            "WARNING:absl:You are saving your model as an HDF5 file via `model.save()` or `keras.saving.save_model(model)`. This file format is considered legacy. We recommend using instead the native Keras format, e.g. `model.save('my_model.keras')` or `keras.saving.save_model(model, 'my_model.keras')`. \n"
          ]
        },
        {
          "name": "stdout",
          "output_type": "stream",
          "text": [
            "\b\b\b\b\b\b\b\b\b\b\b\b\b\b\b\b\b\b\b\b\b\b\b\b\b\b\b\b\b\b\b\b\b\b\b\b\b\b\b\b\b\b\b\b\b\b\b\b\b\b\b\b\b\b\b\b\b\b\b\b\b\b\b\b\b\b\b\b\b\b\b\b\b\b\b\b\r\u001b[1m260/260\u001b[0m \u001b[32m━━━━━━━━━━━━━━━━━━━━\u001b[0m\u001b[37m\u001b[0m \u001b[1m59s\u001b[0m 226ms/step - accuracy: 0.9083 - loss: 0.9217 - val_accuracy: 0.6497 - val_loss: 0.7184 - learning_rate: 4.7327e-05\n",
            "Epoch 7/20\n",
            "\u001b[1m260/260\u001b[0m \u001b[32m━━━━━━━━━━━━━━━━━━━━\u001b[0m\u001b[37m\u001b[0m \u001b[1m0s\u001b[0m 222ms/step - accuracy: 0.9159 - loss: 0.6213"
          ]
        },
        {
          "name": "stderr",
          "output_type": "stream",
          "text": [
            "WARNING:absl:You are saving your model as an HDF5 file via `model.save()` or `keras.saving.save_model(model)`. This file format is considered legacy. We recommend using instead the native Keras format, e.g. `model.save('my_model.keras')` or `keras.saving.save_model(model, 'my_model.keras')`. \n"
          ]
        },
        {
          "name": "stdout",
          "output_type": "stream",
          "text": [
            "\b\b\b\b\b\b\b\b\b\b\b\b\b\b\b\b\b\b\b\b\b\b\b\b\b\b\b\b\b\b\b\b\b\b\b\b\b\b\b\b\b\b\b\b\b\b\b\b\b\b\b\b\b\b\b\b\b\b\b\b\b\b\b\b\b\b\b\b\b\b\b\b\b\b\b\b\r\u001b[1m260/260\u001b[0m \u001b[32m━━━━━━━━━━━━━━━━━━━━\u001b[0m\u001b[37m\u001b[0m \u001b[1m59s\u001b[0m 226ms/step - accuracy: 0.9159 - loss: 0.6211 - val_accuracy: 0.6701 - val_loss: 0.4918 - learning_rate: 4.7327e-05\n",
            "Epoch 8/20\n",
            "\u001b[1m260/260\u001b[0m \u001b[32m━━━━━━━━━━━━━━━━━━━━\u001b[0m\u001b[37m\u001b[0m \u001b[1m0s\u001b[0m 222ms/step - accuracy: 0.9268 - loss: 0.4147"
          ]
        },
        {
          "name": "stderr",
          "output_type": "stream",
          "text": [
            "WARNING:absl:You are saving your model as an HDF5 file via `model.save()` or `keras.saving.save_model(model)`. This file format is considered legacy. We recommend using instead the native Keras format, e.g. `model.save('my_model.keras')` or `keras.saving.save_model(model, 'my_model.keras')`. \n"
          ]
        },
        {
          "name": "stdout",
          "output_type": "stream",
          "text": [
            "\b\b\b\b\b\b\b\b\b\b\b\b\b\b\b\b\b\b\b\b\b\b\b\b\b\b\b\b\b\b\b\b\b\b\b\b\b\b\b\b\b\b\b\b\b\b\b\b\b\b\b\b\b\b\b\b\b\b\b\b\b\b\b\b\b\b\b\b\b\b\b\b\b\b\b\b\r\u001b[1m260/260\u001b[0m \u001b[32m━━━━━━━━━━━━━━━━━━━━\u001b[0m\u001b[37m\u001b[0m \u001b[1m59s\u001b[0m 227ms/step - accuracy: 0.9268 - loss: 0.4145 - val_accuracy: 0.6827 - val_loss: 0.3392 - learning_rate: 4.7327e-05\n",
            "Epoch 9/20\n",
            "\u001b[1m260/260\u001b[0m \u001b[32m━━━━━━━━━━━━━━━━━━━━\u001b[0m\u001b[37m\u001b[0m \u001b[1m0s\u001b[0m 222ms/step - accuracy: 0.9364 - loss: 0.2747"
          ]
        },
        {
          "name": "stderr",
          "output_type": "stream",
          "text": [
            "WARNING:absl:You are saving your model as an HDF5 file via `model.save()` or `keras.saving.save_model(model)`. This file format is considered legacy. We recommend using instead the native Keras format, e.g. `model.save('my_model.keras')` or `keras.saving.save_model(model, 'my_model.keras')`. \n"
          ]
        },
        {
          "name": "stdout",
          "output_type": "stream",
          "text": [
            "\b\b\b\b\b\b\b\b\b\b\b\b\b\b\b\b\b\b\b\b\b\b\b\b\b\b\b\b\b\b\b\b\b\b\b\b\b\b\b\b\b\b\b\b\b\b\b\b\b\b\b\b\b\b\b\b\b\b\b\b\b\b\b\b\b\b\b\b\b\b\b\b\b\b\b\b\r\u001b[1m260/260\u001b[0m \u001b[32m━━━━━━━━━━━━━━━━━━━━\u001b[0m\u001b[37m\u001b[0m \u001b[1m59s\u001b[0m 227ms/step - accuracy: 0.9364 - loss: 0.2746 - val_accuracy: 0.7056 - val_loss: 0.2371 - learning_rate: 4.7327e-05\n",
            "Epoch 10/20\n",
            "\u001b[1m260/260\u001b[0m \u001b[32m━━━━━━━━━━━━━━━━━━━━\u001b[0m\u001b[37m\u001b[0m \u001b[1m58s\u001b[0m 224ms/step - accuracy: 0.9467 - loss: 0.1822 - val_accuracy: 0.7030 - val_loss: 0.1708 - learning_rate: 4.7327e-05\n",
            "Epoch 11/20\n",
            "\u001b[1m260/260\u001b[0m \u001b[32m━━━━━━━━━━━━━━━━━━━━\u001b[0m\u001b[37m\u001b[0m \u001b[1m0s\u001b[0m 223ms/step - accuracy: 0.9459 - loss: 0.1217"
          ]
        },
        {
          "name": "stderr",
          "output_type": "stream",
          "text": [
            "WARNING:absl:You are saving your model as an HDF5 file via `model.save()` or `keras.saving.save_model(model)`. This file format is considered legacy. We recommend using instead the native Keras format, e.g. `model.save('my_model.keras')` or `keras.saving.save_model(model, 'my_model.keras')`. \n"
          ]
        },
        {
          "name": "stdout",
          "output_type": "stream",
          "text": [
            "\b\b\b\b\b\b\b\b\b\b\b\b\b\b\b\b\b\b\b\b\b\b\b\b\b\b\b\b\b\b\b\b\b\b\b\b\b\b\b\b\b\b\b\b\b\b\b\b\b\b\b\b\b\b\b\b\b\b\b\b\b\b\b\b\b\b\b\b\b\b\b\b\b\b\b\b\r\u001b[1m260/260\u001b[0m \u001b[32m━━━━━━━━━━━━━━━━━━━━\u001b[0m\u001b[37m\u001b[0m \u001b[1m59s\u001b[0m 228ms/step - accuracy: 0.9459 - loss: 0.1216 - val_accuracy: 0.7386 - val_loss: 0.1259 - learning_rate: 4.7327e-05\n",
            "Epoch 12/20\n",
            "\u001b[1m260/260\u001b[0m \u001b[32m━━━━━━━━━━━━━━━━━━━━\u001b[0m\u001b[37m\u001b[0m \u001b[1m0s\u001b[0m 221ms/step - accuracy: 0.9503 - loss: 0.0825"
          ]
        },
        {
          "name": "stderr",
          "output_type": "stream",
          "text": [
            "WARNING:absl:You are saving your model as an HDF5 file via `model.save()` or `keras.saving.save_model(model)`. This file format is considered legacy. We recommend using instead the native Keras format, e.g. `model.save('my_model.keras')` or `keras.saving.save_model(model, 'my_model.keras')`. \n"
          ]
        },
        {
          "name": "stdout",
          "output_type": "stream",
          "text": [
            "\b\b\b\b\b\b\b\b\b\b\b\b\b\b\b\b\b\b\b\b\b\b\b\b\b\b\b\b\b\b\b\b\b\b\b\b\b\b\b\b\b\b\b\b\b\b\b\b\b\b\b\b\b\b\b\b\b\b\b\b\b\b\b\b\b\b\b\b\b\b\b\b\b\b\b\b\r\u001b[1m260/260\u001b[0m \u001b[32m━━━━━━━━━━━━━━━━━━━━\u001b[0m\u001b[37m\u001b[0m \u001b[1m58s\u001b[0m 226ms/step - accuracy: 0.9503 - loss: 0.0824 - val_accuracy: 0.7487 - val_loss: 0.0948 - learning_rate: 4.7327e-05\n",
            "Epoch 13/20\n",
            "\u001b[1m260/260\u001b[0m \u001b[32m━━━━━━━━━━━━━━━━━━━━\u001b[0m\u001b[37m\u001b[0m \u001b[1m0s\u001b[0m 221ms/step - accuracy: 0.9579 - loss: 0.0568"
          ]
        },
        {
          "name": "stderr",
          "output_type": "stream",
          "text": [
            "WARNING:absl:You are saving your model as an HDF5 file via `model.save()` or `keras.saving.save_model(model)`. This file format is considered legacy. We recommend using instead the native Keras format, e.g. `model.save('my_model.keras')` or `keras.saving.save_model(model, 'my_model.keras')`. \n"
          ]
        },
        {
          "name": "stdout",
          "output_type": "stream",
          "text": [
            "\b\b\b\b\b\b\b\b\b\b\b\b\b\b\b\b\b\b\b\b\b\b\b\b\b\b\b\b\b\b\b\b\b\b\b\b\b\b\b\b\b\b\b\b\b\b\b\b\b\b\b\b\b\b\b\b\b\b\b\b\b\b\b\b\b\b\b\b\b\b\b\b\b\b\b\b\r\u001b[1m260/260\u001b[0m \u001b[32m━━━━━━━━━━━━━━━━━━━━\u001b[0m\u001b[37m\u001b[0m \u001b[1m58s\u001b[0m 226ms/step - accuracy: 0.9579 - loss: 0.0568 - val_accuracy: 0.7766 - val_loss: 0.0772 - learning_rate: 4.7327e-05\n",
            "Epoch 14/20\n",
            "\u001b[1m260/260\u001b[0m \u001b[32m━━━━━━━━━━━━━━━━━━━━\u001b[0m\u001b[37m\u001b[0m \u001b[1m0s\u001b[0m 222ms/step - accuracy: 0.9631 - loss: 0.0407"
          ]
        },
        {
          "name": "stderr",
          "output_type": "stream",
          "text": [
            "WARNING:absl:You are saving your model as an HDF5 file via `model.save()` or `keras.saving.save_model(model)`. This file format is considered legacy. We recommend using instead the native Keras format, e.g. `model.save('my_model.keras')` or `keras.saving.save_model(model, 'my_model.keras')`. \n"
          ]
        },
        {
          "name": "stdout",
          "output_type": "stream",
          "text": [
            "\b\b\b\b\b\b\b\b\b\b\b\b\b\b\b\b\b\b\b\b\b\b\b\b\b\b\b\b\b\b\b\b\b\b\b\b\b\b\b\b\b\b\b\b\b\b\b\b\b\b\b\b\b\b\b\b\b\b\b\b\b\b\b\b\b\b\b\b\b\b\b\b\b\b\b\b\r\u001b[1m260/260\u001b[0m \u001b[32m━━━━━━━━━━━━━━━━━━━━\u001b[0m\u001b[37m\u001b[0m \u001b[1m59s\u001b[0m 227ms/step - accuracy: 0.9631 - loss: 0.0406 - val_accuracy: 0.7843 - val_loss: 0.0662 - learning_rate: 4.7327e-05\n",
            "Epoch 15/20\n",
            "\u001b[1m260/260\u001b[0m \u001b[32m━━━━━━━━━━━━━━━━━━━━\u001b[0m\u001b[37m\u001b[0m \u001b[1m58s\u001b[0m 223ms/step - accuracy: 0.9650 - loss: 0.0313 - val_accuracy: 0.7716 - val_loss: 0.0582 - learning_rate: 4.7327e-05\n",
            "Epoch 16/20\n",
            "\u001b[1m260/260\u001b[0m \u001b[32m━━━━━━━━━━━━━━━━━━━━\u001b[0m\u001b[37m\u001b[0m \u001b[1m59s\u001b[0m 226ms/step - accuracy: 0.9697 - loss: 0.0249 - val_accuracy: 0.7766 - val_loss: 0.0534 - learning_rate: 4.7327e-05\n",
            "Epoch 17/20\n",
            "\u001b[1m260/260\u001b[0m \u001b[32m━━━━━━━━━━━━━━━━━━━━\u001b[0m\u001b[37m\u001b[0m \u001b[1m0s\u001b[0m 224ms/step - accuracy: 0.9787 - loss: 0.0205"
          ]
        },
        {
          "name": "stderr",
          "output_type": "stream",
          "text": [
            "WARNING:absl:You are saving your model as an HDF5 file via `model.save()` or `keras.saving.save_model(model)`. This file format is considered legacy. We recommend using instead the native Keras format, e.g. `model.save('my_model.keras')` or `keras.saving.save_model(model, 'my_model.keras')`. \n"
          ]
        },
        {
          "name": "stdout",
          "output_type": "stream",
          "text": [
            "\b\b\b\b\b\b\b\b\b\b\b\b\b\b\b\b\b\b\b\b\b\b\b\b\b\b\b\b\b\b\b\b\b\b\b\b\b\b\b\b\b\b\b\b\b\b\b\b\b\b\b\b\b\b\b\b\b\b\b\b\b\b\b\b\b\b\b\b\b\b\b\b\b\b\b\b\r\u001b[1m260/260\u001b[0m \u001b[32m━━━━━━━━━━━━━━━━━━━━\u001b[0m\u001b[37m\u001b[0m \u001b[1m59s\u001b[0m 229ms/step - accuracy: 0.9787 - loss: 0.0205 - val_accuracy: 0.7868 - val_loss: 0.0497 - learning_rate: 4.7327e-05\n",
            "Epoch 18/20\n",
            "\u001b[1m260/260\u001b[0m \u001b[32m━━━━━━━━━━━━━━━━━━━━\u001b[0m\u001b[37m\u001b[0m \u001b[1m0s\u001b[0m 222ms/step - accuracy: 0.9745 - loss: 0.0184"
          ]
        },
        {
          "name": "stderr",
          "output_type": "stream",
          "text": [
            "WARNING:absl:You are saving your model as an HDF5 file via `model.save()` or `keras.saving.save_model(model)`. This file format is considered legacy. We recommend using instead the native Keras format, e.g. `model.save('my_model.keras')` or `keras.saving.save_model(model, 'my_model.keras')`. \n"
          ]
        },
        {
          "name": "stdout",
          "output_type": "stream",
          "text": [
            "\b\b\b\b\b\b\b\b\b\b\b\b\b\b\b\b\b\b\b\b\b\b\b\b\b\b\b\b\b\b\b\b\b\b\b\b\b\b\b\b\b\b\b\b\b\b\b\b\b\b\b\b\b\b\b\b\b\b\b\b\b\b\b\b\b\b\b\b\b\b\b\b\b\b\b\b\r\u001b[1m260/260\u001b[0m \u001b[32m━━━━━━━━━━━━━━━━━━━━\u001b[0m\u001b[37m\u001b[0m \u001b[1m59s\u001b[0m 227ms/step - accuracy: 0.9745 - loss: 0.0184 - val_accuracy: 0.7970 - val_loss: 0.0464 - learning_rate: 4.7327e-05\n",
            "Epoch 19/20\n",
            "\u001b[1m260/260\u001b[0m \u001b[32m━━━━━━━━━━━━━━━━━━━━\u001b[0m\u001b[37m\u001b[0m \u001b[1m58s\u001b[0m 223ms/step - accuracy: 0.9734 - loss: 0.0168 - val_accuracy: 0.7893 - val_loss: 0.0469 - learning_rate: 4.7327e-05\n",
            "Epoch 20/20\n",
            "\u001b[1m260/260\u001b[0m \u001b[32m━━━━━━━━━━━━━━━━━━━━\u001b[0m\u001b[37m\u001b[0m \u001b[1m58s\u001b[0m 225ms/step - accuracy: 0.9788 - loss: 0.0159 - val_accuracy: 0.7817 - val_loss: 0.0442 - learning_rate: 4.7327e-05\n",
            "\u001b[1m13/13\u001b[0m \u001b[32m━━━━━━━━━━━━━━━━━━━━\u001b[0m\u001b[37m\u001b[0m \u001b[1m21s\u001b[0m 874ms/step\n",
            "Sınıflandırma Raporu:\n",
            "                  precision    recall  f1-score   support\n",
            "\n",
            "    glioma_tumor       1.00      0.34      0.51       100\n",
            "        no_tumor       0.70      1.00      0.83       105\n",
            "meningioma_tumor       0.73      0.90      0.81       115\n",
            " pituitary_tumor       0.94      0.88      0.91        74\n",
            "\n",
            "        accuracy                           0.78       394\n",
            "       macro avg       0.84      0.78      0.76       394\n",
            "    weighted avg       0.83      0.78      0.76       394\n",
            "\n"
          ]
        },
        {
          "name": "stderr",
          "output_type": "stream",
          "text": [
            "WARNING:absl:You are saving your model as an HDF5 file via `model.save()` or `keras.saving.save_model(model)`. This file format is considered legacy. We recommend using instead the native Keras format, e.g. `model.save('my_model.keras')` or `keras.saving.save_model(model, 'my_model.keras')`. \n"
          ]
        },
        {
          "data": {
            "application/javascript": "\n    async function download(id, filename, size) {\n      if (!google.colab.kernel.accessAllowed) {\n        return;\n      }\n      const div = document.createElement('div');\n      const label = document.createElement('label');\n      label.textContent = `Downloading \"${filename}\": `;\n      div.appendChild(label);\n      const progress = document.createElement('progress');\n      progress.max = size;\n      div.appendChild(progress);\n      document.body.appendChild(div);\n\n      const buffers = [];\n      let downloaded = 0;\n\n      const channel = await google.colab.kernel.comms.open(id);\n      // Send a message to notify the kernel that we're ready.\n      channel.send({})\n\n      for await (const message of channel.messages) {\n        // Send a message to notify the kernel that we're ready.\n        channel.send({})\n        if (message.buffers) {\n          for (const buffer of message.buffers) {\n            buffers.push(buffer);\n            downloaded += buffer.byteLength;\n            progress.value = downloaded;\n          }\n        }\n      }\n      const blob = new Blob(buffers, {type: 'application/binary'});\n      const a = document.createElement('a');\n      a.href = window.URL.createObjectURL(blob);\n      a.download = filename;\n      div.appendChild(a);\n      a.click();\n      div.remove();\n    }\n  ",
            "text/plain": [
              "<IPython.core.display.Javascript object>"
            ]
          },
          "metadata": {},
          "output_type": "display_data"
        },
        {
          "data": {
            "application/javascript": "download(\"download_501576f9-f978-4d95-a965-35906db74c45\", \"finalFixed_densenet_model.h5\", 37765464)",
            "text/plain": [
              "<IPython.core.display.Javascript object>"
            ]
          },
          "metadata": {},
          "output_type": "display_data"
        },
        {
          "data": {
            "image/png": "[encoded data removed]",
            "text/plain": [
              "<Figure size 800x600 with 2 Axes>"
            ]
          },
          "metadata": {},
          "output_type": "display_data"
        }
      ],
      "source": [
        "import os\n",
        "import numpy as np\n",
        "import pandas as pd\n",
        "import seaborn as sns\n",
        "import matplotlib.pyplot as plt\n",
        "import mplcyberpunk\n",
        "plt.style.use(\"cyberpunk\")\n",
        "import cv2\n",
        "import tensorflow as tf\n",
        "from sklearn.utils import shuffle\n",
        "from sklearn.model_selection import train_test_split\n",
        "from tensorflow.keras.models import Sequential\n",
        "from tensorflow.keras.layers import GlobalAveragePooling2D, Dropout, Dense, BatchNormalization\n",
        "from tensorflow.keras.callbacks import EarlyStopping, ReduceLROnPlateau, ModelCheckpoint\n",
        "from sklearn.metrics import classification_report, confusion_matrix, f1_score\n",
        "from tqdm import tqdm\n",
        "from tensorflow.keras.applications import DenseNet121\n",
        "from tensorflow.keras.applications.densenet import preprocess_input\n",
        "from tensorflow.keras.preprocessing.image import ImageDataGenerator\n",
        "import optuna\n",
        "from sklearn.utils.class_weight import compute_class_weight\n",
        "from warnings import filterwarnings\n",
        "filterwarnings('ignore')\n",
        "\n",
        "# Custom Focal Loss Implementation\n",
        "def focal_loss(gamma=2.0, alpha=0.25):\n",
        "    def focal_loss_fixed(y_true, y_pred):\n",
        "        y_pred = tf.clip_by_value(y_pred, tf.keras.backend.epsilon(), 1. - tf.keras.backend.epsilon())\n",
        "        cross_entropy = -y_true * tf.math.log(y_pred)\n",
        "        weight = alpha * y_true * tf.pow(1 - y_pred, gamma)\n",
        "        loss = weight * cross_entropy\n",
        "        return tf.reduce_mean(loss, axis=-1)\n",
        "    return focal_loss_fixed\n",
        "\n",
        "# Google Drive Mount\n",
        "from google.colab import drive\n",
        "drive.mount('/content/drive')\n",
        "\n",
        "# Check Dataset Directory\n",
        "directory_path = '/content/drive/MyDrive/YSA/'\n",
        "if not os.path.exists(directory_path):\n",
        "    print(\"Klasör mevcut değil.\")\n",
        "    exit()\n",
        "else:\n",
        "    print(\"Klasör mevcut!\")\n",
        "\n",
        "# Data Loading\n",
        "X_train = []\n",
        "y_train = []\n",
        "labels = ['glioma_tumor', 'no_tumor', 'meningioma_tumor', 'pituitary_tumor']\n",
        "image_size = 150\n",
        "\n",
        "for i in labels:\n",
        "    folderPath = os.path.join(directory_path, 'Training', i)\n",
        "    for j in tqdm(os.listdir(folderPath)):\n",
        "        img = cv2.imread(os.path.join(folderPath, j))\n",
        "        img = cv2.resize(img, (image_size, image_size))\n",
        "        X_train.append(img)\n",
        "        y_train.append(i)\n",
        "\n",
        "X_test = []\n",
        "y_test = []\n",
        "for i in labels:\n",
        "    folderPath = os.path.join(directory_path, 'Testing', i)\n",
        "    for j in tqdm(os.listdir(folderPath)):\n",
        "        img = cv2.imread(os.path.join(folderPath, j))\n",
        "        img = cv2.resize(img, (image_size, image_size))\n",
        "        X_test.append(img)\n",
        "        y_test.append(i)\n",
        "\n",
        "X_train = np.array(X_train)\n",
        "y_train = np.array(y_train)\n",
        "X_test = np.array(X_test)\n",
        "y_test = np.array(y_test)\n",
        "\n",
        "# Shuffle\n",
        "X_train, y_train = shuffle(X_train, y_train, random_state=101)\n",
        "\n",
        "# Oversampling\n",
        "y_train_new = [labels.index(i) for i in y_train]\n",
        "y_test_new = [labels.index(i) for i in y_test]\n",
        "\n",
        "for label in labels:\n",
        "    indices = [i for i, lbl in enumerate(y_train_new) if lbl == labels.index(label)]\n",
        "    oversampled_X = X_train[indices]\n",
        "    oversampled_y = y_train[indices]\n",
        "    if label == 'no_tumor':\n",
        "        X_train = np.concatenate([X_train, oversampled_X[:int(len(indices) * 0.8)]])\n",
        "        y_train = np.concatenate([y_train, oversampled_y[:int(len(indices) * 0.8)]])\n",
        "    elif label == 'glioma_tumor':\n",
        "        X_train = np.concatenate([X_train, oversampled_X[:int(len(indices) * 0.6)]])\n",
        "        y_train = np.concatenate([y_train, oversampled_y[:int(len(indices) * 0.6)]])\n",
        "    else:\n",
        "        X_train = np.concatenate([X_train, oversampled_X[:int(len(indices) * 0.3)]])\n",
        "        y_train = np.concatenate([y_train, oversampled_y[:int(len(indices) * 0.3)]])\n",
        "\n",
        "# Encode Labels\n",
        "y_train_new = [labels.index(i) for i in y_train]\n",
        "y_train = tf.keras.utils.to_categorical(y_train_new)\n",
        "y_test = tf.keras.utils.to_categorical(y_test_new)\n",
        "\n",
        "# Class Weights\n",
        "class_weights = compute_class_weight('balanced', classes=np.unique(y_train_new), y=y_train_new)\n",
        "class_weight_dict = dict(enumerate(class_weights))\n",
        "class_weight_dict[labels.index('glioma_tumor')] *= 2.0\n",
        "class_weight_dict[labels.index('no_tumor')] *= 1.5\n",
        "class_weight_dict[labels.index('meningioma_tumor')] *= 1.2\n",
        "class_weight_dict[labels.index('pituitary_tumor')] *= 1.2\n",
        "\n",
        "sample_weights = np.array([class_weight_dict[label] for label in y_train_new])\n",
        "\n",
        "# Data Augmentation\n",
        "glioma_datagen = ImageDataGenerator(\n",
        "    rotation_range=20, width_shift_range=0.2, height_shift_range=0.2,\n",
        "    shear_range=0.2, zoom_range=0.2, horizontal_flip=True,\n",
        "    fill_mode='nearest', preprocessing_function=preprocess_input\n",
        ")\n",
        "\n",
        "datagen = ImageDataGenerator(\n",
        "    rotation_range=15, width_shift_range=0.1, height_shift_range=0.1,\n",
        "    shear_range=0.1, zoom_range=0.1, horizontal_flip=True,\n",
        "    fill_mode='nearest', preprocessing_function=preprocess_input\n",
        ")\n",
        "\n",
        "train_generator = datagen.flow(X_train, y_train, batch_size=32, sample_weight=sample_weights)\n",
        "glioma_indices = [i for i, label in enumerate(y_train_new) if label == labels.index('glioma_tumor')]\n",
        "glioma_X = X_train[glioma_indices]\n",
        "glioma_y = y_train[glioma_indices]\n",
        "glioma_sample_weights = sample_weights[glioma_indices]\n",
        "glioma_generator = glioma_datagen.flow(glioma_X, glioma_y, batch_size=16, sample_weight=glioma_sample_weights)\n",
        "\n",
        "def combined_generator(generator1, generator2):\n",
        "    while True:\n",
        "        batch1 = next(generator1)\n",
        "        batch2 = next(generator2)\n",
        "        min_batch_size = min(batch1[0].shape[0], batch2[0].shape[0])\n",
        "        combined_X = np.concatenate([batch1[0][:min_batch_size], batch2[0][:min_batch_size]], axis=0)\n",
        "        combined_y = np.concatenate([batch1[1][:min_batch_size], batch2[1][:min_batch_size]], axis=0)\n",
        "        combined_weights = np.concatenate([batch1[2][:min_batch_size], batch2[2][:min_batch_size]], axis=0)\n",
        "        yield combined_X, combined_y, combined_weights\n",
        "\n",
        "train_generator = combined_generator(train_generator, glioma_generator)\n",
        "test_datagen = ImageDataGenerator(preprocessing_function=preprocess_input)\n",
        "test_generator = test_datagen.flow(X_test, y_test, batch_size=32, shuffle=False)\n",
        "\n",
        "# Optuna HPO - F1 macro ile\n",
        "def objective(trial):\n",
        "    learning_rate = trial.suggest_float(\"learning_rate\", 1e-6, 1e-3, log=True)\n",
        "    dropout_rate = trial.suggest_float(\"dropout_rate\", 0.3, 0.6)\n",
        "    batch_size = trial.suggest_categorical(\"batch_size\", [16, 32])\n",
        "    alpha = trial.suggest_float(\"alpha\", 0.1, 0.5)\n",
        "    gamma = trial.suggest_float(\"gamma\", 1.0, 3.0)\n",
        "\n",
        "    base_model = DenseNet121(weights='imagenet', include_top=False, input_shape=(image_size, image_size, 3))\n",
        "    base_model.trainable = True\n",
        "    for layer in base_model.layers[:-30]:\n",
        "        layer.trainable = False\n",
        "\n",
        "    model = Sequential([\n",
        "        base_model,\n",
        "        GlobalAveragePooling2D(),\n",
        "        BatchNormalization(),\n",
        "        Dense(256, activation='relu', kernel_regularizer=tf.keras.regularizers.l2(0.01)),\n",
        "        Dropout(dropout_rate),\n",
        "        Dense(128, activation='relu', kernel_regularizer=tf.keras.regularizers.l2(0.01)),\n",
        "        Dropout(dropout_rate),\n",
        "        Dense(len(labels), activation='softmax')\n",
        "    ])\n",
        "\n",
        "    model.compile(\n",
        "        optimizer=tf.keras.optimizers.Adam(learning_rate=learning_rate),\n",
        "        loss=focal_loss(gamma=gamma, alpha=alpha),\n",
        "        metrics=['accuracy']\n",
        "    )\n",
        "\n",
        "    model.fit(\n",
        "        train_generator,\n",
        "        validation_data=test_generator,\n",
        "        epochs=15,\n",
        "        steps_per_epoch=len(X_train) // batch_size,\n",
        "        validation_steps=len(X_test) // batch_size,\n",
        "        verbose=0\n",
        "    )\n",
        "\n",
        "    y_pred = model.predict(test_generator)\n",
        "    y_pred_classes = np.argmax(y_pred, axis=1)\n",
        "    y_true_classes = np.argmax(y_test, axis=1)\n",
        "\n",
        "    f1 = f1_score(y_true_classes, y_pred_classes, average='macro')\n",
        "    return f1\n",
        "\n",
        "study = optuna.create_study(direction=\"maximize\")\n",
        "study.optimize(objective, n_trials=10)\n",
        "best_params = study.best_params\n",
        "print(\"En iyi hiperparametreler:\", best_params)\n",
        "\n",
        "# Final Model Eğitimi\n",
        "learning_rate = best_params['learning_rate']\n",
        "dropout_rate = best_params['dropout_rate']\n",
        "batch_size = best_params['batch_size']\n",
        "alpha = best_params['alpha']\n",
        "gamma = best_params['gamma']\n",
        "\n",
        "base_model = DenseNet121(weights='imagenet', include_top=False, input_shape=(image_size, image_size, 3))\n",
        "base_model.trainable = True\n",
        "for layer in base_model.layers[:-30]:\n",
        "    layer.trainable = False\n",
        "\n",
        "model = Sequential([\n",
        "    base_model,\n",
        "    GlobalAveragePooling2D(),\n",
        "    BatchNormalization(),\n",
        "    Dense(256, activation='relu', kernel_regularizer=tf.keras.regularizers.l2(0.01)),\n",
        "    Dropout(dropout_rate),\n",
        "    Dense(128, activation='relu', kernel_regularizer=tf.keras.regularizers.l2(0.01)),\n",
        "    Dropout(dropout_rate),\n",
        "    Dense(len(labels), activation='softmax')\n",
        "])\n",
        "\n",
        "model.compile(\n",
        "    optimizer=tf.keras.optimizers.Adam(learning_rate=learning_rate),\n",
        "    loss=focal_loss(gamma=gamma, alpha=alpha),\n",
        "    metrics=['accuracy']\n",
        ")\n",
        "\n",
        "early_stopping = EarlyStopping(monitor='val_loss', patience=5, restore_best_weights=True)\n",
        "reduce_lr = ReduceLROnPlateau(monitor='val_loss', factor=0.2, patience=3, min_lr=1e-6)\n",
        "checkpoint = ModelCheckpoint('best_model_densenet_final.h5', monitor='val_accuracy', save_best_only=True, mode='max')\n",
        "\n",
        "history = model.fit(\n",
        "    train_generator,\n",
        "    validation_data=test_generator,\n",
        "    epochs=20,\n",
        "    steps_per_epoch=len(X_train) // batch_size,\n",
        "    validation_steps=len(X_test) // batch_size,\n",
        "    callbacks=[early_stopping, reduce_lr, checkpoint]\n",
        ")\n",
        "\n",
        "# Evaluation\n",
        "y_pred = model.predict(test_generator)\n",
        "y_pred_classes = np.argmax(y_pred, axis=1)\n",
        "y_true_classes = np.argmax(y_test, axis=1)\n",
        "\n",
        "print(\"Sınıflandırma Raporu:\")\n",
        "print(classification_report(y_true_classes, y_pred_classes, target_names=labels))\n",
        "\n",
        "cm = confusion_matrix(y_true_classes, y_pred_classes)\n",
        "plt.figure(figsize=(8, 6))\n",
        "sns.heatmap(cm, annot=True, fmt='d', cmap='Blues', xticklabels=labels, yticklabels=labels)\n",
        "plt.title('Confusion Matrix')\n",
        "plt.xlabel('Predicted')\n",
        "plt.ylabel('True')\n",
        "plt.savefig('confusion_matrix_densenet.png')\n",
        "\n",
        "model.save('finalFixed_densenet_model.h5')\n",
        "from google.colab import files\n",
        "files.download('finalFixed_densenet_model.h5')"
      ]
    },
    {
      "cell_type": "code",
      "execution_count": 7,
      "metadata": {
        "colab": {
          "base_uri": "https://localhost:8080/",
          "height": 507
        },
        "id": "ALHwVUVJ6Kxl",
        "outputId": "074a975f-0dab-4163-988b-2fbf73d8d533"
      },
      "outputs": [
        {
          "data": {
            "image/png": "[encoded data removed]",
            "text/plain": [
              "<Figure size 800x500 with 1 Axes>"
            ]
          },
          "metadata": {},
          "output_type": "display_data"
        }
      ],
      "source": [
        "plt.figure(figsize=(8, 5))\n",
        "plt.plot(history.history['loss'], label='Eğitim Kaybı')\n",
        "plt.plot(history.history['val_loss'], label='Doğrulama Kaybı')\n",
        "plt.title('Eğitim vs Doğrulama Kayıp Grafiği')\n",
        "plt.xlabel('Epoch')\n",
        "plt.ylabel('Kayıp (Loss)')\n",
        "plt.legend()\n",
        "plt.grid(True)\n",
        "plt.tight_layout()\n",
        "plt.show()"
      ]
    }
  ],
  "metadata": {
    "accelerator": "GPU",
    "colab": {
      "gpuType": "L4",
      "machine_shape": "hm",
      "provenance": []
    },
    "kernelspec": {
      "display_name": "Python 3",
      "name": "python3"
    },
    "language_info": {
      "name": "python"
    }
  },
  "nbformat": 4,
  "nbformat_minor": 0
}
